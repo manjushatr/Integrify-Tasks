{
  "cells": [
    {
      "attachments": {},
      "cell_type": "markdown",
      "metadata": {
        "id": "Ged94yWHs9IR"
      },
      "source": [
        "# **LinkedIn Web Scraping Tool**"
      ]
    },
    {
      "attachments": {},
      "cell_type": "markdown",
      "metadata": {
        "id": "sd3Pd-j6tIAb"
      },
      "source": [
        "**Importing libraries**"
      ]
    },
    {
      "cell_type": "code",
      "execution_count": 8,
      "metadata": {
        "id": "ZCEJE9bds6EI"
      },
      "outputs": [],
      "source": [
        "from selenium import webdriver\n",
        "from selenium.webdriver.common.keys import Keys\n",
        "from selenium.webdriver.common.by import By\n",
        "from selenium.webdriver.support.ui import WebDriverWait\n",
        "from selenium.webdriver.support import expected_conditions as EC\n",
        "from selenium import webdriver\n",
        "from bs4 import BeautifulSoup as bs\n",
        "import re as re\n",
        "import time\n",
        "import pandas as pd"
      ]
    },
    {
      "attachments": {},
      "cell_type": "markdown",
      "metadata": {
        "id": "39euMfnrtZbR"
      },
      "source": [
        "**Establishing LinkedIn job openings in Madrid page as the url to scrape:**"
      ]
    },
    {
      "cell_type": "code",
      "execution_count": 2,
      "metadata": {
        "id": "tkL_XF2qs6cc"
      },
      "outputs": [],
      "source": [
        "url = 'https://www.linkedin.com/jobs/search/?currentJobId=3584781384&geoId=105117694&keywords=Data%20Science&location=Sweden&refresh=true'"
      ]
    },
    {
      "attachments": {},
      "cell_type": "markdown",
      "metadata": {
        "id": "_ldEVZzAtrlY"
      },
      "source": [
        "**Setting path and creating web driver**"
      ]
    },
    {
      "cell_type": "code",
      "execution_count": 3,
      "metadata": {
        "colab": {
          "base_uri": "https://localhost:8080/"
        },
        "id": "BZLW0rrGylMk",
        "outputId": "f06352c8-a472-4d43-9317-25d458aef033"
      },
      "outputs": [
        {
          "name": "stdout",
          "output_type": "stream",
          "text": [
            "c:\\Python310;c:\\Users\\Manjusha\\AppData\\Roaming\\Python\\Python310\\Scripts;C:\\Python310\\Scripts\\;C:\\Python310\\;C:\\WINDOWS\\system32;C:\\WINDOWS;C:\\WINDOWS\\System32\\Wbem;C:\\WINDOWS\\System32\\WindowsPowerShell\\v1.0\\;C:\\WINDOWS\\System32\\OpenSSH\\;C:\\Users\\Manjusha\\.dnx\\bin;C:\\Program Files\\Microsoft DNX\\Dnvm\\;C:\\Program Files\\Microsoft SQL Server\\Client SDK\\ODBC\\110\\Tools\\Binn\\;C:\\Program Files (x86)\\Microsoft SQL Server\\120\\DTS\\Binn\\;C:\\Program Files\\dotnet\\;C:\\Program Files\\Microsoft SQL Server\\130\\Tools\\Binn\\;C:\\Program Files\\Microsoft SQL Server\\Client SDK\\ODBC\\170\\Tools\\Binn\\;C:\\Program Files\\Git\\cmd;C:\\Program Files\\nodejs\\;C:\\ProgramData\\chocolatey\\bin;C:\\Program Files (x86)\\Microsoft SQL Server\\110\\DTS\\Binn\\;C:\\Program Files (x86)\\Microsoft SQL Server\\130\\DTS\\Binn\\;C:\\Program Files (x86)\\Microsoft SQL Server\\140\\DTS\\Binn\\;C:\\Program Files (x86)\\Microsoft SQL Server\\150\\DTS\\Binn\\;C:\\Program Files\\Microsoft SQL Server\\Client SDK\\ODBC\\130\\Tools\\Binn\\;C:\\Program Files (x86)\\Microsoft SQL Server\\140\\Tools\\Binn\\;C:\\Program Files\\Microsoft SQL Server\\140\\Tools\\Binn\\;C:\\Program Files\\Microsoft SQL Server\\140\\DTS\\Binn\\;C:\\Program Files\\Azure Data Studio\\bin;C:\\WINDOWS\\system32;C:\\WINDOWS;C:\\WINDOWS\\System32\\Wbem;C:\\WINDOWS\\System32\\WindowsPowerShell\\v1.0\\;C:\\WINDOWS\\System32\\OpenSSH\\;C:\\Users\\Manjusha\\AppData\\Local\\Microsoft\\WindowsApps;C:\\Users\\Manjusha\\.dotnet\\tools;C:\\Users\\Manjusha\\AppData\\Local\\Programs\\Microsoft VS Code\\bin;C:\\Users\\Manjusha\\AppData\\Roaming\\npm;C:\\Program Files\\Azure Data Studio\\bin;;C:\\Python310\\Scripts\\;C:\\Python310\\;C:\\WINDOWS\\system32;C:\\WINDOWS;C:\\WINDOWS\\System32\\Wbem;C:\\WINDOWS\\System32\\WindowsPowerShell\\v1.0\\;C:\\WINDOWS\\System32\\OpenSSH\\;C:\\Users\\Manjusha\\.dnx\\bin;C:\\Program Files\\Microsoft DNX\\Dnvm\\;C:\\Program Files\\Microsoft SQL Server\\Client SDK\\ODBC\\110\\Tools\\Binn\\;C:\\Program Files (x86)\\Microsoft SQL Server\\120\\DTS\\Binn\\;C:\\Program Files\\dotnet\\;C:\\Program Files\\Microsoft SQL Server\\130\\Tools\\Binn\\;C:\\Program Files\\Microsoft SQL Server\\Client SDK\\ODBC\\170\\Tools\\Binn\\;C:\\Program Files\\Git\\cmd;C:\\Program Files\\nodejs\\;C:\\ProgramData\\chocolatey\\bin;C:\\Program Files (x86)\\Microsoft SQL Server\\110\\DTS\\Binn\\;C:\\Program Files (x86)\\Microsoft SQL Server\\130\\DTS\\Binn\\;C:\\Program Files (x86)\\Microsoft SQL Server\\140\\DTS\\Binn\\;C:\\Program Files (x86)\\Microsoft SQL Server\\150\\DTS\\Binn\\;C:\\Program Files\\Microsoft SQL Server\\Client SDK\\ODBC\\130\\Tools\\Binn\\;C:\\Program Files (x86)\\Microsoft SQL Server\\140\\Tools\\Binn\\;C:\\Program Files\\Microsoft SQL Server\\140\\Tools\\Binn\\;C:\\Program Files\\Microsoft SQL Server\\140\\DTS\\Binn\\;C:\\Program Files\\Azure Data Studio\\bin;C:\\WINDOWS\\system32;C:\\WINDOWS;C:\\WINDOWS\\System32\\Wbem;C:\\WINDOWS\\System32\\WindowsPowerShell\\v1.0\\;C:\\WINDOWS\\System32\\OpenSSH\\;C:\\Users\\Manjusha\\AppData\\Local\\Microsoft\\WindowsApps;C:\\Users\\Manjusha\\.dotnet\\tools;C:\\Users\\Manjusha\\AppData\\Local\\Programs\\Microsoft VS Code\\bin;C:\\Users\\Manjusha\\AppData\\Roaming\\npm;C:\\Program Files\\Azure Data Studio\\bin;\n"
          ]
        }
      ],
      "source": [
        "import os\n",
        "print(os.environ['PATH'])"
      ]
    },
    {
      "cell_type": "code",
      "execution_count": 4,
      "metadata": {
        "id": "UjB8J1L8s6kT"
      },
      "outputs": [
        {
          "name": "stderr",
          "output_type": "stream",
          "text": [
            "C:\\Users\\Manjusha\\AppData\\Local\\Temp\\ipykernel_20688\\769596554.py:2: DeprecationWarning: executable_path has been deprecated, please pass in a Service object\n",
            "  driver = webdriver.Chrome(PATH)\n"
          ]
        }
      ],
      "source": [
        "PATH = \"D:\\softwares\\chromedriver_win32\"\n",
        "driver = webdriver.Chrome(PATH)\n",
        "\n",
        "driver.get(url)"
      ]
    },
    {
      "attachments": {},
      "cell_type": "markdown",
      "metadata": {
        "id": "eURN6ruzuLq4"
      },
      "source": [
        "**First element we want to retrieve is the number of listed internship/entry level Data** **Science jobs in Madrid on LinkedIn:**\n"
      ]
    },
    {
      "cell_type": "code",
      "execution_count": 13,
      "metadata": {
        "id": "dRAMB1_yt1jJ"
      },
      "outputs": [
        {
          "name": "stdout",
          "output_type": "stream",
          "text": [
            "Get job alerts for this search\n",
            "Off\n",
            "1,480 job results for Data Science\n",
            "Data EngineerPromoted\n",
            "Signific\n",
            "Stockholm County, Sweden\n",
            "2w\n",
            "Save job\n",
            "Data EngineerPromoted\n",
            "Humly\n",
            "Gothenburg, Vastra Gotaland County, Sweden\n",
            "4mo\n",
            "Save job\n",
            "Data EngineerPromoted\n",
            "Volvo Cars\n",
            "Stockholm, Stockholm County, Sweden\n",
            "1w\n",
            "Save job\n",
            "Data Engineer (f/m/d)Promoted\n",
            "Essity\n",
            "Göteborg, Vastra Gotaland County, Sweden\n",
            "2d\n",
            "Save job\n",
            "Data Analyst\n",
            "Ubiquiti Inc.\n",
            "Stockholm, Stockholm County, Sweden\n",
            "1w\n",
            "Save job\n",
            "Data EngineerPromoted\n",
            "Futurice\n",
            "Stockholm County, Sweden\n",
            "3w\n",
            "Save job\n",
            "Data EngineerPromoted\n",
            "Nexer Group\n",
            "Gothenburg, Vastra Gotaland County, Sweden\n",
            "2w\n",
            "Save job\n",
            "Data EngineerPromoted\n",
            "B3 Consulting Group\n",
            "Gothenburg, Vastra Gotaland County, Sweden\n",
            "2w\n",
            "Save job\n",
            "Analytics Developer - Tietoevry CreatePromoted\n",
            "Tietoevry\n",
            "Jönköping, Jonkoping County, Sweden\n",
            "5d\n",
            "Save job\n",
            "Databricks Data EngineerPromoted\n",
            "Capgemini\n",
            "Gothenburg, Vastra Gotaland County, Sweden\n",
            "1w\n",
            "Save job\n",
            "Toggle filters section\n",
            "0 Filters applied\n",
            "DATE POSTEDEXPERIENCELOCATIONINDUSTRYLINKEDIN FEATURES\n"
          ]
        }
      ],
      "source": [
        "no_of_jobs = driver.find_element(By.ID,'app-container').text\n",
        "print(no_of_jobs)\n",
        "\n"
      ]
    },
    {
      "attachments": {},
      "cell_type": "markdown",
      "metadata": {
        "id": "hjgaWKtKuhoY"
      },
      "source": [
        "**Auto-scrolling to make sure all job listings load on the page before it is scraped:**\n"
      ]
    },
    {
      "cell_type": "code",
      "execution_count": 15,
      "metadata": {
        "id": "t5B8GhdfuPTc"
      },
      "outputs": [],
      "source": [
        "i = 2\n",
        "while i <= int(100/25)+1:\n",
        "    driver.execute_script('window.scrollTo(0,document.body.scrollHeight);')\n",
        "    i = i + 1\n",
        "    try:\n",
        "        driver.find_element_by_xpath('/html/body/main/div/section/button').click()\n",
        "        time.sleep(5)\n",
        "    except:\n",
        "        pass\n",
        "        time.sleep(5)"
      ]
    },
    {
      "attachments": {},
      "cell_type": "markdown",
      "metadata": {
        "id": "o3Jm_fBfvXxt"
      },
      "source": [
        "**Now we can find all the jobs. I use the tag ‘jobs-search__results-list’ to find the job lists:**\n"
      ]
    },
    {
      "cell_type": "code",
      "execution_count": 26,
      "metadata": {
        "id": "XxnBd0EtvQcn"
      },
      "outputs": [],
      "source": [
        "#//*[@id=\"app-container\"]/section[2]/ol\n",
        "\n",
        "job_lists = driver.find_elements(By.CLASS_NAME,'search-container universal-search-container')"
      ]
    },
    {
      "cell_type": "code",
      "execution_count": 27,
      "metadata": {},
      "outputs": [
        {
          "data": {
            "text/plain": [
              "[]"
            ]
          },
          "execution_count": 27,
          "metadata": {},
          "output_type": "execute_result"
        }
      ],
      "source": [
        "job_lists"
      ]
    },
    {
      "attachments": {},
      "cell_type": "markdown",
      "metadata": {
        "id": "XYbucKXXvqFo"
      },
      "source": [
        "**Each 'li' element contains one job:**"
      ]
    },
    {
      "cell_type": "code",
      "execution_count": 28,
      "metadata": {
        "id": "wfsHPQHFvQgA"
      },
      "outputs": [
        {
          "ename": "AttributeError",
          "evalue": "'list' object has no attribute 'find_elements'",
          "output_type": "error",
          "traceback": [
            "\u001b[1;31m---------------------------------------------------------------------------\u001b[0m",
            "\u001b[1;31mAttributeError\u001b[0m                            Traceback (most recent call last)",
            "\u001b[1;32md:\\integrify\\Homework\\Homework6\\LinkedIn_Web_Scraping_Using_Python.ipynb Cell 17\u001b[0m in \u001b[0;36m1\n\u001b[1;32m----> <a href='vscode-notebook-cell:/d%3A/integrify/Homework/Homework6/LinkedIn_Web_Scraping_Using_Python.ipynb#X21sZmlsZQ%3D%3D?line=0'>1</a>\u001b[0m jobs \u001b[39m=\u001b[39m job_lists\u001b[39m.\u001b[39mfind_elements(By\u001b[39m.\u001b[39mTAG_NAME,\u001b[39m'\u001b[39m\u001b[39mli\u001b[39m\u001b[39m'\u001b[39m)\n",
            "\u001b[1;31mAttributeError\u001b[0m: 'list' object has no attribute 'find_elements'"
          ]
        }
      ],
      "source": [
        "jobs = job_lists.find_elements(By.TAG_NAME,'li')"
      ]
    },
    {
      "attachments": {},
      "cell_type": "markdown",
      "metadata": {
        "id": "lbDo7Lz6vhnx"
      },
      "source": [
        "**Checking how many jobs are listed:** \n"
      ]
    },
    {
      "cell_type": "code",
      "execution_count": null,
      "metadata": {
        "id": "iyNadEF3viHY"
      },
      "outputs": [],
      "source": [
        "len(jobs)"
      ]
    },
    {
      "attachments": {},
      "cell_type": "markdown",
      "metadata": {
        "id": "T_195qzAviaj"
      },
      "source": [
        "**Now we can load the job details for each listing (id, title, company name, location, date, job details link) into a dataframe:**\n"
      ]
    },
    {
      "cell_type": "code",
      "execution_count": null,
      "metadata": {
        "id": "FdpqsHAPviq0"
      },
      "outputs": [],
      "source": [
        "job_id= []\n",
        "job_title = []\n",
        "company_name = []\n",
        "location = []\n",
        "date = []\n",
        "job_link = []\n",
        "for job in jobs:\n",
        "    job_id0 = job.get_attribute('data-id')\n",
        "    job_id.append(job_id0)\n",
        "\n",
        "    job_title0 = job.find_element_by_css_selector('h3').get_attribute('innerText')\n",
        "    job_title.append(job_title0)\n",
        "\n",
        "    company_name0 = job.find_element_by_css_selector('h4').get_attribute('innerText')\n",
        "    company_name.append(company_name0)\n",
        " \n",
        "    location0 = job.find_element_by_css_selector('div>span').get_attribute('innerText')\n",
        "    location.append(location0)\n",
        "\n",
        "    date0 = job.find_element_by_css_selector('div>div>time').get_attribute('datetime')\n",
        "    date.append(date0)\n",
        "\n",
        "    job_link0 = job.find_element_by_css_selector('a').get_attribute('href')\n",
        "    job_link.append(job_link0)\n"
      ]
    },
    {
      "attachments": {},
      "cell_type": "markdown",
      "metadata": {
        "id": "8LCAMznswJ_U"
      },
      "source": [
        "**Joining lists as columns of a single data frame**"
      ]
    },
    {
      "cell_type": "code",
      "execution_count": null,
      "metadata": {
        "id": "jqguMOE7vjG_"
      },
      "outputs": [],
      "source": [
        "JOBS = pd.DataFrame(list(zip(job_title,company_name,location,date,job_link)),\n",
        "                columns = ['Role','Company','Location','Date','Link'])\n",
        "\n",
        "print(JOBS)"
      ]
    },
    {
      "attachments": {},
      "cell_type": "markdown",
      "metadata": {
        "id": "eaGa92kswZFE"
      },
      "source": [
        "**Saving the dataframe as a CSV file**"
      ]
    },
    {
      "cell_type": "code",
      "execution_count": null,
      "metadata": {
        "id": "JZtkBU-tvQj3"
      },
      "outputs": [],
      "source": [
        "JOBS.to_csv('JOBS.csv')"
      ]
    },
    {
      "cell_type": "code",
      "execution_count": null,
      "metadata": {
        "id": "q_tUYHKSvQtA"
      },
      "outputs": [],
      "source": [
        "#Now we can find all the jobs. I use the tag ‘jobs-search__results-list’ to find the job lists:\n",
        "job_lists = driver.find_element_by_class_name('jobs-search__results-list')\n",
        "\n",
        "#Each 'li' element contains one job:\n",
        "jobs = job_lists.find_elements_by_tag_name('li')\n",
        "\n",
        "#Checking how many jobs are listed: \n",
        "len(jobs)\n",
        "\n",
        "#Now we can load the job details for each listing (id, title, company name, location, date, job details link) into a dataframe:\n",
        "job_id= []\n",
        "job_title = []\n",
        "company_name = []\n",
        "location = []\n",
        "date = []\n",
        "job_link = []\n",
        "for job in jobs:\n",
        "    job_id0 = job.get_attribute('data-id')\n",
        "    job_id.append(job_id0)\n",
        "\n",
        "    job_title0 = job.find_element_by_css_selector('h3').get_attribute('innerText')\n",
        "    job_title.append(job_title0)\n",
        "\n",
        "    company_name0 = job.find_element_by_css_selector('h4').get_attribute('innerText')\n",
        "    company_name.append(company_name0)\n",
        " \n",
        "    location0 = job.find_element_by_css_selector('div>span').get_attribute('innerText')\n",
        "    location.append(location0)\n",
        "\n",
        "    date0 = job.find_element_by_css_selector('div>div>time').get_attribute('datetime')\n",
        "    date.append(date0)\n",
        "\n",
        "    job_link0 = job.find_element_by_css_selector('a').get_attribute('href')\n",
        "    job_link.append(job_link0)\n",
        "\n",
        "JOBS = pd.DataFrame(list(zip(job_title,company_name,location,date,job_link)),\n",
        "                columns = ['Role','Company','Location','Date','Link'])\n",
        "\n",
        "print(JOBS)\n",
        "\n",
        "\n",
        "JOBS.to_csv('JOBS.csv')\n"
      ]
    }
  ],
  "metadata": {
    "colab": {
      "provenance": []
    },
    "kernelspec": {
      "display_name": "Python 3",
      "name": "python3"
    },
    "language_info": {
      "codemirror_mode": {
        "name": "ipython",
        "version": 3
      },
      "file_extension": ".py",
      "mimetype": "text/x-python",
      "name": "python",
      "nbconvert_exporter": "python",
      "pygments_lexer": "ipython3",
      "version": "3.10.2"
    }
  },
  "nbformat": 4,
  "nbformat_minor": 0
}
