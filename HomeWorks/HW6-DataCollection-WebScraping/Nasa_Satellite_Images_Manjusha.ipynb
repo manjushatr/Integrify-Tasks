{
 "cells": [
  {
   "cell_type": "code",
   "execution_count": 5,
   "metadata": {},
   "outputs": [
    {
     "name": "stderr",
     "output_type": "stream",
     "text": [
      "C:\\Users\\Manjusha\\AppData\\Local\\Temp\\ipykernel_37168\\4072665943.py:11: DeprecationWarning: executable_path has been deprecated, please pass in a Service object\n",
      "  driver = webdriver.Chrome(\"D:\\softwares\\chromedriver_win32\")\n"
     ]
    }
   ],
   "source": [
    "# Import the libraries\n",
    "from selenium.webdriver.common.keys import Keys\n",
    "from selenium.webdriver.common.by import By\n",
    "from selenium.webdriver.support.ui import WebDriverWait\n",
    "from selenium.webdriver.support import expected_conditions as EC\n",
    "from selenium import webdriver\n",
    "from bs4 import BeautifulSoup as bs\n",
    "import time\n",
    "\n",
    "# Create a Selenium web driver\n",
    "driver = webdriver.Chrome(\"D:\\softwares\\chromedriver_win32\")\n",
    "\n",
    "# Open the website\n",
    "driver.get(\"https://earthobservatory.nasa.gov/images\")\n",
    "\n",
    "driver.execute_script(\"window.scrollTo(0,document.body.scrollHeight);\")\n",
    "time.sleep(5)\n"
   ]
  },
  {
   "cell_type": "code",
   "execution_count": 25,
   "metadata": {},
   "outputs": [
    {
     "data": {
      "text/plain": [
       "[<img alt=\"Snow &amp; Ice\" src=\"/img/topics/topic-snowIce.svg\"/>,\n",
       " <img alt=\"NASA\" class=\"bottom-fade\" src=\"/img/logo-meatball2.png\" srcset=\"/img/logo-meatball2-2x.png\"/>,\n",
       " <img alt=\"NASA\" class=\"top-fade\" src=\"/img/logo-meatball1.png\" srcset=\"/img/logo-meatball1-2x.png\"/>,\n",
       " <img alt=\"Earth Observatory\" class=\"bottom-fade\" src=\"/img/logoWhite.png\"/>,\n",
       " <img alt=\"Earth Observatory\" class=\"top-fade\" src=\"/img/logo.png\"/>,\n",
       " <img alt=\"Search Icon\" src=\"/img/icon-search.svg\"/>,\n",
       " <img alt=\"Search Icon\" src=\"/img/icon-search.svg\"/>,\n",
       " <img alt=\"NASA\" src=\"/img/logo-meatball1.png\" srcset=\"/img/logo-meatball1-2x.png\">\n",
       " <img alt=\"Earth Observatory\" src=\"/img/logo.png\">\n",
       " </img></img>,\n",
       " <img alt=\"Earth Observatory\" src=\"/img/logo.png\">\n",
       " </img>,\n",
       " <img alt=\"Popocatépetl Volcano Keeps on Puffing\" src=\"https://eoimages.gsfc.nasa.gov/images/imagerecords/151000/151300/popocatepetll_oli_20231104_th.jpg\"/>,\n",
       " <img alt=\"Espíritu Santo Archipelago\" src=\"https://eoimages.gsfc.nasa.gov/images/imagerecords/151000/151304/iss067e286000_th.jpg\"/>,\n",
       " <img alt=\"Tulare Lake Grows\" src=\"https://eoimages.gsfc.nasa.gov/images/imagerecords/151000/151284/tulare653_oli_2023120_th.jpg\"/>,\n",
       " <img alt=\"Freddy Brings Lean Times to Malawi\" src=\"https://eoimages.gsfc.nasa.gov/images/imagerecords/151000/151289/malawicrops_oli_2023100_th.jpg\"/>,\n",
       " <img alt=\"Fires in Jalisco\" src=\"https://eoimages.gsfc.nasa.gov/images/imagerecords/151000/151293/mexicofires_amo_2023120_th.jpg\"/>,\n",
       " <img alt=\"Earth Observatory\" class=\"logo-mark\" src=\"/img/logo-mark.svg\"/>,\n",
       " <img alt=\"Facebook\" src=\"/img/social-facebook.svg\"/>,\n",
       " <img alt=\"Twitter\" src=\"/img/social-twitter.svg\"/>,\n",
       " <img alt=\"Instagram\" src=\"/img/social-instagram.svg\"/>,\n",
       " <img alt=\"Subscribe\" src=\"/img/social-subscribe.svg\"/>,\n",
       " <img alt=\"RSS\" src=\"/img/social-rss.svg\"/>]"
      ]
     },
     "execution_count": 25,
     "metadata": {},
     "output_type": "execute_result"
    }
   ],
   "source": [
    "from bs4 import BeautifulSoup\n",
    "import requests\n",
    "URL = \"https://earthobservatory.nasa.gov/images\" # Replace this with the website's URL\n",
    "getURL = requests.get(URL, headers={\"User-Agent\":\"Mozilla/5.0\"})\n",
    "soup = BeautifulSoup(getURL.text, 'html.parser')\n",
    "\n",
    "data = soup.find_all('img')\n",
    "data\n"
   ]
  },
  {
   "cell_type": "code",
   "execution_count": 26,
   "metadata": {},
   "outputs": [
    {
     "ename": "ValueError",
     "evalue": "unknown url type: 'img alt=\"Snow &amp; Ice\" src=\"/img/topics/topic-snowIce.svg\"/'",
     "output_type": "error",
     "traceback": [
      "\u001b[1;31m---------------------------------------------------------------------------\u001b[0m",
      "\u001b[1;31mValueError\u001b[0m                                Traceback (most recent call last)",
      "\u001b[1;32md:\\integrify\\Homework\\Homework6\\Nasa_Satellite_Images_Manjusha.ipynb Cell 3\u001b[0m in \u001b[0;36m3\n\u001b[0;32m      <a href='vscode-notebook-cell:/d%3A/integrify/Homework/Homework6/Nasa_Satellite_Images_Manjusha.ipynb#X11sZmlsZQ%3D%3D?line=0'>1</a>\u001b[0m \u001b[39mimport\u001b[39;00m \u001b[39murllib\u001b[39;00m\n\u001b[0;32m      <a href='vscode-notebook-cell:/d%3A/integrify/Homework/Homework6/Nasa_Satellite_Images_Manjusha.ipynb#X11sZmlsZQ%3D%3D?line=1'>2</a>\u001b[0m \u001b[39mfor\u001b[39;00m i \u001b[39min\u001b[39;00m \u001b[39mrange\u001b[39m(\u001b[39m10\u001b[39m):    \n\u001b[1;32m----> <a href='vscode-notebook-cell:/d%3A/integrify/Homework/Homework6/Nasa_Satellite_Images_Manjusha.ipynb#X11sZmlsZQ%3D%3D?line=2'>3</a>\u001b[0m     urllib\u001b[39m.\u001b[39mrequest\u001b[39m.\u001b[39murlretrieve(\u001b[39mstr\u001b[39m(data[i]),\u001b[39m\"\u001b[39m\u001b[39msample_data/\u001b[39m\u001b[39m{}\u001b[39;00m\u001b[39m.jpg\u001b[39m\u001b[39m\"\u001b[39m\u001b[39m.\u001b[39mformat(i))\n",
      "File \u001b[1;32mc:\\Python310\\lib\\urllib\\request.py:241\u001b[0m, in \u001b[0;36murlretrieve\u001b[1;34m(url, filename, reporthook, data)\u001b[0m\n\u001b[0;32m    224\u001b[0m \u001b[39m\"\"\"\u001b[39;00m\n\u001b[0;32m    225\u001b[0m \u001b[39mRetrieve a URL into a temporary location on disk.\u001b[39;00m\n\u001b[0;32m    226\u001b[0m \n\u001b[1;32m   (...)\u001b[0m\n\u001b[0;32m    237\u001b[0m \u001b[39mdata file as well as the resulting HTTPMessage object.\u001b[39;00m\n\u001b[0;32m    238\u001b[0m \u001b[39m\"\"\"\u001b[39;00m\n\u001b[0;32m    239\u001b[0m url_type, path \u001b[39m=\u001b[39m _splittype(url)\n\u001b[1;32m--> 241\u001b[0m \u001b[39mwith\u001b[39;00m contextlib\u001b[39m.\u001b[39mclosing(urlopen(url, data)) \u001b[39mas\u001b[39;00m fp:\n\u001b[0;32m    242\u001b[0m     headers \u001b[39m=\u001b[39m fp\u001b[39m.\u001b[39minfo()\n\u001b[0;32m    244\u001b[0m     \u001b[39m# Just return the local path and the \"headers\" for file://\u001b[39;00m\n\u001b[0;32m    245\u001b[0m     \u001b[39m# URLs. No sense in performing a copy unless requested.\u001b[39;00m\n",
      "File \u001b[1;32mc:\\Python310\\lib\\urllib\\request.py:216\u001b[0m, in \u001b[0;36murlopen\u001b[1;34m(url, data, timeout, cafile, capath, cadefault, context)\u001b[0m\n\u001b[0;32m    214\u001b[0m \u001b[39melse\u001b[39;00m:\n\u001b[0;32m    215\u001b[0m     opener \u001b[39m=\u001b[39m _opener\n\u001b[1;32m--> 216\u001b[0m \u001b[39mreturn\u001b[39;00m opener\u001b[39m.\u001b[39;49mopen(url, data, timeout)\n",
      "File \u001b[1;32mc:\\Python310\\lib\\urllib\\request.py:503\u001b[0m, in \u001b[0;36mOpenerDirector.open\u001b[1;34m(self, fullurl, data, timeout)\u001b[0m\n\u001b[0;32m    500\u001b[0m \u001b[39mdef\u001b[39;00m \u001b[39mopen\u001b[39m(\u001b[39mself\u001b[39m, fullurl, data\u001b[39m=\u001b[39m\u001b[39mNone\u001b[39;00m, timeout\u001b[39m=\u001b[39msocket\u001b[39m.\u001b[39m_GLOBAL_DEFAULT_TIMEOUT):\n\u001b[0;32m    501\u001b[0m     \u001b[39m# accept a URL or a Request object\u001b[39;00m\n\u001b[0;32m    502\u001b[0m     \u001b[39mif\u001b[39;00m \u001b[39misinstance\u001b[39m(fullurl, \u001b[39mstr\u001b[39m):\n\u001b[1;32m--> 503\u001b[0m         req \u001b[39m=\u001b[39m Request(fullurl, data)\n\u001b[0;32m    504\u001b[0m     \u001b[39melse\u001b[39;00m:\n\u001b[0;32m    505\u001b[0m         req \u001b[39m=\u001b[39m fullurl\n",
      "File \u001b[1;32mc:\\Python310\\lib\\urllib\\request.py:322\u001b[0m, in \u001b[0;36mRequest.__init__\u001b[1;34m(self, url, data, headers, origin_req_host, unverifiable, method)\u001b[0m\n\u001b[0;32m    319\u001b[0m \u001b[39mdef\u001b[39;00m \u001b[39m__init__\u001b[39m(\u001b[39mself\u001b[39m, url, data\u001b[39m=\u001b[39m\u001b[39mNone\u001b[39;00m, headers\u001b[39m=\u001b[39m{},\n\u001b[0;32m    320\u001b[0m              origin_req_host\u001b[39m=\u001b[39m\u001b[39mNone\u001b[39;00m, unverifiable\u001b[39m=\u001b[39m\u001b[39mFalse\u001b[39;00m,\n\u001b[0;32m    321\u001b[0m              method\u001b[39m=\u001b[39m\u001b[39mNone\u001b[39;00m):\n\u001b[1;32m--> 322\u001b[0m     \u001b[39mself\u001b[39;49m\u001b[39m.\u001b[39;49mfull_url \u001b[39m=\u001b[39m url\n\u001b[0;32m    323\u001b[0m     \u001b[39mself\u001b[39m\u001b[39m.\u001b[39mheaders \u001b[39m=\u001b[39m {}\n\u001b[0;32m    324\u001b[0m     \u001b[39mself\u001b[39m\u001b[39m.\u001b[39munredirected_hdrs \u001b[39m=\u001b[39m {}\n",
      "File \u001b[1;32mc:\\Python310\\lib\\urllib\\request.py:348\u001b[0m, in \u001b[0;36mRequest.full_url\u001b[1;34m(self, url)\u001b[0m\n\u001b[0;32m    346\u001b[0m \u001b[39mself\u001b[39m\u001b[39m.\u001b[39m_full_url \u001b[39m=\u001b[39m unwrap(url)\n\u001b[0;32m    347\u001b[0m \u001b[39mself\u001b[39m\u001b[39m.\u001b[39m_full_url, \u001b[39mself\u001b[39m\u001b[39m.\u001b[39mfragment \u001b[39m=\u001b[39m _splittag(\u001b[39mself\u001b[39m\u001b[39m.\u001b[39m_full_url)\n\u001b[1;32m--> 348\u001b[0m \u001b[39mself\u001b[39;49m\u001b[39m.\u001b[39;49m_parse()\n",
      "File \u001b[1;32mc:\\Python310\\lib\\urllib\\request.py:377\u001b[0m, in \u001b[0;36mRequest._parse\u001b[1;34m(self)\u001b[0m\n\u001b[0;32m    375\u001b[0m \u001b[39mself\u001b[39m\u001b[39m.\u001b[39mtype, rest \u001b[39m=\u001b[39m _splittype(\u001b[39mself\u001b[39m\u001b[39m.\u001b[39m_full_url)\n\u001b[0;32m    376\u001b[0m \u001b[39mif\u001b[39;00m \u001b[39mself\u001b[39m\u001b[39m.\u001b[39mtype \u001b[39mis\u001b[39;00m \u001b[39mNone\u001b[39;00m:\n\u001b[1;32m--> 377\u001b[0m     \u001b[39mraise\u001b[39;00m \u001b[39mValueError\u001b[39;00m(\u001b[39m\"\u001b[39m\u001b[39munknown url type: \u001b[39m\u001b[39m%r\u001b[39;00m\u001b[39m\"\u001b[39m \u001b[39m%\u001b[39m \u001b[39mself\u001b[39m\u001b[39m.\u001b[39mfull_url)\n\u001b[0;32m    378\u001b[0m \u001b[39mself\u001b[39m\u001b[39m.\u001b[39mhost, \u001b[39mself\u001b[39m\u001b[39m.\u001b[39mselector \u001b[39m=\u001b[39m _splithost(rest)\n\u001b[0;32m    379\u001b[0m \u001b[39mif\u001b[39;00m \u001b[39mself\u001b[39m\u001b[39m.\u001b[39mhost:\n",
      "\u001b[1;31mValueError\u001b[0m: unknown url type: 'img alt=\"Snow &amp; Ice\" src=\"/img/topics/topic-snowIce.svg\"/'"
     ]
    }
   ],
   "source": [
    "import urllib\n",
    "for i in range(10):    \n",
    "    urllib.request.urlretrieve(str(data[i]),\"sample_data/{}.jpg\".format(i))"
   ]
  },
  {
   "cell_type": "code",
   "execution_count": 28,
   "metadata": {},
   "outputs": [],
   "source": [
    "images = soup.find_all('img')\n",
    "resolvedURLs = []\n",
    "\n",
    "for image in images:\n",
    "    src = image.get('src')\n",
    "    resolvedURLs.append(requests.compat.urljoin(URL, src))\n",
    "    \n",
    "for image in resolvedURLs:\n",
    "    webs = requests.get(image)\n",
    "    open('images/' + image.split('/')[-1], 'wb').write(webs.content)"
   ]
  },
  {
   "attachments": {},
   "cell_type": "markdown",
   "metadata": {},
   "source": [
    "Another method"
   ]
  },
  {
   "cell_type": "code",
   "execution_count": 1,
   "metadata": {},
   "outputs": [],
   "source": [
    "from bs4 import BeautifulSoup\n",
    "\n",
    "import requests\n",
    "import urllib.request\n",
    "import shutil"
   ]
  },
  {
   "cell_type": "code",
   "execution_count": 2,
   "metadata": {},
   "outputs": [],
   "source": [
    "url = \"https://earthobservatory.nasa.gov/images\"\n",
    "response = requests.get(url)\n",
    "\n",
    "soup = BeautifulSoup(response.text, \"html.parser\")\n",
    "\n",
    "divs = soup.find_all(\"div\",class_=\"thumbnail-image\")"
   ]
  },
  {
   "cell_type": "code",
   "execution_count": 3,
   "metadata": {},
   "outputs": [
    {
     "data": {
      "text/plain": [
       "[<div class=\"thumbnail-image\"><a href=\"/images/151300/popocatepetl-volcano-keeps-on-puffing\"><img alt=\"Popocatépetl Volcano Keeps on Puffing\" src=\"https://eoimages.gsfc.nasa.gov/images/imagerecords/151000/151300/popocatepetll_oli_20231104_th.jpg\"/></a></div>,\n",
       " <div class=\"thumbnail-image\"><a href=\"/images/151304/espiritu-santo-archipelago\"><img alt=\"Espíritu Santo Archipelago\" src=\"https://eoimages.gsfc.nasa.gov/images/imagerecords/151000/151304/iss067e286000_th.jpg\"/></a></div>,\n",
       " <div class=\"thumbnail-image\"><a href=\"/images/151284/tulare-lake-grows\"><img alt=\"Tulare Lake Grows\" src=\"https://eoimages.gsfc.nasa.gov/images/imagerecords/151000/151284/tulare653_oli_2023120_th.jpg\"/></a></div>,\n",
       " <div class=\"thumbnail-image\"><a href=\"/images/151289/freddy-brings-lean-times-to-malawi\"><img alt=\"Freddy Brings Lean Times to Malawi\" src=\"https://eoimages.gsfc.nasa.gov/images/imagerecords/151000/151289/malawicrops_oli_2023100_th.jpg\"/></a></div>,\n",
       " <div class=\"thumbnail-image\"><a href=\"/images/151293/fires-in-jalisco\"><img alt=\"Fires in Jalisco\" src=\"https://eoimages.gsfc.nasa.gov/images/imagerecords/151000/151293/mexicofires_amo_2023120_th.jpg\"/></a></div>]"
      ]
     },
     "execution_count": 3,
     "metadata": {},
     "output_type": "execute_result"
    }
   ],
   "source": [
    "divs"
   ]
  },
  {
   "cell_type": "code",
   "execution_count": 4,
   "metadata": {},
   "outputs": [],
   "source": [
    "image_info = []\n",
    "\n",
    "for d in divs:\n",
    "    image_tag = d.findChildren(\"img\")\n",
    "    image_info.append((image_tag[0][\"src\"], image_tag[0][\"alt\"]))"
   ]
  },
  {
   "cell_type": "code",
   "execution_count": 5,
   "metadata": {},
   "outputs": [
    {
     "data": {
      "text/plain": [
       "[('https://eoimages.gsfc.nasa.gov/images/imagerecords/151000/151300/popocatepetll_oli_20231104_th.jpg',\n",
       "  'Popocatépetl Volcano Keeps on Puffing'),\n",
       " ('https://eoimages.gsfc.nasa.gov/images/imagerecords/151000/151304/iss067e286000_th.jpg',\n",
       "  'Espíritu Santo Archipelago'),\n",
       " ('https://eoimages.gsfc.nasa.gov/images/imagerecords/151000/151284/tulare653_oli_2023120_th.jpg',\n",
       "  'Tulare Lake Grows'),\n",
       " ('https://eoimages.gsfc.nasa.gov/images/imagerecords/151000/151289/malawicrops_oli_2023100_th.jpg',\n",
       "  'Freddy Brings Lean Times to Malawi'),\n",
       " ('https://eoimages.gsfc.nasa.gov/images/imagerecords/151000/151293/mexicofires_amo_2023120_th.jpg',\n",
       "  'Fires in Jalisco')]"
      ]
     },
     "execution_count": 5,
     "metadata": {},
     "output_type": "execute_result"
    }
   ],
   "source": [
    "image_info"
   ]
  },
  {
   "cell_type": "code",
   "execution_count": 6,
   "metadata": {},
   "outputs": [],
   "source": [
    "def download_image(image):\n",
    "    response = requests.get(image[0], stream=True)\n",
    "    realname = ''.join(e for e in image[1] if e.isalnum())\n",
    "    \n",
    "    file = open(\"./images/{}.jpg\".format(realname), 'wb')\n",
    "    \n",
    "    response.raw.decode_content = True\n",
    "    shutil.copyfileobj(response.raw, file)\n",
    "    del response"
   ]
  },
  {
   "cell_type": "code",
   "execution_count": 7,
   "metadata": {},
   "outputs": [],
   "source": [
    "for i in range(0, len(image_info)):\n",
    "    download_image(image_info[i])"
   ]
  }
 ],
 "metadata": {
  "kernelspec": {
   "display_name": "Python 3",
   "language": "python",
   "name": "python3"
  },
  "language_info": {
   "codemirror_mode": {
    "name": "ipython",
    "version": 3
   },
   "file_extension": ".py",
   "mimetype": "text/x-python",
   "name": "python",
   "nbconvert_exporter": "python",
   "pygments_lexer": "ipython3",
   "version": "3.10.2"
  },
  "orig_nbformat": 4
 },
 "nbformat": 4,
 "nbformat_minor": 2
}
