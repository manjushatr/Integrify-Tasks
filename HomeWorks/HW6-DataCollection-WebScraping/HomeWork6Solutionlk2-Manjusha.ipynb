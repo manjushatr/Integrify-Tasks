{
 "cells": [
  {
   "cell_type": "code",
   "execution_count": 1,
   "metadata": {},
   "outputs": [],
   "source": [
    "#%pip install selenium "
   ]
  },
  {
   "cell_type": "code",
   "execution_count": 2,
   "metadata": {},
   "outputs": [],
   "source": [
    "#%pip install requests"
   ]
  },
  {
   "cell_type": "code",
   "execution_count": null,
   "metadata": {},
   "outputs": [],
   "source": []
  },
  {
   "cell_type": "code",
   "execution_count": 3,
   "metadata": {},
   "outputs": [],
   "source": [
    "#%pip install beautifulsoup4"
   ]
  },
  {
   "attachments": {},
   "cell_type": "markdown",
   "metadata": {},
   "source": [
    "#download chrome web driver\n",
    "#https://chromedriver.chromium.org/"
   ]
  },
  {
   "cell_type": "code",
   "execution_count": 4,
   "metadata": {},
   "outputs": [],
   "source": [
    "from selenium import webdriver\n",
    "from selenium.webdriver.common.keys import Keys\n",
    "from selenium.webdriver.common.by import By\n",
    "from selenium.webdriver.support.ui import WebDriverWait\n",
    "from selenium.webdriver.support import expected_conditions as EC\n",
    "from selenium import webdriver\n",
    "from bs4 import BeautifulSoup as bs\n",
    "import re as re\n",
    "import time\n",
    "import pandas as pd"
   ]
  },
  {
   "cell_type": "code",
   "execution_count": 5,
   "metadata": {},
   "outputs": [
    {
     "name": "stderr",
     "output_type": "stream",
     "text": [
      "C:\\Users\\Manjusha\\AppData\\Local\\Temp\\ipykernel_19452\\2011727307.py:2: DeprecationWarning: executable_path has been deprecated, please pass in a Service object\n",
      "  driver = webdriver.Chrome(\"D:\\softwares\\chromedriver_win32\")\n"
     ]
    }
   ],
   "source": [
    "# Creating a webdriver instance\n",
    "driver = webdriver.Chrome(\"D:\\softwares\\chromedriver_win32\")\n",
    "# This instance will be used to log into LinkedIn\n",
    " \n",
    "# Opening linkedIn's login page\n",
    "driver.get(\"https://linkedin.com/uas/login\")\n",
    " \n",
    "# waiting for the page to load\n",
    "time.sleep(5)\n",
    " #//*[@id=\"artdeco-global-alert-container\"]/div/section/div/div[2]/button[1]\n",
    " # Accept cookies\n",
    "\n",
    "#driver.find_element_by_xpath(\"[@id=\"artdeco-global-alert-container\"]/div/section/div/div[2]/button[1]\").click()\n",
    "# entering username\n",
    "username = driver.find_element(By.ID, \"username\")\n",
    " \n",
    "# In case of an error, try changing the element\n",
    "# tag used here.\n",
    " \n",
    "# Enter Your Email Address\n",
    "username.send_keys(\"manjushatr@gmail.com\") \n",
    " \n",
    "# entering password\n",
    "pword = driver.find_element(By.ID, \"password\")\n",
    "# In case of an error, try changing the element\n",
    "# tag used here.\n",
    " \n",
    "# Enter Your Password\n",
    "pword.send_keys(\"xxxxxx\")       \n",
    " \n",
    "# Clicking on the log in button\n",
    "# Format (syntax) of writing XPath -->\n",
    "# //tagname[@attribute='value']\n",
    "driver.find_element(By.XPATH, \"//button[@type='submit']\").click()\n",
    "# In case of an error, try changing the\n",
    "# XPath used here."
   ]
  },
  {
   "attachments": {},
   "cell_type": "markdown",
   "metadata": {},
   "source": [
    "https://www.linkedin.com/jobs/search/?currentJobId=3596147709&keywords=full%20stack&refresh=true"
   ]
  },
  {
   "cell_type": "code",
   "execution_count": 6,
   "metadata": {},
   "outputs": [],
   "source": [
    "# This is the URL to test the jobs I want to scrape from\n",
    "driver.get(\"https://www.linkedin.com/jobs/search/?currentJobId=3596147709&keywords=full%20stack&refresh=true\")\n",
    "\n",
    "i = 2\n",
    "while i <= int(500/25)+1:\n",
    "    driver.execute_script('window.scrollTo(0,document.body.scrollHeight);')\n",
    "    i = i + 1\n",
    "    try:\n",
    "        driver.find_element_by_xpath('/html/body/main/div/section/button').click()\n",
    "        time.sleep(5)\n",
    "    except:\n",
    "        pass\n",
    "        time.sleep(5)"
   ]
  },
  {
   "cell_type": "code",
   "execution_count": 13,
   "metadata": {},
   "outputs": [
    {
     "name": "stdout",
     "output_type": "stream",
     "text": [
      "['Fullstackutvecklare', 'Fullstack Developer', 'Fullstack Developer', 'Fullstack developer', 'Developer - Let us introduce you to our world of opportunities', 'Full stack developer', 'Open application Karlskrona']\n",
      "\n",
      "7\n",
      "['Infoware Solutions Svenska AB', 'Fortnox', 'Enfo', 'FlexLink', 'Saab', 'Bizzdo', 'Nexer Group']\n",
      "\n",
      "7\n",
      "['Stockholm County, Sweden', 'Hybrid', 'Växjö, Kronoberg County, Sweden', 'Hybrid', 'Stockholm, Stockholm County, Sweden', 'Hybrid', 'Gothenburg, Vastra Gotaland County, Sweden', 'Hybrid', 'Göteborg, Vastra Gotaland County, Sweden', 'Skövde, Vastra Gotaland County, Sweden', 'Hybrid', 'Karlskrona, Blekinge County, Sweden', 'Hybrid']\n",
      "\n",
      "13\n",
      "[]\n",
      "0\n",
      "['About the job\\nVi söker en Fullstackutvecklare som vill utveckla framtidens affärsapplikationer!\\nInfoware söker dig som brinner för webbutveckling och vill ta nya kliv på din kompetensresa.\\n\\nÄr det här du?\\nDu inspireras av att ta fram innovativa lösningar som genererar affärsnytta och du gillar att arbeta strukturerat. Som person är du engagerad och tar stort eget ansvar för dina arbetsuppgifter. Du är prestigelös och samarbetar väl med kunder och kollegor. Är ditt intresse för utveckling så stort att du lägger ner tid på att förbättra din kompetens och undersöka nya ramverk och tekniker, ja då kommer du att passa väl in här hos oss!\\n\\nFör att klara den här rollen så behöver du ha kompetens inom Microsofts teknikstack och minst ett par års erfarenhet som fullstackutvecklare.\\n\\nDu behöver ha kunskap inom:\\nHTML5/CSS3\\nReact, Angular eller liknande\\nModern JavaScript/TypeScript\\n\\nErfarenhet inom följande områden är ett extra plus:\\nSharePoint Framework/SharePoint Online\\nMS365\\nMS Azure Functions\\nPower Apps\\nPower Automate\\nMicrosoft Graph\\n\\nDu måste vara svensk medborgare då flera av våra kunder är säkerhetsklassificerade samt behärska svenska och engelska i tal och skrift.\\n\\nOm uppdraget\\nInfoware utvecklar framtidens serverlösa affärsapplikationer baserade på SharePoint Online från Microsoft.\\n\\nDu kommer att ingå i det team som tar fram lösningar baserade på vårt mikroramverk/kodfundament som vi kallar för ”Infoware Code Foundation” (ICF).\\n\\nDen grundläggande tanken med ICF är enkel: Samla fungerande kod och gör den återanvändbar. Kärnan i ICF ska vara enkel och utbyggbar. Vinsterna med ICF är många. Våra utvecklare slipper skriva helt ny kod för liknande funktioner. Kodbasen är redan testad och därmed förhoppningsvis felfri. Vi kan korta ned projekttider och erbjuda våra kunder avancerade lösningar till konkurrenskraftiga priser.\\n\\nVårt ICF-team är under uppbyggnad och du har chansen att vara med i början på en spännande resa. Vi har ett flertal kundprojekt i gång där vi försöker att använda och vidareutveckla ICF-konceptet.\\n\\nVarför ska du söka den här tjänsten?\\nVi jobbar med hållbara lösningar och det gör vi genom vår tekniska kunskap och vårt samarbete. Samarbete kollegor emellan och med våra kunder. Tillsammans är vi starka och kan bidra till en bättre framtid!\\n\\nMedarbetarna är Infowares bästa tillgång. Oavsett var i livet du befinner dig, så försöker vi tillsammans hitta den bästa lösningen för just dig. Vi har under många år tillämpat flexibel hybridarbetsplats där vi varvar arbete mellan våra lokaler, kundens lokaler och hemmakontoret. Vi vill att du ska vara kvar här länge och vi tror att en förutsättning för det är att du känner att du utvecklas och lär dig nya saker.\\n\\nVilka är vi?\\nInfoware är It-företaget som under lång tid har levererat tjänster och lösningar som hjälper människor och företag att samarbeta och kommunicera. Vår tro är att samarbete via moderna samarbetsplattformar gör människor, företag och vår planet smartare.\\n\\nVi arbetar även med att flytta data mellan samarbetsplattformar från olika leverantörer. Det är ett område som vi har en unik kompetens inom och våra tjänster efterfrågas både lokalt och globalt.\\n\\nInfoware anlitas ofta av stora företag som behöver specialistkompetens inom vårt område. Vi har under årens lopp deltagit i såväl stora som små projekt.\\n\\nDet kan vara tryggt att veta att Infoware har funnits sedan 1995 och inte har några externa investerare eller intressenter med kortsiktiga krav på vår verksamhet. Det är vi som arbetar här som är de som formar företaget och utvecklar det vidare. Infoware är ett glatt bolag med 15 medarbetare som håller till på Kungsholmen i Stockholm och centralt i Västerås. Våra affärer växer och vi behöver nu bli fler!\\n\\nOm du är nyfiken på nya saker, förstår det här med kundfokus och vill ha roligt på jobbet är Infoware platsen för dig!']\n",
      "1\n"
     ]
    }
   ],
   "source": [
    "        \n",
    "# This will scrape and display job titles\n",
    "job_title=driver.find_elements(By.CLASS_NAME, \"job-card-list__title\")\n",
    "companyjob_title=[]\n",
    "for i in job_title:\n",
    "    companyjob_title.append(i.text)\n",
    "print(companyjob_title)\n",
    "print()\n",
    "print(len(companyjob_title))\n",
    "\n",
    "\n",
    "# This will scrape and display company names from page correspondent to company_title above\n",
    "job_company=driver.find_elements(By.CLASS_NAME,\"job-card-container__company-name\")\n",
    "company_name=[]\n",
    "for i in job_company:\n",
    "    company_name.append(i.text)  \n",
    "print(company_name)\n",
    "print()\n",
    "print(len(company_name))\n",
    "\n",
    "\n",
    "\n",
    "#This will scrape and display location names from page correspondent to company_title and company_name above\n",
    "job_location=driver.find_elements(By.CLASS_NAME,\"job-card-container__metadata-item\")\n",
    "location_name=[]\n",
    "for i in job_location:\n",
    "    location_name.append(i.text)  \n",
    "print(location_name)\n",
    "print()\n",
    "print(len(location_name))\n",
    "\n",
    "# At this point,trying to iterate over each of the jobs to pull out the description.  \n",
    "job_description=driver.find_elements(By.CLASS_NAME,'jobs-search__right-rail')\n",
    "description_name = []\n",
    "for i in job_description:\n",
    "    description_name.append(i.text)\n",
    "print(description_name)\n",
    "\n",
    "print(len(description_name))\n",
    "\n",
    "job_about=driver.find_elements(By.CLASS_NAME,'jobs-description__content')\n",
    "about_text = []\n",
    "for i in job_about:\n",
    "    about_text.append(i.text)\n",
    "print(about_text)\n",
    "\n",
    "print(len(about_text))\n",
    "\n",
    "\n",
    "\n"
   ]
  },
  {
   "attachments": {},
   "cell_type": "markdown",
   "metadata": {},
   "source": []
  },
  {
   "cell_type": "code",
   "execution_count": 8,
   "metadata": {},
   "outputs": [],
   "source": [
    "df = pd.DataFrame(columns=['Company', 'Job_Title', 'Location','About'])"
   ]
  },
  {
   "cell_type": "code",
   "execution_count": 9,
   "metadata": {},
   "outputs": [],
   "source": [
    "df['Company']=company_name\n",
    "df['Job_Title']=companyjob_title\n"
   ]
  },
  {
   "cell_type": "code",
   "execution_count": 10,
   "metadata": {},
   "outputs": [
    {
     "data": {
      "text/html": [
       "<div>\n",
       "<style scoped>\n",
       "    .dataframe tbody tr th:only-of-type {\n",
       "        vertical-align: middle;\n",
       "    }\n",
       "\n",
       "    .dataframe tbody tr th {\n",
       "        vertical-align: top;\n",
       "    }\n",
       "\n",
       "    .dataframe thead th {\n",
       "        text-align: right;\n",
       "    }\n",
       "</style>\n",
       "<table border=\"1\" class=\"dataframe\">\n",
       "  <thead>\n",
       "    <tr style=\"text-align: right;\">\n",
       "      <th></th>\n",
       "      <th>Company</th>\n",
       "      <th>Job_Title</th>\n",
       "      <th>Location</th>\n",
       "      <th>About</th>\n",
       "    </tr>\n",
       "  </thead>\n",
       "  <tbody>\n",
       "    <tr>\n",
       "      <th>0</th>\n",
       "      <td>Infoware Solutions Svenska AB</td>\n",
       "      <td>Fullstackutvecklare</td>\n",
       "      <td>NaN</td>\n",
       "      <td>NaN</td>\n",
       "    </tr>\n",
       "    <tr>\n",
       "      <th>1</th>\n",
       "      <td>Fortnox</td>\n",
       "      <td>Fullstack Developer</td>\n",
       "      <td>NaN</td>\n",
       "      <td>NaN</td>\n",
       "    </tr>\n",
       "    <tr>\n",
       "      <th>2</th>\n",
       "      <td>Enfo</td>\n",
       "      <td>Fullstack Developer</td>\n",
       "      <td>NaN</td>\n",
       "      <td>NaN</td>\n",
       "    </tr>\n",
       "    <tr>\n",
       "      <th>3</th>\n",
       "      <td>FlexLink</td>\n",
       "      <td>Fullstack developer</td>\n",
       "      <td>NaN</td>\n",
       "      <td>NaN</td>\n",
       "    </tr>\n",
       "    <tr>\n",
       "      <th>4</th>\n",
       "      <td>Saab</td>\n",
       "      <td>Developer - Let us introduce you to our world ...</td>\n",
       "      <td>NaN</td>\n",
       "      <td>NaN</td>\n",
       "    </tr>\n",
       "    <tr>\n",
       "      <th>5</th>\n",
       "      <td>Bizzdo</td>\n",
       "      <td>Full stack developer</td>\n",
       "      <td>NaN</td>\n",
       "      <td>NaN</td>\n",
       "    </tr>\n",
       "    <tr>\n",
       "      <th>6</th>\n",
       "      <td>Nexer Group</td>\n",
       "      <td>Open application Karlskrona</td>\n",
       "      <td>NaN</td>\n",
       "      <td>NaN</td>\n",
       "    </tr>\n",
       "  </tbody>\n",
       "</table>\n",
       "</div>"
      ],
      "text/plain": [
       "                         Company  \\\n",
       "0  Infoware Solutions Svenska AB   \n",
       "1                        Fortnox   \n",
       "2                           Enfo   \n",
       "3                       FlexLink   \n",
       "4                           Saab   \n",
       "5                         Bizzdo   \n",
       "6                    Nexer Group   \n",
       "\n",
       "                                           Job_Title Location About  \n",
       "0                                Fullstackutvecklare      NaN   NaN  \n",
       "1                                Fullstack Developer      NaN   NaN  \n",
       "2                                Fullstack Developer      NaN   NaN  \n",
       "3                                Fullstack developer      NaN   NaN  \n",
       "4  Developer - Let us introduce you to our world ...      NaN   NaN  \n",
       "5                               Full stack developer      NaN   NaN  \n",
       "6                        Open application Karlskrona      NaN   NaN  "
      ]
     },
     "execution_count": 10,
     "metadata": {},
     "output_type": "execute_result"
    }
   ],
   "source": [
    "df"
   ]
  },
  {
   "cell_type": "code",
   "execution_count": 11,
   "metadata": {},
   "outputs": [],
   "source": [
    "df1=df.to_json(orient='records')"
   ]
  },
  {
   "cell_type": "code",
   "execution_count": 12,
   "metadata": {},
   "outputs": [
    {
     "data": {
      "text/plain": [
       "'[{\"Company\":\"Infoware Solutions Svenska AB\",\"Job_Title\":\"Fullstackutvecklare\",\"Location\":null,\"About\":null},{\"Company\":\"Fortnox\",\"Job_Title\":\"Fullstack Developer\",\"Location\":null,\"About\":null},{\"Company\":\"Enfo\",\"Job_Title\":\"Fullstack Developer\",\"Location\":null,\"About\":null},{\"Company\":\"FlexLink\",\"Job_Title\":\"Fullstack developer\",\"Location\":null,\"About\":null},{\"Company\":\"Saab\",\"Job_Title\":\"Developer - Let us introduce you to our world of opportunities\",\"Location\":null,\"About\":null},{\"Company\":\"Bizzdo\",\"Job_Title\":\"Full stack developer\",\"Location\":null,\"About\":null},{\"Company\":\"Nexer Group\",\"Job_Title\":\"Open application Karlskrona\",\"Location\":null,\"About\":null}]'"
      ]
     },
     "execution_count": 12,
     "metadata": {},
     "output_type": "execute_result"
    }
   ],
   "source": [
    "df1"
   ]
  }
 ],
 "metadata": {
  "kernelspec": {
   "display_name": "Python 3",
   "language": "python",
   "name": "python3"
  },
  "language_info": {
   "codemirror_mode": {
    "name": "ipython",
    "version": 3
   },
   "file_extension": ".py",
   "mimetype": "text/x-python",
   "name": "python",
   "nbconvert_exporter": "python",
   "pygments_lexer": "ipython3",
   "version": "3.10.2"
  },
  "orig_nbformat": 4
 },
 "nbformat": 4,
 "nbformat_minor": 2
}
