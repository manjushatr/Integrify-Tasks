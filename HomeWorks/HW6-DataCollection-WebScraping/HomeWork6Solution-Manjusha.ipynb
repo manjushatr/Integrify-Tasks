{
 "cells": [
  {
   "cell_type": "code",
   "execution_count": 20,
   "metadata": {},
   "outputs": [],
   "source": [
    "#%pip install selenium "
   ]
  },
  {
   "cell_type": "code",
   "execution_count": 21,
   "metadata": {},
   "outputs": [],
   "source": [
    "#%pip install requests"
   ]
  },
  {
   "cell_type": "code",
   "execution_count": null,
   "metadata": {},
   "outputs": [],
   "source": []
  },
  {
   "cell_type": "code",
   "execution_count": 22,
   "metadata": {},
   "outputs": [],
   "source": [
    "#%pip install beautifulsoup4"
   ]
  },
  {
   "attachments": {},
   "cell_type": "markdown",
   "metadata": {},
   "source": [
    "#download chrome web driver\n",
    "#https://chromedriver.chromium.org/"
   ]
  },
  {
   "cell_type": "code",
   "execution_count": 23,
   "metadata": {},
   "outputs": [],
   "source": [
    "from selenium import webdriver\n",
    "from selenium.webdriver.common.keys import Keys\n",
    "from selenium.webdriver.common.by import By\n",
    "from selenium.webdriver.support.ui import WebDriverWait\n",
    "from selenium.webdriver.support import expected_conditions as EC\n",
    "from selenium import webdriver\n",
    "from bs4 import BeautifulSoup as bs\n",
    "import re as re\n",
    "import time\n",
    "import pandas as pd"
   ]
  },
  {
   "cell_type": "code",
   "execution_count": 24,
   "metadata": {},
   "outputs": [
    {
     "name": "stderr",
     "output_type": "stream",
     "text": [
      "C:\\Users\\Manjusha\\AppData\\Local\\Temp\\ipykernel_16612\\2011727307.py:2: DeprecationWarning: executable_path has been deprecated, please pass in a Service object\n",
      "  driver = webdriver.Chrome(\"D:\\softwares\\chromedriver_win32\")\n"
     ]
    }
   ],
   "source": [
    "# Creating a webdriver instance\n",
    "driver = webdriver.Chrome(\"D:\\softwares\\chromedriver_win32\")\n",
    "# This instance will be used to log into LinkedIn\n",
    " \n",
    "# Opening linkedIn's login page\n",
    "driver.get(\"https://linkedin.com/uas/login\")\n",
    " \n",
    "# waiting for the page to load\n",
    "time.sleep(5)\n",
    " #//*[@id=\"artdeco-global-alert-container\"]/div/section/div/div[2]/button[1]\n",
    " # Accept cookies\n",
    "\n",
    "#driver.find_element_by_xpath(\"[@id=\"artdeco-global-alert-container\"]/div/section/div/div[2]/button[1]\").click()\n",
    "# entering username\n",
    "username = driver.find_element(By.ID, \"username\")\n",
    " \n",
    "# In case of an error, try changing the element\n",
    "# tag used here.\n",
    " \n",
    "# Enter Your Email Address\n",
    "username.send_keys(\"manjushatr@gmail.com\") \n",
    " \n",
    "# entering password\n",
    "pword = driver.find_element(By.ID, \"password\")\n",
    "# In case of an error, try changing the element\n",
    "# tag used here.\n",
    " \n",
    "# Enter Your Password\n",
    "pword.send_keys(\"xxxxx\")       \n",
    " \n",
    "# Clicking on the log in button\n",
    "# Format (syntax) of writing XPath -->\n",
    "# //tagname[@attribute='value']\n",
    "driver.find_element(By.XPATH, \"//button[@type='submit']\").click()\n",
    "# In case of an error, try changing the\n",
    "# XPath used here."
   ]
  },
  {
   "attachments": {},
   "cell_type": "markdown",
   "metadata": {},
   "source": [
    "https://www.linkedin.com/jobs/search/?currentJobId=3584781384&geoId=105117694&keywords=Data%20Science&location=Sweden&refresh=true"
   ]
  },
  {
   "cell_type": "code",
   "execution_count": 25,
   "metadata": {},
   "outputs": [],
   "source": [
    "# This is the URL to test the jobs I want to scrape from\n",
    "driver.get(\"https://www.linkedin.com/jobs/search/?currentJobId=3584781384&geoId=105117694&keywords=Data%20Science&location=Sweden&refresh=true\")\n",
    "\n",
    "i = 2\n",
    "while i <= int(500/25)+1:\n",
    "    driver.execute_script('window.scrollTo(0,document.body.scrollHeight);')\n",
    "    i = i + 1\n",
    "    try:\n",
    "        driver.find_element_by_xpath('/html/body/main/div/section/button').click()\n",
    "        time.sleep(5)\n",
    "    except:\n",
    "        pass\n",
    "        time.sleep(5)"
   ]
  },
  {
   "cell_type": "code",
   "execution_count": 26,
   "metadata": {},
   "outputs": [
    {
     "name": "stdout",
     "output_type": "stream",
     "text": [
      "['Data Engineer', 'Data Engineer inom Analytics/Business Intelligence', 'Analytics Developer - Tietoevry Create', 'Data Engineer', 'Data Analyst', 'Data Engineer', 'Data Analytics & AWS Cloud Engineering Tech Lead']\n",
      "\n",
      "7\n",
      "['Computer Futures', 'LKAB', 'Tietoevry', 'Essity', 'Storytel', 'Futurice', 'AstraZeneca']\n",
      "\n",
      "7\n",
      "['Greater Stockholm Metropolitan Area', 'Hybrid', 'Luleå, Norrbotten, Sweden', 'On-site', 'Jönköping, Jonkoping County, Sweden', 'Hybrid', 'Göteborg, Vastra Gotaland County, Sweden', 'Hybrid', 'Stockholm, Stockholm County, Sweden', 'Hybrid', 'Stockholm County, Sweden', 'On-site', 'Södertälje, Stockholm County, Sweden']\n",
      "\n",
      "13\n",
      "[]\n",
      "0\n",
      "[]\n",
      "0\n"
     ]
    }
   ],
   "source": [
    "        \n",
    "# This will scrape and display job titles\n",
    "job_title=driver.find_elements(By.CLASS_NAME, \"job-card-list__title\")\n",
    "companyjob_title=[]\n",
    "for i in job_title:\n",
    "    companyjob_title.append(i.text)\n",
    "print(companyjob_title)\n",
    "print()\n",
    "print(len(companyjob_title))\n",
    "\n",
    "\n",
    "# This will scrape and display company names from page correspondent to company_title above\n",
    "job_company=driver.find_elements(By.CLASS_NAME,\"job-card-container__company-name\")\n",
    "company_name=[]\n",
    "for i in job_company:\n",
    "    company_name.append(i.text)  \n",
    "print(company_name)\n",
    "print()\n",
    "print(len(company_name))\n",
    "\n",
    "\n",
    "\n",
    "#This will scrape and display location names from page correspondent to company_title and company_name above\n",
    "job_location=driver.find_elements(By.CLASS_NAME,\"job-card-container__metadata-item\")\n",
    "location_name=[]\n",
    "for i in job_location:\n",
    "    location_name.append(i.text)  \n",
    "print(location_name)\n",
    "print()\n",
    "print(len(location_name))\n",
    "\n",
    "# At this point,trying to iterate over each of the jobs to pull out the description.  \n",
    "job_description=driver.find_elements(By.CLASS_NAME,'jobs-search__right-rail')\n",
    "description_name = []\n",
    "for i in job_description:\n",
    "    description_name.append(i.text)\n",
    "print(description_name)\n",
    "\n",
    "print(len(description_name))\n",
    "\n",
    "job_about=driver.find_elements(By.CLASS_NAME,'jobs-description__content')\n",
    "about_text = []\n",
    "for i in job_about:\n",
    "    about_text.append(i.text)\n",
    "print(about_text)\n",
    "\n",
    "print(len(about_text))\n",
    "\n",
    "\n",
    "\n"
   ]
  },
  {
   "attachments": {},
   "cell_type": "markdown",
   "metadata": {},
   "source": []
  },
  {
   "cell_type": "code",
   "execution_count": 27,
   "metadata": {},
   "outputs": [],
   "source": [
    "df = pd.DataFrame(columns=['Company', 'Job_Title', 'Location','About'])"
   ]
  },
  {
   "cell_type": "code",
   "execution_count": 29,
   "metadata": {},
   "outputs": [],
   "source": [
    "df['Company']=company_name\n",
    "df['Job_Title']=companyjob_title\n"
   ]
  },
  {
   "cell_type": "code",
   "execution_count": 30,
   "metadata": {},
   "outputs": [
    {
     "data": {
      "text/html": [
       "<div>\n",
       "<style scoped>\n",
       "    .dataframe tbody tr th:only-of-type {\n",
       "        vertical-align: middle;\n",
       "    }\n",
       "\n",
       "    .dataframe tbody tr th {\n",
       "        vertical-align: top;\n",
       "    }\n",
       "\n",
       "    .dataframe thead th {\n",
       "        text-align: right;\n",
       "    }\n",
       "</style>\n",
       "<table border=\"1\" class=\"dataframe\">\n",
       "  <thead>\n",
       "    <tr style=\"text-align: right;\">\n",
       "      <th></th>\n",
       "      <th>Company</th>\n",
       "      <th>Job_Title</th>\n",
       "      <th>Description</th>\n",
       "      <th>About</th>\n",
       "    </tr>\n",
       "  </thead>\n",
       "  <tbody>\n",
       "    <tr>\n",
       "      <th>0</th>\n",
       "      <td>Computer Futures</td>\n",
       "      <td>Data Engineer</td>\n",
       "      <td>NaN</td>\n",
       "      <td>NaN</td>\n",
       "    </tr>\n",
       "    <tr>\n",
       "      <th>1</th>\n",
       "      <td>LKAB</td>\n",
       "      <td>Data Engineer inom Analytics/Business Intellig...</td>\n",
       "      <td>NaN</td>\n",
       "      <td>NaN</td>\n",
       "    </tr>\n",
       "    <tr>\n",
       "      <th>2</th>\n",
       "      <td>Tietoevry</td>\n",
       "      <td>Analytics Developer - Tietoevry Create</td>\n",
       "      <td>NaN</td>\n",
       "      <td>NaN</td>\n",
       "    </tr>\n",
       "    <tr>\n",
       "      <th>3</th>\n",
       "      <td>Essity</td>\n",
       "      <td>Data Engineer</td>\n",
       "      <td>NaN</td>\n",
       "      <td>NaN</td>\n",
       "    </tr>\n",
       "    <tr>\n",
       "      <th>4</th>\n",
       "      <td>Storytel</td>\n",
       "      <td>Data Analyst</td>\n",
       "      <td>NaN</td>\n",
       "      <td>NaN</td>\n",
       "    </tr>\n",
       "    <tr>\n",
       "      <th>5</th>\n",
       "      <td>Futurice</td>\n",
       "      <td>Data Engineer</td>\n",
       "      <td>NaN</td>\n",
       "      <td>NaN</td>\n",
       "    </tr>\n",
       "    <tr>\n",
       "      <th>6</th>\n",
       "      <td>AstraZeneca</td>\n",
       "      <td>Data Analytics &amp; AWS Cloud Engineering Tech Lead</td>\n",
       "      <td>NaN</td>\n",
       "      <td>NaN</td>\n",
       "    </tr>\n",
       "  </tbody>\n",
       "</table>\n",
       "</div>"
      ],
      "text/plain": [
       "            Company                                          Job_Title  \\\n",
       "0  Computer Futures                                      Data Engineer   \n",
       "1              LKAB  Data Engineer inom Analytics/Business Intellig...   \n",
       "2         Tietoevry             Analytics Developer - Tietoevry Create   \n",
       "3            Essity                                      Data Engineer   \n",
       "4          Storytel                                       Data Analyst   \n",
       "5          Futurice                                      Data Engineer   \n",
       "6       AstraZeneca   Data Analytics & AWS Cloud Engineering Tech Lead   \n",
       "\n",
       "  Description About  \n",
       "0         NaN   NaN  \n",
       "1         NaN   NaN  \n",
       "2         NaN   NaN  \n",
       "3         NaN   NaN  \n",
       "4         NaN   NaN  \n",
       "5         NaN   NaN  \n",
       "6         NaN   NaN  "
      ]
     },
     "execution_count": 30,
     "metadata": {},
     "output_type": "execute_result"
    }
   ],
   "source": [
    "df"
   ]
  },
  {
   "cell_type": "code",
   "execution_count": 33,
   "metadata": {},
   "outputs": [],
   "source": [
    "df1=df.to_json(orient='records')"
   ]
  },
  {
   "cell_type": "code",
   "execution_count": 34,
   "metadata": {},
   "outputs": [
    {
     "data": {
      "text/plain": [
       "'[{\"Company\":\"Computer Futures\",\"Job_Title\":\"Data Engineer\",\"Description\":null,\"About\":null},{\"Company\":\"LKAB\",\"Job_Title\":\"Data Engineer inom Analytics\\\\/Business Intelligence\",\"Description\":null,\"About\":null},{\"Company\":\"Tietoevry\",\"Job_Title\":\"Analytics Developer - Tietoevry Create\",\"Description\":null,\"About\":null},{\"Company\":\"Essity\",\"Job_Title\":\"Data Engineer\",\"Description\":null,\"About\":null},{\"Company\":\"Storytel\",\"Job_Title\":\"Data Analyst\",\"Description\":null,\"About\":null},{\"Company\":\"Futurice\",\"Job_Title\":\"Data Engineer\",\"Description\":null,\"About\":null},{\"Company\":\"AstraZeneca\",\"Job_Title\":\"Data Analytics & AWS Cloud Engineering Tech Lead\",\"Description\":null,\"About\":null}]'"
      ]
     },
     "execution_count": 34,
     "metadata": {},
     "output_type": "execute_result"
    }
   ],
   "source": [
    "df1"
   ]
  }
 ],
 "metadata": {
  "kernelspec": {
   "display_name": "Python 3",
   "language": "python",
   "name": "python3"
  },
  "language_info": {
   "codemirror_mode": {
    "name": "ipython",
    "version": 3
   },
   "file_extension": ".py",
   "mimetype": "text/x-python",
   "name": "python",
   "nbconvert_exporter": "python",
   "pygments_lexer": "ipython3",
   "version": "3.10.2"
  },
  "orig_nbformat": 4
 },
 "nbformat": 4,
 "nbformat_minor": 2
}
