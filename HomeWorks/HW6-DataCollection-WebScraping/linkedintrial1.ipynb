{
 "cells": [
  {
   "cell_type": "code",
   "execution_count": 1,
   "metadata": {},
   "outputs": [
    {
     "name": "stdout",
     "output_type": "stream",
     "text": [
      "https://www.linkedin.com/jobs/search/?currentJobId=3584781384&geoId=105117694&keywords=Data%20Science&location=Sweden&refresh=true0\n",
      "Data updated\n",
      "https://www.linkedin.com/jobs/search/?currentJobId=3584781384&geoId=105117694&keywords=Data%20Science&location=Sweden&refresh=true25\n",
      "Data updated\n",
      "File closed\n"
     ]
    }
   ],
   "source": [
    "import csv\n",
    "import requests\n",
    "from bs4 import BeautifulSoup\n",
    " \n",
    "file = open('linkedin-jobs.csv', 'a')\n",
    "writer = csv.writer(file)\n",
    "writer.writerow(['Title', 'Company', 'Location', 'Apply'])\n",
    " \n",
    "def linkedin_scraper(webpage, page_number):\n",
    "    next_page = webpage + str(page_number)\n",
    "    print(str(next_page))\n",
    "    response = requests.get(str(next_page))\n",
    "    soup = BeautifulSoup(response.content,'html.parser')\n",
    " \n",
    "    jobs = soup.find_all('div', class_='base-card relative w-full hover:no-underline focus:no-underline base-card--link base-search-card base-search-card--link job-search-card')\n",
    "    for job in jobs:\n",
    "        job_title = job.find('h3', class_='base-search-card__title').text.strip()\n",
    "    job_company = job.find('h4', class_='base-search-card__subtitle').text.strip()\n",
    "    job_location = job.find('span', class_='job-search-card__location').text.strip()\n",
    "    job_link = job.find('a', class_='base-card__full-link')['href']\n",
    " \n",
    "    writer.writerow([\n",
    "    job_title.encode('utf-8'),\n",
    "    job_company.encode('utf-8'),\n",
    "    job_location.encode('utf-8'),\n",
    "    job_link.encode('utf-8')\n",
    "    ])\n",
    " \n",
    "    print('Data updated')\n",
    " \n",
    "    if page_number < 25:\n",
    "        page_number = page_number + 25\n",
    "        linkedin_scraper(webpage, page_number)\n",
    "    else:\n",
    "        file.close()\n",
    "        print('File closed')\n",
    " \n",
    "linkedin_scraper('https://www.linkedin.com/jobs/search/?currentJobId=3584781384&geoId=105117694&keywords=Data%20Science&location=Sweden&refresh=true', 0)\n",
    "\n",
    "\n"
   ]
  }
 ],
 "metadata": {
  "kernelspec": {
   "display_name": "Python 3",
   "language": "python",
   "name": "python3"
  },
  "language_info": {
   "codemirror_mode": {
    "name": "ipython",
    "version": 3
   },
   "file_extension": ".py",
   "mimetype": "text/x-python",
   "name": "python",
   "nbconvert_exporter": "python",
   "pygments_lexer": "ipython3",
   "version": "3.10.2"
  },
  "orig_nbformat": 4
 },
 "nbformat": 4,
 "nbformat_minor": 2
}
