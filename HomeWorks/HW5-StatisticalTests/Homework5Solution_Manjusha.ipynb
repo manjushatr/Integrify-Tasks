{
  "cells": [
    {
      "cell_type": "code",
      "execution_count": 1,
      "metadata": {
        "id": "bIhNGyx7Oelr"
      },
      "outputs": [],
      "source": [
        "import numpy as np\n",
        "from scipy import stats"
      ]
    },
    {
      "cell_type": "markdown",
      "metadata": {
        "id": "RyE6svMTRQPD"
      },
      "source": [
        "https://rtmath.net/assets/docs/finmath/html/9291020f-884a-4590-b988-3eda38560bb8.htm\n",
        "https://rtmath.net/assets/docs/finmath/html/bc1f37b5-460e-13ab-9ddb-0097a6609642.htm"
      ]
    },
    {
      "cell_type": "markdown",
      "metadata": {
        "id": "o2rgxBT7Pex_"
      },
      "source": [
        "<p>Z-score is a value used to describe the normal distribution. It is defined as the distance between the mean score and the experimental data point, expressed in terms of SD (standard deviation). In statistical data analysis, it is also called standard score, z value, standardized score, and normal score.</p>\n",
        "\n",
        "The formula for calculating a z-score is \n",
        "z = (x-μ)/σ, </br>\n",
        "where x is the raw score, μ is the population mean, and σ is the population standard deviation.</br>\n",
        "As the formula shows, the z-score is simply the raw score minus the population mean, divided by the population standard deviation."
      ]
    },
    {
      "cell_type": "code",
      "execution_count": 2,
      "metadata": {
        "id": "dLWBeHc6PEWh"
      },
      "outputs": [],
      "source": [
        "class ZTest:\n",
        "  \n",
        "\n",
        "    def zscore(self):\n",
        "        sample_mean = np.mean(self.x1)\n",
        "        sample_std = np.std(self.x1)\n",
        "        zscores = (self.x1 - sample_mean) / sample_std\n",
        "        return zscores\n",
        "\n",
        "    def __init__(self, x1, x2=None, value=0):\n",
        "        self.x1 = x1\n",
        "        self.x2 = x2\n",
        "        self.value = value\n",
        "\n",
        "    def run(self):\n",
        "        if self.x2 is None:\n",
        "            # One sample z-test\n",
        "            x1 = np.array(self.x1)\n",
        "            n = len(x1)\n",
        "            mean = x1.mean()\n",
        "            std = x1.std(ddof=1)\n",
        "            z = (mean - self.value) / (std / np.sqrt(n))\n",
        "            p = stats.norm.sf(abs(z)) * 2\n",
        "        else:\n",
        "            # Two sample z-test\n",
        "            x1 = np.array(self.x1)\n",
        "            x2 = np.array(self.x2)\n",
        "            n1 = len(x1)\n",
        "            n2 = len(x2)\n",
        "            mean1 = x1.mean()\n",
        "            mean2 = x2.mean()\n",
        "            std1 = x1.std(ddof=1)\n",
        "            std2 = x2.std(ddof=1)\n",
        "            z = (mean1 - mean2 - self.value) / np.sqrt(std1**2/n1 + std2**2/n2)\n",
        "            p = stats.norm.sf(abs(z)) * 2\n",
        "        return z, p\n",
        "    "
      ]
    },
    {
      "cell_type": "code",
      "execution_count": 3,
      "metadata": {
        "colab": {
          "base_uri": "https://localhost:8080/"
        },
        "id": "YNDN-xjQNdb7",
        "outputId": "8e50c9bc-eb07-4664-ee25-dffe864aff31"
      },
      "outputs": [
        {
          "data": {
            "text/plain": [
              "(1.5976240527147705, 0.11012667014384257)"
            ]
          },
          "execution_count": 3,
          "metadata": {},
          "output_type": "execute_result"
        }
      ],
      "source": [
        "#You can use this class to perform one sample and two sample z-tests in Python. Here is an example of how to use it:\n",
        "\n",
        "data = [88, 92, 94, 94, 96, 97, 97, 97, 99, 99, 105, 109, 109, 109, 110, 112, 112, 113, 114, 115]\n",
        "ztest = ZTest(data, value=100)\n",
        "ztest.run()\n",
        "\n",
        "\n",
        "#This returns (1.5976240527147705,0.1101266701438426), where the first value is the test statistic for the one sample z-test and the second value is the corresponding p-value. Is there anything else you would like to know?"
      ]
    },
    {
      "cell_type": "code",
      "execution_count": 4,
      "metadata": {
        "colab": {
          "base_uri": "https://localhost:8080/"
        },
        "id": "_4UUwSSVTdUj",
        "outputId": "f2056fd6-fb62-4675-d03b-c631d12ed807"
      },
      "outputs": [
        {
          "data": {
            "text/plain": [
              "array([-1.80856637, -1.32788428, -1.08754323, -1.08754323, -0.84720219,\n",
              "       -0.72703166, -0.72703166, -0.72703166, -0.48669062, -0.48669062,\n",
              "        0.23433252,  0.71501461,  0.71501461,  0.71501461,  0.83518513,\n",
              "        1.07552618,  1.07552618,  1.1956967 ,  1.31586722,  1.43603775])"
            ]
          },
          "execution_count": 4,
          "metadata": {},
          "output_type": "execute_result"
        }
      ],
      "source": [
        "ztest1=ZTest(data)\n",
        "ztest1.zscore()"
      ]
    },
    {
      "cell_type": "code",
      "execution_count": 5,
      "metadata": {
        "id": "yYbo1r1IUj-W"
      },
      "outputs": [],
      "source": [
        "import numpy as np\n",
        "from scipy import stats\n",
        "\n",
        "class TTest:\n",
        "    def __init__(self, data1, data2=None,value=0):\n",
        "        self.data1 = data1\n",
        "        self.data2 = data2\n",
        "        self.value = value\n",
        "\n",
        "    def one_sample_test(self,alpha=0.05):\n",
        "      # One sample t-test\n",
        "            data1_mean = np.mean(self.data1)\n",
        "            data1_std = np.std(self.data1)\n",
        "            #n = len(x1)\n",
        "            n_data1 = len(self.data1)\n",
        "            #mean = x1.mean()\n",
        "            #std = x1.std(ddof=1)\n",
        "            t_statistic = (data1_mean - self.value) / (data1_std / np.sqrt(n_data1))\n",
        "            p_value = stats.t.sf(abs(t_statistic), n_data1-1) * 2\n",
        "            if p_value < alpha:\n",
        "              print(\"The null hypothesis can be rejected\")\n",
        "            else:\n",
        "              print(\"The null hypothesis cannot be rejected\")\n",
        "\n",
        "\n",
        "    def two_sample_test(self, alpha=0.05):\n",
        "        data1_mean = np.mean(self.data1)\n",
        "        data2_mean = np.mean(self.data2)\n",
        "        data1_std = np.std(self.data1)\n",
        "        data2_std = np.std(self.data2)\n",
        "        n_data1 = len(self.data1)\n",
        "        n_data2 = len(self.data2)\n",
        "\n",
        "        pooled_std = np.sqrt(((n_data1 - 1) * data1_std ** 2 + (n_data2 - 1) * data2_std ** 2) / (n_data1 + n_data2 - 2))\n",
        "        t_statistic = (data2_mean - data1_mean) / (pooled_std * np.sqrt(1 / n_data1 + 1 / n_data2))\n",
        "        p_value = stats.t.sf(np.abs(t_statistic), n_data1 + n_data2 - 2) * 2\n",
        "\n",
        "        if p_value < alpha:\n",
        "            print(\"The null hypothesis can be rejected\")\n",
        "        else:\n",
        "            print(\"The null hypothesis cannot be rejected\")\n",
        "    \n",
        "    def paired_test(self,alpha=0.05):\n",
        "      n_data1 = len(self.data1)\n",
        "      d = self.data1 - self.data2\n",
        "      d_mean = d.mean()\n",
        "      d_std = d.std(ddof=1)\n",
        "      t_statistic = d_mean / (d_std / np.sqrt(n_data1))\n",
        "      p_value = stats.t.sf(abs(t_statistic), n_data1-1) * 2\n",
        "\n",
        "      if p_value < alpha:\n",
        "            print(\"The null hypothesis can be rejected\")\n",
        "      else:\n",
        "            print(\"The null hypothesis cannot be rejected\")"
      ]
    },
    {
      "cell_type": "code",
      "execution_count": 6,
      "metadata": {
        "colab": {
          "base_uri": "https://localhost:8080/"
        },
        "id": "Lsz1eyc_XJs8",
        "outputId": "5a91d63a-5732-4a02-833a-c6bfa274585d"
      },
      "outputs": [
        {
          "name": "stdout",
          "output_type": "stream",
          "text": [
            "The null hypothesis cannot be rejected\n"
          ]
        }
      ],
      "source": [
        "data = [88, 92, 94, 94, 96, 97, 97, 97, 99, 99, 105, 109, 109, 109, 110, 112, 112, 113, 114, 115]\n",
        "ttest = TTest(data , value=100)\n",
        "ttest.one_sample_test()"
      ]
    },
    {
      "cell_type": "code",
      "execution_count": 7,
      "metadata": {
        "id": "BQaapy4OYo1G"
      },
      "outputs": [],
      "source": [
        "from scipy import stats\n",
        "import statsmodels.api as sm\n",
        "from statsmodels.formula.api import ols\n",
        "\n",
        "class ANOVA:\n",
        "    def __init__(self, *args):\n",
        "        self.samples = args\n",
        "\n",
        "    def oneway(self):\n",
        "        f, p = stats.f_oneway(*self.samples)\n",
        "        return f, p\n",
        "\n",
        "    def twoway(self):\n",
        "        #f, p = stats.f_oneway(*[sample[:, value] for sample in self.samples])\n",
        "        #return f, p\n",
        "        model = ols('DV ~ IV1 + IV2', data=self.samples).fit()\n",
        "        aov_table = sm.stats.anova_lm(model, typ=2)"
      ]
    },
    {
      "cell_type": "code",
      "execution_count": 8,
      "metadata": {
        "colab": {
          "base_uri": "https://localhost:8080/"
        },
        "id": "9HxQ3g8uYuis",
        "outputId": "18cf51f3-69a1-4006-f534-51fcaac42375"
      },
      "outputs": [
        {
          "data": {
            "text/plain": [
              "(27.0, 0.0010000000000000002)"
            ]
          },
          "execution_count": 8,
          "metadata": {},
          "output_type": "execute_result"
        }
      ],
      "source": [
        "sample1 = [1, 2, 3]\n",
        "sample2 = [4, 5, 6]\n",
        "sample3 = [7, 8, 9]\n",
        "anova = ANOVA(sample1 , sample2 , sample3)\n",
        "anova.oneway()"
      ]
    },
    {
      "cell_type": "code",
      "execution_count": 9,
      "metadata": {
        "id": "KusbP5gAPowe"
      },
      "outputs": [],
      "source": [
        "class ChiSquareTest:\n",
        "    def __init__(self, observed, expected):\n",
        "        self.observed = observed\n",
        "        self.expected = expected\n",
        "        self.df = len(observed) - 1\n",
        "    \n",
        "    def test_statistic(self):\n",
        "        return np.sum((self.observed - self.expected) ** 2 / self.expected)\n",
        "\n",
        "    def p_value(self):\n",
        "        test_statistic = self.test_statistic()\n",
        "        return 1 - stats.chi2.cdf(test_statistic, self.df)\n"
      ]
    },
    {
      "cell_type": "code",
      "execution_count": null,
      "metadata": {},
      "outputs": [],
      "source": []
    },
    {
      "cell_type": "code",
      "execution_count": 10,
      "metadata": {
        "id": "8Cpfl-tRQWw7"
      },
      "outputs": [],
      "source": [
        "class ABTest:\n",
        "    def __init__(self, control, treatment):\n",
        "        self.control = control\n",
        "        self.treatment = treatment\n",
        "\n",
        "    def test(self, alpha=0.05):\n",
        "        control_mean = np.mean(self.control)\n",
        "        treatment_mean = np.mean(self.treatment)\n",
        "        control_std = np.std(self.control)\n",
        "        treatment_std = np.std(self.treatment)\n",
        "        n_control = len(self.control)\n",
        "        n_treatment = len(self.treatment)\n",
        "\n",
        "        pooled_std = np.sqrt(((n_control - 1) * control_std ** 2 + (n_treatment - 1) * treatment_std ** 2) / (n_control + n_treatment - 2))\n",
        "        t_statistic = (treatment_mean - control_mean) / (pooled_std * np.sqrt(1 / n_control + 1 / n_treatment))\n",
        "        p_value = stats.t.sf(np.abs(t_statistic), n_control + n_treatment - 2) * 2\n",
        "\n",
        "        if p_value < alpha:\n",
        "            print(\"The null hypothesis can be rejected\")\n",
        "        else:\n",
        "            print(\"The null hypothesis cannot be rejected\")"
      ]
    },
    {
      "cell_type": "code",
      "execution_count": 11,
      "metadata": {
        "id": "L3x0KscZRLHq"
      },
      "outputs": [],
      "source": [
        "\n",
        "class ABTest(TTest):\n",
        "    def __init__(self, control, treatment):\n",
        "        super().__init__(control, treatment)\n",
        "\n",
        "    def test(self, alpha=0.05):\n",
        "        self.two_sample_test(alpha)\n"
      ]
    },
    {
      "cell_type": "markdown",
      "metadata": {
        "id": "N56_JHycZQfn"
      },
      "source": [
        "Use these classes to solve the following problems:\n",
        "1. Z-test:\n",
        "Suppose we are testing a new model of cell-phone and want to compare its bandwidth to the\n",
        "previous model.\n",
        "Sample = [4.186, 4.439, 4.781, 4.388, 4.947, 4.853, 4.889, 4.682, 4.428, 4.533,4.557, 4.761, 4.491, 4.334, 4.83 , 4.268, 4.68 , 4.437, 5.382, 5.111, 5.096, 5.232,5.033, 5.57 , 4.474, 4.789, 4.725, 4.84 , 4.817, 4.438, 4.754, 4.966, 4.285, 4.482,4.396, 4.418, 4.514, 5.383, 5.264, 4.309, 5.058, 4.392, 4.788, 4.934, 4.967, 4.554,4.42 , 5. , 5.126, 5.082, 4.944, 4.658]\n",
        "● State the null and alternative hypotheses.\n",
        "● Use the Z-test to determine whether the new model has a significantly different\n",
        "bandwidth 4.5 GHz from the previous model with a standard deviation of 0.6\n",
        "GHz, using a significance level of 0.05.\n",
        "● Interpret the results\n"
      ]
    },
    {
      "cell_type": "code",
      "execution_count": 12,
      "metadata": {
        "id": "6XgGOKxgZSbt"
      },
      "outputs": [],
      "source": [
        "CellPhone_Sample = [4.186, 4.439, 4.781, 4.388, 4.947, 4.853, 4.889, 4.682, 4.428, 4.533,4.557, 4.761, 4.491, 4.334, 4.83 , 4.268, 4.68 , 4.437, 5.382, 5.111, 5.096, \n",
        "                    5.232,5.033, 5.57 , 4.474, 4.789, 4.725, 4.84 , 4.817, 4.438, 4.754, 4.966, 4.285, 4.482,4.396, 4.418, 4.514, 5.383, 5.264, 4.309, 5.058, 4.392, \n",
        "                    4.788, 4.934, 4.967, 4.554,4.42 , 5. , 5.126, 5.082, 4.944, 4.658]"
      ]
    },
    {
      "cell_type": "markdown",
      "metadata": {
        "id": "_j3LnKBoaLAG"
      },
      "source": [
        "Null Hypothesis :** H0** : The new model doesnt have a significantly different bandwidth from the pervious model"
      ]
    },
    {
      "cell_type": "code",
      "execution_count": 13,
      "metadata": {
        "colab": {
          "base_uri": "https://localhost:8080/"
        },
        "id": "0S6b7AHuajV0",
        "outputId": "c6b68003-7417-48c7-aaeb-8beb55ab3186"
      },
      "outputs": [
        {
          "name": "stdout",
          "output_type": "stream",
          "text": [
            "5.35229534880839\n",
            "8.68454972708201e-08\n"
          ]
        }
      ],
      "source": [
        "ztest = ZTest(CellPhone_Sample, value=4.5)\n",
        "zscore,pvalue=ztest.run()\n",
        "print(zscore)\n",
        "print(pvalue)"
      ]
    },
    {
      "cell_type": "markdown",
      "metadata": {
        "id": "kGqsLgGE5SVi"
      },
      "source": [
        "A z-test is a statistical test used to determine if there is a significant difference between the means of two groups or if a sample mean is significantly different from a population mean. The result of a z-test is a z-score, which represents the number of standard deviations that the observed difference is from the expected difference under the null hypothesis.\n",
        "\n",
        "To interpret the result of a z-test, you need to compare the calculated z-score to a critical value from a standard normal distribution table. If the absolute value of the z-score is greater than the critical value, then you can reject the null hypothesis and conclude that there is a significant difference between the means.\n",
        "\n",
        "The p-value of a z-test represents the probability of observing a z-score as extreme or more extreme than the calculated z-score if the null hypothesis is true. A small p-value (typically less than 0.05) indicates strong evidence against the null hypothesis and suggests that you can reject it."
      ]
    },
    {
      "cell_type": "code",
      "execution_count": 14,
      "metadata": {
        "colab": {
          "base_uri": "https://localhost:8080/"
        },
        "id": "PCduYk4S5Uai",
        "outputId": "4671eb1a-7a8f-4e27-9b00-f1953a0be00b"
      },
      "outputs": [
        {
          "name": "stdout",
          "output_type": "stream",
          "text": [
            "The null hypothesis can be rejected\n"
          ]
        }
      ],
      "source": [
        "alpha=0.05\n",
        "if pvalue < alpha:\n",
        "  print(\"The null hypothesis can be rejected\")\n",
        "else:\n",
        "  print(\"The null hypothesis cannot be rejected\")"
      ]
    },
    {
      "cell_type": "markdown",
      "metadata": {
        "id": "CBdsumms6F6F"
      },
      "source": [
        "The new cell phone model have a significant different bandwidth than the previous model"
      ]
    },
    {
      "cell_type": "markdown",
      "metadata": {
        "id": "A5Ak56Ar6RYH"
      },
      "source": [
        "2. T-test\n",
        "A. One sample T-test: Suppose we have a new manufacturing process for\n",
        "producing aluminum cans, and we want to test whether the mean weight of the\n",
        "cans produced using this new process is significantly different from the target\n",
        "weight of 15 grams. We randomly sample 30 cans produced using the new\n",
        "process and measure their weights in grams. We obtain the following data:\n",
        "Sample = [14.8, 15.2, 15.1, 15.3, 15.0, 14.9, 15.2, 14.8, 15.1, 15.0, 14.9,14.8, 15.2, 14.9, 15.0, 14.9, 15.1, 15.3, 15.0, 15.1, 14.8, 15.0, 15.2, 15.1,15.3, 15.1, 15.0, 14.8, 15.2, 15.0]\n",
        "● State the null and alternative hypotheses.\n",
        "● Use the appropriate T-test to determine whether the mean weight of the\n",
        "produced cans is equal to the target weight of 15 grams, using a\n",
        "significance level of 0.05.\n",
        "● Interpret the results\n"
      ]
    },
    {
      "cell_type": "markdown",
      "metadata": {
        "id": "_DqN7wI58HZj"
      },
      "source": [
        "<b>Null Hypothesis : H0 : The mean weight of the cans produced by the new manufacturing process is 15gms\n",
        "Alternate hypothesis : H1 : The mean weight of the cans produced is either greater than or less than 15gms</b>"
      ]
    },
    {
      "cell_type": "markdown",
      "metadata": {
        "id": "9SSO_wWt7ABz"
      },
      "source": [
        "In a one-sample t-test, the null hypothesis is that the population mean is equal to a specified value. This value is often denoted as μ0 and represents the hypothesized value of the population mean.\n",
        "\n",
        "The alternative hypothesis in a one-sample t-test can be either one-sided or two-sided. In a one-sided test, the alternative hypothesis is that the population mean is either greater than or less than μ0. In a two-sided test, the alternative hypothesis is that the population mean is not equal to μ0.\n",
        "\n",
        "The purpose of a one-sample t-test is to determine if there is enough evidence to reject the null hypothesis and conclude that the population mean is significantly different from μ0."
      ]
    },
    {
      "cell_type": "code",
      "execution_count": 15,
      "metadata": {
        "id": "_9vgQclC8-qH"
      },
      "outputs": [],
      "source": [
        "Can_weights = [14.8, 15.2, 15.1, 15.3, 15.0, 14.9, 15.2, 14.8, 15.1, 15.0, 14.9,14.8, 15.2, 14.9, 15.0, 14.9, 15.1, 15.3, 15.0, 15.1, 14.8, 15.0, 15.2,\n",
        "               15.1,15.3, 15.1, 15.0, 14.8, 15.2, 15.0] "
      ]
    },
    {
      "cell_type": "code",
      "execution_count": 16,
      "metadata": {
        "colab": {
          "base_uri": "https://localhost:8080/"
        },
        "id": "CPS85rho8tmS",
        "outputId": "0601b647-208e-4576-f9f9-1d0f2aad9a83"
      },
      "outputs": [
        {
          "name": "stdout",
          "output_type": "stream",
          "text": [
            "The null hypothesis can be rejected\n"
          ]
        }
      ],
      "source": [
        "ttest = TTest(Can_weights,15)\n",
        "ttest.one_sample_test()"
      ]
    },
    {
      "cell_type": "markdown",
      "metadata": {
        "id": "7RqOjQgl9wdv"
      },
      "source": [
        "The mean weight of the cans produced in the new manufacturing process is not 15gms, which was the expected target wieight. The process has to be redifined"
      ]
    },
    {
      "cell_type": "markdown",
      "metadata": {
        "id": "zQ8p7KLf-NwY"
      },
      "source": [
        "B. Two Sample T-test: Suppose a food company has developed a new flavor of\n",
        "potato chips and wants to compare it to the current best-selling flavor. The\n",
        "company randomly selects two groups of 20 customers each. The first group is\n",
        "given the new flavor of potato chips, while the second group is given the\n",
        "best-selling flavor. After trying the potato chips, each customer rates the flavor on\n",
        "a scale of 1 to 10. The following are the flavor ratings for the two groups:\n",
        "New flavor = [8, 7, 9, 6, 7, 8, 9, 7, 8, 7, 6, 8, 7, 9, 8, 7, 6, 9, 8, 7]\n",
        "Best selling flavor = [6, 7, 8, 6, 7, 6, 7, 6, 8, 7, 6, 7, 6, 8, 7, 6, 7, 8, 6, 7]\n",
        "● State the null and alternative hypotheses.\n",
        "● Use the appropriate T-test to determine whether there is a significant\n",
        "difference between the two groups or not, using a significance level of\n",
        "0.05.\n",
        "● Interpret the results"
      ]
    },
    {
      "cell_type": "markdown",
      "metadata": {
        "id": "__eDISmw-jY-"
      },
      "source": [
        "<b>Null Hypothesis: H0: The population mean of two groups are equal. (There is no significant difference between old flavor and new flavor)\n",
        "Alternate Hypothesis : H1 : The population mean of one group is either greater than or less than the population mean of the other group.(one-sided test)</br>\n",
        "Alternate Hypothesis : H1: The population mean of the two groups are not equal (two-sided test)</b>"
      ]
    },
    {
      "cell_type": "markdown",
      "metadata": {
        "id": "ZKqGbxeT_FC5"
      },
      "source": [
        "In a two-sample t-test, the null hypothesis is that the population means of two groups are equal. This means that any observed difference between the sample means of the two groups is due to random chance and not due to a significant difference between the population means.\n",
        "\n",
        "The alternative hypothesis in a two-sample t-test can be either one-sided or two-sided. In a one-sided test, the alternative hypothesis is that the population mean of one group is either greater than or less than the population mean of the other group. In a two-sided test, the alternative hypothesis is that the population means of the two groups are not equal.\n",
        "\n",
        "The purpose of a two-sample t-test is to determine if there is enough evidence to reject the null hypothesis and conclude that there is a significant difference between the population means of the two groups."
      ]
    },
    {
      "cell_type": "code",
      "execution_count": 17,
      "metadata": {
        "id": "aRhw1c15BFVJ"
      },
      "outputs": [],
      "source": [
        "Potato_New_flavor = [8, 7, 9, 6, 7, 8, 9, 7, 8, 7, 6, 8, 7, 9, 8, 7, 6, 9, 8, 7] \n",
        "Potato_Best_selling_flavor = [6, 7, 8, 6, 7, 6, 7, 6, 8, 7, 6, 7, 6, 8, 7, 6, 7, 8, 6, 7]\n"
      ]
    },
    {
      "cell_type": "code",
      "execution_count": 18,
      "metadata": {
        "colab": {
          "base_uri": "https://localhost:8080/"
        },
        "id": "WGbF7yAeCCUL",
        "outputId": "7d5cc14a-c371-4477-8c64-5a01f424adf5"
      },
      "outputs": [
        {
          "name": "stdout",
          "output_type": "stream",
          "text": [
            "The null hypothesis can be rejected\n"
          ]
        }
      ],
      "source": [
        "ttest = TTest(Potato_New_flavor,Potato_Best_selling_flavor)\n",
        "ttest.two_sample_test()"
      ]
    },
    {
      "cell_type": "markdown",
      "metadata": {
        "id": "ujZg8Rc0CeyZ"
      },
      "source": [
        "There is significant difference in the means of the two flavors"
      ]
    },
    {
      "cell_type": "markdown",
      "metadata": {
        "id": "zKSMC_i7C6n1"
      },
      "source": [
        "C. Paired T-test: Suppose a company wants to evaluate a new training program for\n",
        "its employees. The company selects 20 employees and measures their\n",
        "productivity before and after the training program. The following are the\n",
        "productivity scores (number of tasks completed per hour) for each employee\n",
        "before and after the training:\n",
        "Before = [15, 18, 12, 10, 17, 16, 12, 14, 19, 18, 11, 13, 16, 17, 19, 14, 16,13, 15, 12]\n",
        "After = [18, 20, 15, 13, 19, 18, 14, 16, 21, 20, 14, 16, 19, 20, 22, 16, 18,15, 17, 14]\n",
        "● State the null and alternative hypotheses.\n",
        "● Use the appropriate T-test to determine whether the new training program\n",
        "has had an effect on employee productivity, with a significance level of\n",
        "0.05."
      ]
    },
    {
      "cell_type": "markdown",
      "metadata": {
        "id": "ews6W6tyEUwW"
      },
      "source": [
        "<b> Null Hypothesis : H0 : The population mean of the differences between paired observations is equal to zero. (Training has no effect) <br />\n",
        "Alternate Hypothesis : H1 : The population mean of the differences between paired observations is either greater than or less than zero (one side test) <br />\n",
        "Alternate Hypothesis : H1: The population mean of the differences between paired observations is not equal to zero.(two sided)\n",
        "\n"
      ]
    },
    {
      "cell_type": "markdown",
      "metadata": {
        "id": "BhyH7XJ3ECyv"
      },
      "source": [
        "In a paired t-test, the null hypothesis is that the population mean of the differences between paired observations is equal to zero. This means that any observed difference between the sample means of the paired observations is due to random chance and not due to a significant difference between the population means.\n",
        "\n",
        "The alternative hypothesis in a paired t-test can be either one-sided or two-sided. In a one-sided test, the alternative hypothesis is that the population mean of the differences between paired observations is either greater than or less than zero. In a two-sided test, the alternative hypothesis is that the population mean of the differences between paired observations is not equal to zero.\n",
        "\n",
        "The purpose of a paired t-test is to determine if there is enough evidence to reject the null hypothesis and conclude that there is a significant difference between the population means of the paired observations."
      ]
    },
    {
      "cell_type": "code",
      "execution_count": 19,
      "metadata": {
        "id": "cqpxLaKoGJnv"
      },
      "outputs": [],
      "source": [
        "Before_training_prod = [15, 18, 12, 10, 17, 16, 12, 14, 19, 18, 11, 13, 16, 17, 19, 14, 16,13, 15, 12] \n",
        "After_training_prod = [18, 20, 15, 13, 19, 18, 14, 16, 21, 20, 14, 16, 19, 20, 22, 16, 18,15, 17, 14]\n"
      ]
    },
    {
      "cell_type": "code",
      "execution_count": 20,
      "metadata": {
        "colab": {
          "base_uri": "https://localhost:8080/"
        },
        "id": "3WtFuLG2Gaxm",
        "outputId": "80ca78da-2180-4db1-cc4b-5341a074e2c3"
      },
      "outputs": [
        {
          "name": "stdout",
          "output_type": "stream",
          "text": [
            "The null hypothesis can be rejected\n"
          ]
        }
      ],
      "source": [
        "ttest = TTest(np.array(Before_training_prod),np.array(After_training_prod))\n",
        "ttest.paired_test()"
      ]
    },
    {
      "cell_type": "markdown",
      "metadata": {
        "id": "KVTYJPLAHlfd"
      },
      "source": [
        "The new training program had an impact on the productivity of the employees"
      ]
    },
    {
      "cell_type": "markdown",
      "metadata": {
        "id": "tBEQqEzsHsgL"
      },
      "source": [
        "3. ANOVA Test\n",
        "A. One-Way: Suppose a company has three departments (A, B, and C) and wants\n",
        "to test whether there is a significant difference in salaries between the\n",
        "departments. The company selects 10 employees randomly from each\n",
        "department and records their salaries.\n",
        "Department A = [55, 60, 50, 58, 63, 62, 57, 56, 61, 59]\n",
        "Department B = [50, 52, 48, 49, 55, 53, 51, 54, 47, 50]\n",
        "Department C = [45, 43, 48, 50, 42, 47, 49, 46, 44, 48]\n",
        "● State the null and alternative hypotheses.\n",
        "● Use One-Way ANOVA-test to determine whether there is a significant\n",
        "difference in salaries between the three departments.\n",
        "● Interpret the results"
      ]
    },
    {
      "cell_type": "markdown",
      "metadata": {
        "id": "QlS0sWuKIarV"
      },
      "source": [
        "<b> Null Hypothesis : H0: The population means of all departments are equal <br />\n",
        "Alternate Hpothesis : H1: At least one of the population means is different from the others. This means that there is a significant difference between the population means of at least two of the groups."
      ]
    },
    {
      "cell_type": "markdown",
      "metadata": {
        "id": "VjfT6d-jH9u8"
      },
      "source": [
        "In a one-way ANOVA test, the null hypothesis is that the population means of all groups are equal. This means that any observed differences between the sample means of the groups are due to random chance and not due to a significant difference between the population means.\n",
        "\n",
        "The alternative hypothesis in a one-way ANOVA test is that at least one of the population means is different from the others. This means that there is a significant difference between the population means of at least two of the groups.\n",
        "\n",
        "The purpose of a one-way ANOVA test is to determine if there is enough evidence to reject the null hypothesis and conclude that there is a significant difference between the population means of at least two of the groups."
      ]
    },
    {
      "cell_type": "code",
      "execution_count": 21,
      "metadata": {
        "id": "Xu8HvqZeI9px"
      },
      "outputs": [],
      "source": [
        "DepartmentA = [55, 60, 50, 58, 63, 62, 57, 56, 61, 59]\n",
        "DepartmentB = [50, 52, 48, 49, 55, 53, 51, 54, 47, 50] \n",
        "DepartmentC = [45, 43, 48, 50, 42, 47, 49, 46, 44, 48]\n"
      ]
    },
    {
      "cell_type": "code",
      "execution_count": 22,
      "metadata": {
        "colab": {
          "base_uri": "https://localhost:8080/"
        },
        "id": "gcj4P8d2JN7i",
        "outputId": "eeaa7b48-da76-4e37-cc02-d5c49ac9fa68"
      },
      "outputs": [
        {
          "name": "stdout",
          "output_type": "stream",
          "text": [
            "37.68181818181821\n",
            "1.5361859680465563e-08\n"
          ]
        }
      ],
      "source": [
        "anova = ANOVA(DepartmentA  , DepartmentB , DepartmentC)\n",
        "fscore,pvalue=anova.oneway()\n",
        "print(fscore)\n",
        "print(pvalue)"
      ]
    },
    {
      "cell_type": "code",
      "execution_count": 23,
      "metadata": {
        "colab": {
          "base_uri": "https://localhost:8080/"
        },
        "id": "zbv5ijHcKUdy",
        "outputId": "f7033e8e-d976-433a-b791-a7caf54dbfbb"
      },
      "outputs": [
        {
          "name": "stdout",
          "output_type": "stream",
          "text": [
            "The null hypothesis can be rejected\n"
          ]
        }
      ],
      "source": [
        "alpha=0.05\n",
        "if pvalue < alpha:\n",
        "  print(\"The null hypothesis can be rejected\")\n",
        "else:\n",
        "  print(\"The null hypothesis cannot be rejected\")"
      ]
    },
    {
      "cell_type": "markdown",
      "metadata": {
        "id": "dqovmN_fKii8"
      },
      "source": [
        "<b>There is a significant difference between at least two of the population means. (Salary difference is there between atleast two departments)</b>"
      ]
    },
    {
      "cell_type": "markdown",
      "metadata": {
        "id": "oNeEQzqbKsuJ"
      },
      "source": [
        "B. Two-Way: Suppose a company has three departments (A, B, and C) and wants\n",
        "to test whether there is a significant difference in salaries between the\n",
        "departments, while also considering the effect of gender. The company selects\n",
        "10 employees randomly from each department and records their salaries and\n",
        "gender.\n",
        "Department A:\n",
        "Male: [$55k, $60k, $50k, $58k, $63k]\n",
        "Female: [$62k, $57k, $56k, $61k, $59k]\n",
        "Department B:\n",
        "Male: [$50k, $52k, $48k, $49k, $55k]\n",
        "Female: [$53k, $51k, $54k, $47k, $50k]\n",
        "Department C:\n",
        "Male: [$45k, $43k, $48k, $50k, $42k]\n",
        "Female: $47k, $49k, $46k, $44k, $48k]\n",
        "● State the null and alternative hypotheses.\n",
        "● Use Two-Way ANOVA-test to determine whether there is a significant\n",
        "difference in salaries between the three departments.\n",
        "● Interpret the results\n"
      ]
    },
    {
      "cell_type": "markdown",
      "metadata": {
        "id": "kX0ZR_ULLbLS"
      },
      "source": [
        "<b>Null Hypothesis : H0: There is no significant interaction between the two independent variables (department, gender) on the dependent variable(salary). This means that the effect of one independent variable on the dependent variable is the same at all levels of the other independent variable.<br />\n",
        "Alternate Hypothesis : H1 : There is a significant interaction between the two independent variables or that there is a significant main effect of at least one of the independent variables."
      ]
    },
    {
      "cell_type": "markdown",
      "metadata": {
        "id": "4n9_NVmRK9pp"
      },
      "source": [
        "In a two-way ANOVA test, the null hypothesis is that there is no significant interaction between the two independent variables on the dependent variable. This means that the effect of one independent variable on the dependent variable is the same at all levels of the other independent variable.\n",
        "\n",
        "In addition to testing for an interaction effect, a two-way ANOVA test also tests for main effects of each independent variable. The null hypothesis for each main effect is that the population means of the dependent variable are equal across all levels of the independent variable.\n",
        "\n",
        "The alternative hypothesis in a two-way ANOVA test is that there is a significant interaction between the two independent variables or that there is a significant main effect of at least one of the independent variables.\n",
        "\n",
        "The purpose of a two-way ANOVA test is to determine if there is enough evidence to reject the null hypotheses and conclude that there is a significant interaction between the independent variables or a significant main effect of at least one of the independent variables on the dependent variable."
      ]
    },
    {
      "cell_type": "code",
      "execution_count": 24,
      "metadata": {
        "id": "EI9ZlF7wQpXm"
      },
      "outputs": [],
      "source": [
        "import pandas as pd\n",
        "data = {'Department': ['A', 'A', 'A', 'A', 'A', 'B', 'B', 'B', 'B', 'B', 'C', 'C', 'C', 'C', 'C'] * 2,\n",
        "        'Gender': ['Male'] * 15 + ['Female'] * 15,\n",
        "        'Salary': [55,60,50,58,63,62,57,56,61,59,50,52,48,49,55,53,51,54,47,50,45,43,48,50,42,47,49,46,44,48]}\n",
        "\n",
        "df = pd.DataFrame(data)"
      ]
    },
    {
      "cell_type": "code",
      "execution_count": 25,
      "metadata": {
        "id": "cPV3ZYzpPKZD"
      },
      "outputs": [],
      "source": [
        "anova = ANOVA(df)"
      ]
    },
    {
      "cell_type": "code",
      "execution_count": 26,
      "metadata": {
        "id": "8-5GX7tES19v"
      },
      "outputs": [
        {
          "data": {
            "text/html": [
              "<div>\n",
              "<style scoped>\n",
              "    .dataframe tbody tr th:only-of-type {\n",
              "        vertical-align: middle;\n",
              "    }\n",
              "\n",
              "    .dataframe tbody tr th {\n",
              "        vertical-align: top;\n",
              "    }\n",
              "\n",
              "    .dataframe thead th {\n",
              "        text-align: right;\n",
              "    }\n",
              "</style>\n",
              "<table border=\"1\" class=\"dataframe\">\n",
              "  <thead>\n",
              "    <tr style=\"text-align: right;\">\n",
              "      <th></th>\n",
              "      <th>Department</th>\n",
              "      <th>Gender</th>\n",
              "      <th>Salary</th>\n",
              "    </tr>\n",
              "  </thead>\n",
              "  <tbody>\n",
              "    <tr>\n",
              "      <th>0</th>\n",
              "      <td>A</td>\n",
              "      <td>Male</td>\n",
              "      <td>55</td>\n",
              "    </tr>\n",
              "    <tr>\n",
              "      <th>1</th>\n",
              "      <td>A</td>\n",
              "      <td>Male</td>\n",
              "      <td>60</td>\n",
              "    </tr>\n",
              "    <tr>\n",
              "      <th>2</th>\n",
              "      <td>A</td>\n",
              "      <td>Male</td>\n",
              "      <td>50</td>\n",
              "    </tr>\n",
              "    <tr>\n",
              "      <th>3</th>\n",
              "      <td>A</td>\n",
              "      <td>Male</td>\n",
              "      <td>58</td>\n",
              "    </tr>\n",
              "    <tr>\n",
              "      <th>4</th>\n",
              "      <td>A</td>\n",
              "      <td>Male</td>\n",
              "      <td>63</td>\n",
              "    </tr>\n",
              "    <tr>\n",
              "      <th>5</th>\n",
              "      <td>B</td>\n",
              "      <td>Male</td>\n",
              "      <td>62</td>\n",
              "    </tr>\n",
              "    <tr>\n",
              "      <th>6</th>\n",
              "      <td>B</td>\n",
              "      <td>Male</td>\n",
              "      <td>57</td>\n",
              "    </tr>\n",
              "    <tr>\n",
              "      <th>7</th>\n",
              "      <td>B</td>\n",
              "      <td>Male</td>\n",
              "      <td>56</td>\n",
              "    </tr>\n",
              "    <tr>\n",
              "      <th>8</th>\n",
              "      <td>B</td>\n",
              "      <td>Male</td>\n",
              "      <td>61</td>\n",
              "    </tr>\n",
              "    <tr>\n",
              "      <th>9</th>\n",
              "      <td>B</td>\n",
              "      <td>Male</td>\n",
              "      <td>59</td>\n",
              "    </tr>\n",
              "    <tr>\n",
              "      <th>10</th>\n",
              "      <td>C</td>\n",
              "      <td>Male</td>\n",
              "      <td>50</td>\n",
              "    </tr>\n",
              "    <tr>\n",
              "      <th>11</th>\n",
              "      <td>C</td>\n",
              "      <td>Male</td>\n",
              "      <td>52</td>\n",
              "    </tr>\n",
              "    <tr>\n",
              "      <th>12</th>\n",
              "      <td>C</td>\n",
              "      <td>Male</td>\n",
              "      <td>48</td>\n",
              "    </tr>\n",
              "    <tr>\n",
              "      <th>13</th>\n",
              "      <td>C</td>\n",
              "      <td>Male</td>\n",
              "      <td>49</td>\n",
              "    </tr>\n",
              "    <tr>\n",
              "      <th>14</th>\n",
              "      <td>C</td>\n",
              "      <td>Male</td>\n",
              "      <td>55</td>\n",
              "    </tr>\n",
              "    <tr>\n",
              "      <th>15</th>\n",
              "      <td>A</td>\n",
              "      <td>Female</td>\n",
              "      <td>53</td>\n",
              "    </tr>\n",
              "    <tr>\n",
              "      <th>16</th>\n",
              "      <td>A</td>\n",
              "      <td>Female</td>\n",
              "      <td>51</td>\n",
              "    </tr>\n",
              "    <tr>\n",
              "      <th>17</th>\n",
              "      <td>A</td>\n",
              "      <td>Female</td>\n",
              "      <td>54</td>\n",
              "    </tr>\n",
              "    <tr>\n",
              "      <th>18</th>\n",
              "      <td>A</td>\n",
              "      <td>Female</td>\n",
              "      <td>47</td>\n",
              "    </tr>\n",
              "    <tr>\n",
              "      <th>19</th>\n",
              "      <td>A</td>\n",
              "      <td>Female</td>\n",
              "      <td>50</td>\n",
              "    </tr>\n",
              "    <tr>\n",
              "      <th>20</th>\n",
              "      <td>B</td>\n",
              "      <td>Female</td>\n",
              "      <td>45</td>\n",
              "    </tr>\n",
              "    <tr>\n",
              "      <th>21</th>\n",
              "      <td>B</td>\n",
              "      <td>Female</td>\n",
              "      <td>43</td>\n",
              "    </tr>\n",
              "    <tr>\n",
              "      <th>22</th>\n",
              "      <td>B</td>\n",
              "      <td>Female</td>\n",
              "      <td>48</td>\n",
              "    </tr>\n",
              "    <tr>\n",
              "      <th>23</th>\n",
              "      <td>B</td>\n",
              "      <td>Female</td>\n",
              "      <td>50</td>\n",
              "    </tr>\n",
              "    <tr>\n",
              "      <th>24</th>\n",
              "      <td>B</td>\n",
              "      <td>Female</td>\n",
              "      <td>42</td>\n",
              "    </tr>\n",
              "    <tr>\n",
              "      <th>25</th>\n",
              "      <td>C</td>\n",
              "      <td>Female</td>\n",
              "      <td>47</td>\n",
              "    </tr>\n",
              "    <tr>\n",
              "      <th>26</th>\n",
              "      <td>C</td>\n",
              "      <td>Female</td>\n",
              "      <td>49</td>\n",
              "    </tr>\n",
              "    <tr>\n",
              "      <th>27</th>\n",
              "      <td>C</td>\n",
              "      <td>Female</td>\n",
              "      <td>46</td>\n",
              "    </tr>\n",
              "    <tr>\n",
              "      <th>28</th>\n",
              "      <td>C</td>\n",
              "      <td>Female</td>\n",
              "      <td>44</td>\n",
              "    </tr>\n",
              "    <tr>\n",
              "      <th>29</th>\n",
              "      <td>C</td>\n",
              "      <td>Female</td>\n",
              "      <td>48</td>\n",
              "    </tr>\n",
              "  </tbody>\n",
              "</table>\n",
              "</div>"
            ],
            "text/plain": [
              "   Department  Gender  Salary\n",
              "0           A    Male      55\n",
              "1           A    Male      60\n",
              "2           A    Male      50\n",
              "3           A    Male      58\n",
              "4           A    Male      63\n",
              "5           B    Male      62\n",
              "6           B    Male      57\n",
              "7           B    Male      56\n",
              "8           B    Male      61\n",
              "9           B    Male      59\n",
              "10          C    Male      50\n",
              "11          C    Male      52\n",
              "12          C    Male      48\n",
              "13          C    Male      49\n",
              "14          C    Male      55\n",
              "15          A  Female      53\n",
              "16          A  Female      51\n",
              "17          A  Female      54\n",
              "18          A  Female      47\n",
              "19          A  Female      50\n",
              "20          B  Female      45\n",
              "21          B  Female      43\n",
              "22          B  Female      48\n",
              "23          B  Female      50\n",
              "24          B  Female      42\n",
              "25          C  Female      47\n",
              "26          C  Female      49\n",
              "27          C  Female      46\n",
              "28          C  Female      44\n",
              "29          C  Female      48"
            ]
          },
          "execution_count": 26,
          "metadata": {},
          "output_type": "execute_result"
        }
      ],
      "source": [
        "df"
      ]
    },
    {
      "cell_type": "code",
      "execution_count": 27,
      "metadata": {},
      "outputs": [
        {
          "name": "stdout",
          "output_type": "stream",
          "text": [
            "Unexpected exception formatting exception. Falling back to standard exception\n"
          ]
        },
        {
          "name": "stderr",
          "output_type": "stream",
          "text": [
            "Traceback (most recent call last):\n",
            "  File \"c:\\Python310\\lib\\site-packages\\patsy\\compat.py\", line 36, in call_and_wrap_exc\n",
            "    return f(*args, **kwargs)\n",
            "  File \"c:\\Python310\\lib\\site-packages\\patsy\\eval.py\", line 169, in eval\n",
            "    return eval(code, {}, VarLookupDict([inner_namespace]\n",
            "  File \"<string>\", line 1, in <module>\n",
            "  File \"c:\\Python310\\lib\\site-packages\\patsy\\eval.py\", line 52, in __getitem__\n",
            "    return d[key]\n",
            "  File \"c:\\Python310\\lib\\site-packages\\patsy\\eval.py\", line 52, in __getitem__\n",
            "    return d[key]\n",
            "TypeError: tuple indices must be integers or slices, not str\n",
            "\n",
            "The above exception was the direct cause of the following exception:\n",
            "\n",
            "Traceback (most recent call last):\n",
            "  File \"C:\\Users\\Manjusha\\AppData\\Roaming\\Python\\Python310\\site-packages\\IPython\\core\\interactiveshell.py\", line 3378, in run_code\n",
            "    exec(code_obj, self.user_global_ns, self.user_ns)\n",
            "  File \"C:\\Users\\Manjusha\\AppData\\Local\\Temp\\ipykernel_25756\\1751689729.py\", line 1, in <module>\n",
            "    anova.twoway()\n",
            "  File \"C:\\Users\\Manjusha\\AppData\\Local\\Temp\\ipykernel_25756\\1379437454.py\", line 16, in twoway\n",
            "    model = ols('DV ~ IV1 + IV2', data=self.samples).fit()\n",
            "  File \"c:\\Python310\\lib\\site-packages\\statsmodels\\base\\model.py\", line 200, in from_formula\n",
            "    tmp = handle_formula_data(data, None, formula, depth=eval_env,\n",
            "  File \"c:\\Python310\\lib\\site-packages\\statsmodels\\formula\\formulatools.py\", line 66, in handle_formula_data\n",
            "    result = dmatrices(formula, Y, depth, return_type='dataframe',\n",
            "  File \"c:\\Python310\\lib\\site-packages\\patsy\\highlevel.py\", line 309, in dmatrices\n",
            "    (lhs, rhs) = _do_highlevel_design(formula_like, data, eval_env,\n",
            "  File \"c:\\Python310\\lib\\site-packages\\patsy\\highlevel.py\", line 164, in _do_highlevel_design\n",
            "    design_infos = _try_incr_builders(formula_like, data_iter_maker, eval_env,\n",
            "  File \"c:\\Python310\\lib\\site-packages\\patsy\\highlevel.py\", line 66, in _try_incr_builders\n",
            "    return design_matrix_builders([formula_like.lhs_termlist,\n",
            "  File \"c:\\Python310\\lib\\site-packages\\patsy\\build.py\", line 693, in design_matrix_builders\n",
            "    cat_levels_contrasts) = _examine_factor_types(all_factors,\n",
            "  File \"c:\\Python310\\lib\\site-packages\\patsy\\build.py\", line 443, in _examine_factor_types\n",
            "    value = factor.eval(factor_states[factor], data)\n",
            "  File \"c:\\Python310\\lib\\site-packages\\patsy\\eval.py\", line 568, in eval\n",
            "    return self._eval(memorize_state[\"eval_code\"],\n",
            "  File \"c:\\Python310\\lib\\site-packages\\patsy\\eval.py\", line 551, in _eval\n",
            "    return call_and_wrap_exc(\"Error evaluating factor\",\n",
            "  File \"c:\\Python310\\lib\\site-packages\\patsy\\compat.py\", line 43, in call_and_wrap_exc\n",
            "    exec(\"raise new_exc from e\")\n",
            "  File \"<string>\", line 1, in <module>\n",
            "patsy.PatsyError: Error evaluating factor: TypeError: tuple indices must be integers or slices, not str\n",
            "    DV ~ IV1 + IV2\n",
            "    ^^\n",
            "\n",
            "During handling of the above exception, another exception occurred:\n",
            "\n",
            "Traceback (most recent call last):\n",
            "  File \"C:\\Users\\Manjusha\\AppData\\Roaming\\Python\\Python310\\site-packages\\IPython\\core\\interactiveshell.py\", line 1997, in showtraceback\n",
            "    stb = self.InteractiveTB.structured_traceback(\n",
            "  File \"C:\\Users\\Manjusha\\AppData\\Roaming\\Python\\Python310\\site-packages\\IPython\\core\\ultratb.py\", line 1112, in structured_traceback\n",
            "    return FormattedTB.structured_traceback(\n",
            "  File \"C:\\Users\\Manjusha\\AppData\\Roaming\\Python\\Python310\\site-packages\\IPython\\core\\ultratb.py\", line 1006, in structured_traceback\n",
            "    return VerboseTB.structured_traceback(\n",
            "  File \"C:\\Users\\Manjusha\\AppData\\Roaming\\Python\\Python310\\site-packages\\IPython\\core\\ultratb.py\", line 878, in structured_traceback\n",
            "    formatted_exceptions += self.format_exception_as_a_whole(etype, evalue, etb, lines_of_context,\n",
            "  File \"C:\\Users\\Manjusha\\AppData\\Roaming\\Python\\Python310\\site-packages\\IPython\\core\\ultratb.py\", line 801, in format_exception_as_a_whole\n",
            "    if r.frame.f_locals.get(\"__tracebackhide__\", 0) and i != lastrecord:\n",
            "  File \"c:\\Python310\\lib\\site-packages\\patsy\\eval.py\", line 70, in get\n",
            "    return self[key]\n",
            "  File \"c:\\Python310\\lib\\site-packages\\patsy\\eval.py\", line 52, in __getitem__\n",
            "    return d[key]\n",
            "  File \"c:\\Python310\\lib\\site-packages\\patsy\\eval.py\", line 52, in __getitem__\n",
            "    return d[key]\n",
            "TypeError: tuple indices must be integers or slices, not str\n"
          ]
        }
      ],
      "source": [
        "anova.twoway()\n",
        "\n",
        "\n"
      ]
    },
    {
      "cell_type": "markdown",
      "metadata": {
        "id": "bq1cCFs3Lz4w"
      },
      "source": [
        "4. Chi-Square: Suppose we have a hypothesis that a six-sided die is fair, with each side\n",
        "having an equal probability of landing face up. We roll the die 100 times and record the\n",
        "number of times each side appears:\n",
        "Side Observed Frequency\n",
        "1 18\n",
        "2 20\n",
        "3 16\n",
        "4 22\n",
        "5 14\n",
        "6 10\n",
        "Given that the expected probabilities are equal to 1/6, Use the class CHi-Square to\n",
        "estimate the goodness-of-fit through chi-square test to determine whether the observed\n",
        "frequencies are consistent with the expected frequencies under the null hypothesis of a\n",
        "fair die."
      ]
    },
    {
      "cell_type": "code",
      "execution_count": 28,
      "metadata": {
        "id": "7Mfe6wErNnNe"
      },
      "outputs": [
        {
          "name": "stdout",
          "output_type": "stream",
          "text": [
            "[18 20 16 22 14 10]\n"
          ]
        }
      ],
      "source": [
        "ObservedFrequency=[18,20,16,22,14,10]\n",
        "\n",
        "# assuming observed is a 2D array of observed frequencies\n",
        "observed = np.array(ObservedFrequency)\n",
        "print(observed)\n",
        "# calculate row and column totals\n",
        "\n",
        "\n",
        "# calculate expected frequencies\n",
        "expected= np.array([1/6]*6)\n",
        "\n"
      ]
    },
    {
      "cell_type": "code",
      "execution_count": 29,
      "metadata": {},
      "outputs": [],
      "source": [
        "chi_square_test = ChiSquareTest(observed, expected)"
      ]
    },
    {
      "cell_type": "code",
      "execution_count": 30,
      "metadata": {},
      "outputs": [
        {
          "name": "stdout",
          "output_type": "stream",
          "text": [
            "Test statistic: 10361.000\n",
            "P-value: 0.000\n"
          ]
        }
      ],
      "source": [
        "test_stat=chi_square_test.test_statistic()\n",
        "print(f\"Test statistic: {test_stat:.3f}\")\n",
        "print(f\"P-value: {chi_square_test.p_value():.3f}\")"
      ]
    },
    {
      "attachments": {},
      "cell_type": "markdown",
      "metadata": {},
      "source": [
        "The null hypothesis in a chi-square test is that there is no significant difference between the observed and expected frequencies. In other words, the null hypothesis assumes that any differences between the observed and expected frequencies are due to random chance."
      ]
    },
    {
      "attachments": {},
      "cell_type": "markdown",
      "metadata": {},
      "source": [
        "A/B testing: Suppose a company has launched a new flavor of soda and wants to test if\n",
        "it has a higher preference than the old flavor. The company conducts a survey with a\n",
        "sample of 30 customers, randomly split into two groups of 15. One group is given the old\n",
        "flavor of soda and the other group is given the new flavor of soda. Each participant rates\n",
        "their preference on a scale of 1 to 10.\n",
        "Old Flavor = [6, 7, 8, 5, 6, 7, 5, 8, 6, 7, 5, 6, 7, 6, 5]\n",
        "New Flavor = [8, 9, 7, 8, 9, 6, 7, 8, 7, 8, 7, 8, 9, 6, 8]"
      ]
    },
    {
      "attachments": {},
      "cell_type": "markdown",
      "metadata": {},
      "source": [
        "State the null and alternative hypotheses <br />\n",
        "In A/B testing, the null hypothesis is the default and it always says that there is no difference between the two groups being tested. You can think of this as a negative result to a test.<br />\n",
        "Alternate Hypothesis: there is a difference between the two groups being tested. You can think of this as a positive result to a test"
      ]
    },
    {
      "cell_type": "code",
      "execution_count": 31,
      "metadata": {},
      "outputs": [],
      "source": [
        "Old_Flavor = [6, 7, 8, 5, 6, 7, 5, 8, 6, 7, 5, 6, 7, 6, 5]\n",
        "New_Flavor = [8, 9, 7, 8, 9, 6, 7, 8, 7, 8, 7, 8, 9, 6, 8]"
      ]
    },
    {
      "attachments": {},
      "cell_type": "markdown",
      "metadata": {},
      "source": [
        "\n",
        "● Use two sample t-test to determine whether there is a significant\n",
        "difference in preference between the old and new flavors of soda, with a\n",
        "significance level of 0.05"
      ]
    },
    {
      "cell_type": "code",
      "execution_count": 32,
      "metadata": {},
      "outputs": [
        {
          "name": "stdout",
          "output_type": "stream",
          "text": [
            "The null hypothesis can be rejected\n"
          ]
        }
      ],
      "source": [
        "abtest = ABTest(Old_Flavor,New_Flavor)\n",
        "abtest.test()"
      ]
    }
  ],
  "metadata": {
    "colab": {
      "provenance": []
    },
    "kernelspec": {
      "display_name": "Python 3",
      "name": "python3"
    },
    "language_info": {
      "codemirror_mode": {
        "name": "ipython",
        "version": 3
      },
      "file_extension": ".py",
      "mimetype": "text/x-python",
      "name": "python",
      "nbconvert_exporter": "python",
      "pygments_lexer": "ipython3",
      "version": "3.10.2"
    }
  },
  "nbformat": 4,
  "nbformat_minor": 0
}
