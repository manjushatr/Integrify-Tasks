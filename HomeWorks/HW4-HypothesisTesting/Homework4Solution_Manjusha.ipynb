{
  "cells": [
    {
      "cell_type": "markdown",
      "metadata": {
        "id": "hWuZYkzwoPDd"
      },
      "source": [
        "## **Statistical Inference**\n",
        "\n",
        "\n",
        "---\n",
        "\n",
        "\n",
        "The process of drawing conclusions about populations or scientific truths from data. \n",
        "\n",
        "Inferences about a population are made based on certain statistics calculated from a *sample of data drawn from that population*.\n",
        "\n",
        "**Descriptive statistics** focus on describing the visible characteristics of a dataset (a population or sample). Meanwhile, **Inferential statistics** focus on making predictions or generalizations about a larger dataset, based on a sample of those data"
      ]
    },
    {
      "cell_type": "markdown",
      "metadata": {
        "id": "twODS3JVqDD3"
      },
      "source": [
        "#Question 1 : Suppose we want to test whether the mean weight of apples in a grocery store is 150#\n",
        "grams. We randomly sample 20 apples from the store and measure their weights,\n",
        "getting the following data:\n",
        "Apple_weights = [145, 155, 160, 146, 142, 152, 150, 147, 148, 149, 148, 152,\n",
        "153, 155, 154, 148, 151, 147, 153, 146]"
      ]
    },
    {
      "cell_type": "code",
      "execution_count": 1,
      "metadata": {
        "id": "DDSIYRS3cCh_"
      },
      "outputs": [],
      "source": [
        "Apple_weights = [145, 155, 160, 146, 142, 152, 150, 147, 148, 149, 148, 152, 153, 155, 154, 148, 151, 147, 153, 146]"
      ]
    },
    {
      "cell_type": "code",
      "execution_count": 2,
      "metadata": {
        "colab": {
          "base_uri": "https://localhost:8080/"
        },
        "id": "0GIR-qbPqe1B",
        "outputId": "e2fb5d4e-463c-4838-848e-ee4a230b4c22"
      },
      "outputs": [
        {
          "data": {
            "text/plain": [
              "[145,\n",
              " 155,\n",
              " 160,\n",
              " 146,\n",
              " 142,\n",
              " 152,\n",
              " 150,\n",
              " 147,\n",
              " 148,\n",
              " 149,\n",
              " 148,\n",
              " 152,\n",
              " 153,\n",
              " 155,\n",
              " 154,\n",
              " 148,\n",
              " 151,\n",
              " 147,\n",
              " 153,\n",
              " 146]"
            ]
          },
          "execution_count": 2,
          "metadata": {},
          "output_type": "execute_result"
        }
      ],
      "source": [
        "Apple_weights"
      ]
    },
    {
      "cell_type": "markdown",
      "metadata": {
        "id": "uM7QQMrYqlY2"
      },
      "source": [
        "<ul><li> <b>What test should we use and why?</b><br>\n",
        "<b>Hypothesis Testing </b>\n",
        "<br>\n",
        "Generally used when we want to compare a single group with an external standard (mean) <br>\n",
        "Type of Hypothesis testing to be used here is <b> one sample t-test </b> (here we have one group to be compared against a standard value\n",
        "\n",
        "\n",
        "---\n",
        "\n"
      ]
    },
    {
      "cell_type": "markdown",
      "metadata": {
        "id": "TS22kxtiqrAP"
      },
      "source": [
        "<ul><li><b>State the null and alternative hypotheses.</b></li></ul>\n",
        "\n",
        "Null Hypothesis : H<sub>0</sub> - The mean weight of apples in a grocery store is equal to 150 grams. (accepted fact) <br />\n",
        "Alternative Hypothesis: H<sub>a</sub> : The mean weight of apples in the grocery store is not equal to  150 (two tailed or two sided)<br />\n",
        "Alternative Hypothesis: H<sub>a</sub> : The mean weight of apples in the grocery store is either less than or greater than 150 (one tailed or one sided)\n",
        "\n",
        "\n",
        "---\n",
        "\n"
      ]
    },
    {
      "cell_type": "markdown",
      "metadata": {
        "id": "DoaCh2miPKdW"
      },
      "source": [
        "<ul><li><b>Choose a significance level (α) (the probability of rejecting the null hypothesis\n",
        "when it is actually true). </b></l></ul><br>\n",
        "<b>5%</b>, which is the generally chosen value\n",
        "<br><br>\n",
        "Note: <i>Level of significance defines whether the null hypothesis is assumed to be accepted or rejected. The significance level, also denoted as alpha, is a measure of the strength of the evidence that must be present in your sample before rejecting the null.</i>\n"
      ]
    },
    {
      "cell_type": "markdown",
      "metadata": {
        "id": "t6V8n1qYPo1f"
      },
      "source": [
        "<ul><li><b>Determine the degrees of freedom (df) of the sample. Df = sample size -1</b></li></ul>\n",
        "\n",
        "\n",
        "---\n",
        "\n"
      ]
    },
    {
      "cell_type": "markdown",
      "metadata": {
        "id": "DOzuW3PgfYoF"
      },
      "source": [
        "Given Sample size = 20 <br>\n",
        "Degree of freedom (df) = 20 - 1 = 19\n",
        "\n",
        "\n",
        "---\n",
        "\n"
      ]
    },
    {
      "cell_type": "markdown",
      "metadata": {
        "id": "ijlS6wulf7JO"
      },
      "source": [
        "<ul><li><b>Determine the critical value of t based on the significance level and degrees of\n",
        "freedom. For a two-tailed test with α = 0.05 and df = 19, the critical values are\n",
        "-2.093 and 2.093.</b></li></ul>"
      ]
    },
    {
      "cell_type": "code",
      "execution_count": 3,
      "metadata": {
        "id": "Zjs6PZGzgQ6N"
      },
      "outputs": [],
      "source": [
        "#given mean defined by the variable mu\n",
        "mu = 150"
      ]
    },
    {
      "cell_type": "code",
      "execution_count": 4,
      "metadata": {
        "colab": {
          "base_uri": "https://localhost:8080/"
        },
        "id": "QdFqQNGNjNYc",
        "outputId": "f8db93e3-7930-46ab-88de-583bec02ba75"
      },
      "outputs": [
        {
          "name": "stdout",
          "output_type": "stream",
          "text": [
            "Sample mean : 150.05\n",
            "Sample standard deviation : 4.261\n",
            "Test statistic value : 0.052\n",
            "P value : 0.959\n"
          ]
        }
      ],
      "source": [
        "#including the libraries\n",
        "import numpy as np\n",
        "from scipy import stats\n",
        "\n",
        "#calculate the mean of the given sample data\n",
        "sample_mean = np.mean(Apple_weights)\n",
        "\n",
        "#calculate the standard deviation of sample data\n",
        "sample_std = np.std(Apple_weights,ddof=1)\n",
        "\n",
        "# Calculate the t-statistic and p-value\n",
        "t_stat = (sample_mean - mu) / (sample_std / np.sqrt(len(Apple_weights)))\n",
        "p_value = 2 * stats.t.sf(np.abs(t_stat), df=len(Apple_weights)-1)\n",
        "\n",
        "print(\"Sample mean :\",sample_mean)\n",
        "print(\"Sample standard deviation :\", round(sample_std,3))\n",
        "print(\"Test statistic value :\",round(t_stat,3))\n",
        "print(\"P value :\", round(p_value,3))\n"
      ]
    },
    {
      "cell_type": "markdown",
      "metadata": {
        "id": "inxkNRnommzT"
      },
      "source": [
        "<ul><li><b>Compare and interpret the results of the test to the critical value</b></li></ul>"
      ]
    },
    {
      "cell_type": "code",
      "execution_count": 5,
      "metadata": {
        "colab": {
          "base_uri": "https://localhost:8080/"
        },
        "id": "1klShHSumyx5",
        "outputId": "783dbe42-1cbd-4169-e8db-067c76016e6a"
      },
      "outputs": [
        {
          "name": "stdout",
          "output_type": "stream",
          "text": [
            "Fail to reject the null hypothesis\n"
          ]
        }
      ],
      "source": [
        "t_critical = 2.093\n",
        "\n",
        "if t_stat < -t_critical or t_stat > t_critical:\n",
        "    print(\"Reject the null hypothesis\")\n",
        "else:\n",
        "    print(\"Fail to reject the null hypothesis\")\n"
      ]
    },
    {
      "cell_type": "markdown",
      "metadata": {
        "id": "Zay9zQE6n6JT"
      },
      "source": [
        "#Question 2 : Suppose we want to test whether the mean height of all men in a population is 180 cm\n",
        "assuming that the population standard deviation = 2. We randomly sample 50 men from\n",
        "the population and measure their heights, getting the following data:\n",
        "Men_height = [177, 180, 182, 179, 178, 181, 176, 183, 179, 180, 178, 181, 177,\n",
        "178, 180, 179, 182, 180, 183, 181, 179, 177, 180, 181, 178, 180, 182, 179, 177,\n",
        "182, 178, 181, 183, 179, 180, 181, 183, 178, 177, 181, 179, 182, 180, 181, 178,\n",
        "180, 179, 181, 183, 179]\n"
      ]
    },
    {
      "cell_type": "markdown",
      "metadata": {
        "id": "sQUj07EWoIfv"
      },
      "source": [
        "<ul><li><b>What test should we use and why? </b></li></ul><br>\n",
        "<b>Sample Z test (single sample Z-test)</b><br>\n",
        "One Sample Z-test (single sample Z-test) is used to compare the sample mean with some specific or hypothesized value (known mean of the population). One Sample Z-test checks whether the sample comes from a known population where population mean and standard deviation (σ) should be known.\n",
        "<br>\n",
        "\n",
        "1.  Z-test is a parametric statistical method for comparing the means of the two populations (two-sample independent and paired Z-test) and for comparing the mean of a sample to a specific value (one sample Z-test).\n",
        "2.  Z-test requires a large sample size (n ≥ 30) and known population variance (or deviation). If the population variance is not known, use a t-test, which uses sample standard deviation (s).\n",
        "3.  In Z-test, the test statistic follows the standard normal distribution (Z-distribution) (type of continuous probability distribution) under the null hypothesis.\n",
        "4.  Z-test has three main types: One Sample Z-test, two sample Z-test (unpaired or independent), and paired Z-test.\n",
        "\n",
        "<br> Reference : https://www.reneshbedre.com/blog/z-test-in-python.html?utm_content=cmp-true <br>\n",
        "https://www.educba.com/python-z-test/\n"
      ]
    },
    {
      "cell_type": "markdown",
      "metadata": {
        "id": "wsbUkq1JoVE_"
      },
      "source": [
        "<ul><li><b>State the null and alternative hypotheses. </b></li></ul><br>\n",
        "<b>Assumptions</b>\n",
        "<br>\n",
        "<ul><li>The dependent variable should have an approximately standard normal distribution i.e. N(0, 1) (Shapiro-Wilks Test)</li><li>\n",
        "Population standard deviation should be known</li>\n",
        "<li>The dependent variable should be a continuous variable</li>\n",
        "<li>Observations are independent of each other and randomly drawn from a population</li>\n",
        "<li>The sample size should be large (n ≥ 30)</li>\n",
        "\n",
        "<table><tr><td>Null hypothesis (H0)\t</td><td>Alternative hypothesis (Ha)</td><td>\ttype</td>\t<td>Reject H0 when\n",
        "(at 5% significance level)</td><tr>\n",
        "<td>µ = µ0</td><td>\tµ ≠ µ0</td>\t<td>two-tailed\t</td><td>|Z| > 1.96</td></tr>\n",
        "<td>µ ≥ µ0</td>\t<td>µ < µ0</td>\t<td>one-tailed (lesser)\t</td><td>Z < -1.64</td></tr>\n",
        "<td>µ ≤ µ0\t</td><td>µ > µ0\t</td><td>one-tailed (greater)\t</td><td>Z > 1.64</td></tr></table>\n",
        "\n",
        "Null hypothesis H<sub>0</sub>: Sample mean is equal to the hypothesized or known population mean (mean height of all men is 180 cm)<br />\n",
        "Alternative hypothesis H<sub>a</sub>: Sample mean is not equal to the hypothesized or known population mean (two-tailed) (mean height of all men is not 180cm)<br />\n",
        "Alternative hypothesis H<sub>a</sub>: Sample mean is either greater or lesser than the hypothesized or known population mean (one-tailed) (mean height of all men is either less than or greater than 180cm "
      ]
    },
    {
      "cell_type": "markdown",
      "metadata": {
        "id": "vkuQirz1oZZ4"
      },
      "source": [
        "<ul><li><b>Choose a significance level (α) (the probability of rejecting the null hypothesis\n",
        "when it is actually true).</b></li></ul><br>\n",
        "Significance level for confidence interval <br />\n",
        "alpha = 0.05"
      ]
    },
    {
      "cell_type": "markdown",
      "metadata": {
        "id": "jl3J3Hlmodbv"
      },
      "source": [
        "<ul><li><b>Determine the degrees of freedom (df) of the sample. Df = sample size -1 </b></li></ul><br>\n",
        "Given Sample size = 50 <br>\n",
        "Degree of freedom (df) = 50 - 1 = 49"
      ]
    },
    {
      "cell_type": "markdown",
      "metadata": {
        "id": "kinxBrkuog9p"
      },
      "source": [
        "<ul><li><b>Determine the critical value of t based on the significance level and degrees of\n",
        "freedom. For a two-tailed test with α = 0.05 and df = 49, the critical values are\n",
        "-2.0096 and 2.0096. </b></li></ul><br>\n"
      ]
    },
    {
      "cell_type": "markdown",
      "metadata": {
        "id": "r5MIeTJw_1US"
      },
      "source": [
        "\n",
        "statsmodels.stats.weightstats.ztest(x1, x2=None, value=0, alternative='two-sided', usevar='pooled', ddof=1.0)"
      ]
    },
    {
      "cell_type": "code",
      "execution_count": 6,
      "metadata": {
        "colab": {
          "base_uri": "https://localhost:8080/"
        },
        "id": "AxNxSf_c1His",
        "outputId": "3009543c-7a69-4c6c-a169-f48c1ff7939b"
      },
      "outputs": [
        {
          "name": "stdout",
          "output_type": "stream",
          "text": [
            "The sample mean is  179.84\n",
            "z testscore -0.6061 P Value  0.7278\n",
            "alpha value  0.05\n",
            "Fail to Reject NUll Hypothesis\n"
          ]
        }
      ],
      "source": [
        "from scipy.stats.distributions import alpha_gen\n",
        "from numpy.lib import math\n",
        "import numpy as np\n",
        "import math\n",
        "\n",
        "from statsmodels.stats.weightstats import ztest as ztest\n",
        "\n",
        "\n",
        "Men_height = [177, 180, 182, 179, 178, 181, 176, 183, 179, 180, 178, 181, 177, 178, 180, 179, 182, 180, 183, 181, 179, 177, 180, 181, 178, 180, 182, 179, 177, 182, 178, 181, 183, 179, \n",
        "               180, 181, 183, 178, 177, 181, 179, 182, 180, 181, 178, 180, 179, 181, 183, 179]\n",
        "\n",
        "samp_height_mean=np.array(Men_height).mean()\n",
        "sd_samp_height=2/math.sqrt(50)\n",
        "alpha =0.05\n",
        "pop_mean =180\n",
        "\n",
        "print(\"The sample mean is \",samp_height_mean)\n",
        "  \n",
        "# now we perform the test. In this function, we passed Men_height, in the value parameter\n",
        "# we passed mean value in the null hypothesis, in alternative hypothesis we check whether the\n",
        "# mean is larger\n",
        "  \n",
        "ztest_Score, p_value= ztest(Men_height,value = pop_mean, alternative='larger')\n",
        "# the function outputs a p_value and z-score corresponding to that value, we compare the \n",
        "# p-value with alpha, if it is greater than alpha then we do not null hypothesis \n",
        "# else we reject it.\n",
        "\n",
        "print(\"z testscore\",round(ztest_Score,4),\"P Value \",round(p_value,4))\n",
        "print(\"alpha value \",alpha)\n",
        "if(p_value <  alpha):\n",
        "  print(\"Reject Null Hypothesis\")\n",
        "else:\n",
        "  print(\"Fail to Reject NUll Hypothesis\")"
      ]
    },
    {
      "cell_type": "code",
      "execution_count": 7,
      "metadata": {
        "colab": {
          "base_uri": "https://localhost:8080/"
        },
        "id": "TCNVe2GbAMKr",
        "outputId": "753a5d34-90c7-4afc-89e7-af48c50e6962"
      },
      "outputs": [
        {
          "name": "stdout",
          "output_type": "stream",
          "text": [
            "z testscore -0.6061 P Value  0.2722\n",
            "Fail to Reject NUll Hypothesis\n"
          ]
        }
      ],
      "source": [
        "ztest_Score, p_value= ztest(Men_height,value = pop_mean, alternative='smaller')\n",
        "# the function outputs a p_value and z-score corresponding to that value, we compare the \n",
        "# p-value with alpha, if it is smaller than alpha then we do not null hypothesis \n",
        "# else we reject it.\n",
        "  \n",
        "print(\"z testscore\",round(ztest_Score,4),\"P Value \",round(p_value,4))\n",
        "\n",
        "if(p_value <  alpha):\n",
        "  print(\"Reject Null Hypothesis\")\n",
        "else:\n",
        "  print(\"Fail to Reject NUll Hypothesis\")"
      ]
    },
    {
      "cell_type": "code",
      "execution_count": 8,
      "metadata": {
        "colab": {
          "base_uri": "https://localhost:8080/"
        },
        "id": "pwSSyc6T_9dE",
        "outputId": "bf4a826b-a9f6-41bc-f8a7-65c0f678045c"
      },
      "outputs": [
        {
          "name": "stdout",
          "output_type": "stream",
          "text": [
            "z testscore -0.6061 P Value  0.5444\n",
            "Fail to Reject NUll Hypothesis\n"
          ]
        }
      ],
      "source": [
        "ztest_Score, p_value= ztest(Men_height,value = pop_mean, alternative='two-sided')\n",
        "# the function outputs a p_value and z-score corresponding to that value, we compare the \n",
        "# p-value with alpha, if it is equal to alpha then we do not null hypothesis \n",
        "# else we reject it.\n",
        "\n",
        "print(\"z testscore\",round(ztest_Score,4),\"P Value \",round(p_value,4))\n",
        "\n",
        "if(p_value <  alpha):\n",
        "  print(\"Reject Null Hypothesis\")\n",
        "else:\n",
        "  print(\"Fail to Reject NUll Hypothesis\")"
      ]
    },
    {
      "cell_type": "markdown",
      "metadata": {
        "id": "RMgaYmgwonKF"
      },
      "source": [
        "<ul><li><b>Compare and interpret the results of the test to the critical value </b></li></ul><br>\n",
        "Since this p-value is not less than .05, we do not have sufficient evidence to reject the null hypothesis. In other words, the mean height is 180cm"
      ]
    },
    {
      "cell_type": "markdown",
      "metadata": {
        "id": "eApaK47uca4i"
      },
      "source": [
        "#Question 3.\n",
        "Suppose we want to test whether the mean weight of a population of cats is different\n",
        "from 4 kg. We randomly sample 50 cats from the population and measure their weights,\n",
        "getting the following data:\n",
        "Cats_weights = [3.9, 4.2, 4.5, 4.1, 4.3, 3.8, 4.6, 4.2, 3.7, 4.3, 3.9, 4.0, 4.1, 4.5,\n",
        "4.2, 3.8, 3.9, 4.3, 4.1, 4.0, 4.4, 4.2, 4.1, 4.6, 4.4, 4.2, 4.1, 4.3, 4.0, 4.4, 4.3, 3.8,\n",
        "4.1, 4.5, 4.2, 4.3, 4.0, 4.1, 4.2, 3.9, 4.3, 3.7, 4.1, 4.5, 4.2, 4.0, 4.2, 4.4, 4.1, 4.5]\n"
      ]
    },
    {
      "cell_type": "markdown",
      "metadata": {
        "id": "AvDIIjVucl2Q"
      },
      "source": [
        "<ul><li><b>Perform one sample two tailed Z-Test to determine whether the mean weight of\n",
        "the sampled cats is significantly different from 4 kg</b></li></ul>"
      ]
    },
    {
      "cell_type": "code",
      "execution_count": 9,
      "metadata": {
        "colab": {
          "base_uri": "https://localhost:8080/"
        },
        "id": "lbCcmjnAfmkH",
        "outputId": "7f238c47-ea79-4700-c92a-a46b078281e4"
      },
      "outputs": [
        {
          "name": "stdout",
          "output_type": "stream",
          "text": [
            "The sample mean is  4.2\n",
            "z testscore 5.2336 P Value  0.0\n",
            "Reject Null Hypothesis\n"
          ]
        }
      ],
      "source": [
        "from scipy.stats.distributions import alpha_gen\n",
        "from numpy.lib import math\n",
        "import numpy as np\n",
        "import math\n",
        "\n",
        "from statsmodels.stats.weightstats import ztest as ztest\n",
        "\n",
        "Cats_weights = [3.9, 4.2, 4.5, 4.1, 4.3, 3.8, 4.6, 4.2, 3.7, 4.3, 3.9, 4.0, 4.1, 4.5, 4.2, 3.8, 3.9, 4.3, 4.1, 4.0, 4.4, 4.2, 4.1, 4.6, 4.4, 4.2, 4.1, 4.3, 4.0, 4.4, 4.3, 3.8, 4.1, 4.5, \n",
        "                4.2, 4.3, 4.0, 4.1, 4.2, 3.9, 4.3, 3.7, 4.1, 4.5, 4.2, 4.0, 4.2, 4.4, 4.1, 4.5]\n",
        "\n",
        "#population mean given\n",
        "mu=4\n",
        "\n",
        "#sample size 50\n",
        "\n",
        "#mean of the sample\n",
        "samp_cat_weight_mean=np.array(Cats_weights).mean()\n",
        "\n",
        "alpha =0.05\n",
        "pop_mean = 4\n",
        "\n",
        "print(\"The sample mean is \",round(samp_cat_weight_mean,1))\n",
        "\n",
        "alpha =0.05\n",
        "pop_mean =4\n",
        "\n",
        "ztest_Score, p_value= ztest(Cats_weights,value = pop_mean, alternative='two-sided')\n",
        "# the function outputs a p_value and z-score corresponding to that value, we compare the \n",
        "# p-value with alpha, if it is greater than alpha then we do not null hypothesis \n",
        "# else we reject it.\n",
        "\n",
        "print(\"z testscore\",round(ztest_Score,4),\"P Value \",round(p_value,4))\n",
        "\n",
        "if(p_value <  alpha):\n",
        "  print(\"Reject Null Hypothesis\")\n",
        "else:\n",
        "  print(\"Fail to Reject NUll Hypothesis\")\n"
      ]
    },
    {
      "attachments": {},
      "cell_type": "markdown",
      "metadata": {
        "id": "8rkL4n2WkDIl"
      },
      "source": [
        "<ul><li><b>State the null and alternative hypotheses.</b></li></ul> <br>\n",
        "Null Hypothesis : H0: The mean weight of the population of cats is equal to 4kg\n",
        "Alternate Hypothesis : H1 : The mean weight of the population of cats is not equal to 4 kg\n",
        "\n"
      ]
    },
    {
      "attachments": {},
      "cell_type": "markdown",
      "metadata": {},
      "source": [
        "<h2>Choose a significance level (α) (the probability of rejecting the null hypothesis\n",
        "when it is actually true).</h2>\n",
        "\n",
        "Significance level (alpha) = 0.05\n"
      ]
    },
    {
      "attachments": {},
      "cell_type": "markdown",
      "metadata": {},
      "source": [
        "<h2>Calculate the z-score using the formula:</h2>\n"
      ]
    },
    {
      "cell_type": "code",
      "execution_count": 10,
      "metadata": {},
      "outputs": [
        {
          "name": "stdout",
          "output_type": "stream",
          "text": [
            "Sample Mean: 4.17\n",
            "Population Standard Deviation: 0.5897\n",
            "The z-score is: 0.2883\n"
          ]
        }
      ],
      "source": [
        "sample_mean = sum(Cats_weights)/len(Cats_weights) # sample mean\n",
        "pop_mean = 4\n",
        "pop_std = sample_mean / math.sqrt(len(Cats_weights)) # population standard deviation\n",
        "\n",
        "z_score = (sample_mean - pop_mean) / pop_std # calculating z score with the formula\n",
        "\n",
        "print(\"Sample Mean:\",round(sample_mean,3))\n",
        "print(\"Population Standard Deviation:\",round(pop_std,4))\n",
        "print(\"The z-score is:\", round(z_score,4))"
      ]
    },
    {
      "attachments": {},
      "cell_type": "markdown",
      "metadata": {},
      "source": [
        "<h2>Assuming that the standard deviation is equal to the sample mean</h2>"
      ]
    },
    {
      "cell_type": "code",
      "execution_count": 11,
      "metadata": {
        "id": "DPa-VC37j_Bj"
      },
      "outputs": [
        {
          "name": "stdout",
          "output_type": "stream",
          "text": [
            "Sample Mean: 4.17\n",
            "Population Standard Deviation: 4.17\n",
            "The z-score is: 0.2883\n"
          ]
        }
      ],
      "source": [
        "pop_std = sample_mean # Assuming that the standard deviation is equal to the sample mean\n",
        "# Sample size\n",
        "n = len(Cats_weights)\n",
        "# Calculate the z-score\n",
        "z_score1 = (sample_mean - pop_mean)/(pop_std/math.sqrt(n))\n",
        "\n",
        "print(\"Sample Mean:\",round(sample_mean,3))\n",
        "print(\"Population Standard Deviation:\",round(pop_std,4))\n",
        "print(\"The z-score is:\", round(z_score1,4))\n"
      ]
    },
    {
      "attachments": {},
      "cell_type": "markdown",
      "metadata": {},
      "source": [
        "<h2>Look up the critical z-value at the chosen significance level (α) using a z-table.</h2>\n",
        "\n",
        "For the alpha value = 0.05, from the z-table  the critical z values are +/- 1.96\n"
      ]
    },
    {
      "attachments": {},
      "cell_type": "markdown",
      "metadata": {},
      "source": [
        "<h2>Compare the calculated z-score to the critical z-values. If the calculated z-score\n",
        "falls outside the range between the critical z-values, we reject the null hypothesis\n",
        "in favor of the alternative hypothesis</h2>"
      ]
    },
    {
      "cell_type": "code",
      "execution_count": 13,
      "metadata": {},
      "outputs": [
        {
          "name": "stdout",
          "output_type": "stream",
          "text": [
            "0.28826895156285953\n",
            "Reject the alternate hypothesis\n"
          ]
        }
      ],
      "source": [
        "print(z_score)\n",
        "if(z_score > 1.96 or z_score< -1.96):\n",
        "    print(\"Reject the null hypothesis\")\n",
        "else:\n",
        "    print(\"Reject the alternate hypothesis\")\n"
      ]
    }
  ],
  "metadata": {
    "colab": {
      "provenance": []
    },
    "kernelspec": {
      "display_name": "Python 3",
      "name": "python3"
    },
    "language_info": {
      "codemirror_mode": {
        "name": "ipython",
        "version": 3
      },
      "file_extension": ".py",
      "mimetype": "text/x-python",
      "name": "python",
      "nbconvert_exporter": "python",
      "pygments_lexer": "ipython3",
      "version": "3.10.2"
    }
  },
  "nbformat": 4,
  "nbformat_minor": 0
}
