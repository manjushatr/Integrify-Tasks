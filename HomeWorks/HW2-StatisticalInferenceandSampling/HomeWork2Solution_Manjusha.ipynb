{
 "cells": [
  {
   "attachments": {},
   "cell_type": "markdown",
   "id": "5df6e83a",
   "metadata": {},
   "source": [
    "<h1>Home Work - 2</h1>\n",
    "<h2>Thursday - March 23, 2023</h2>"
   ]
  },
  {
   "cell_type": "code",
   "execution_count": 6,
   "id": "36bd793c",
   "metadata": {},
   "outputs": [],
   "source": [
    "#importing the libraries\n",
    "import numpy as np"
   ]
  },
  {
   "attachments": {},
   "cell_type": "markdown",
   "id": "21f46be2",
   "metadata": {},
   "source": [
    "1.\tEvery group have  to download the Excel files:"
   ]
  },
  {
   "cell_type": "code",
   "execution_count": 7,
   "id": "e1b984e5",
   "metadata": {},
   "outputs": [
    {
     "name": "stdout",
     "output_type": "stream",
     "text": [
      "      S1   S2   S3\n",
      "0    432  374  404\n",
      "1    423  374  399\n",
      "2    433  374  389\n",
      "3    456  388  388\n",
      "4    427  378  402\n",
      "..   ...  ...  ...\n",
      "286  439  377  425\n",
      "287  432  386  430\n",
      "288  427  370  433\n",
      "289  421  379  425\n",
      "290  445  379  405\n",
      "\n",
      "[291 rows x 3 columns]\n"
     ]
    }
   ],
   "source": [
    "import pandas as pd\n",
    "\n",
    "df = pd.read_excel('Group6.xlsx')\n",
    "\n",
    "print(df)"
   ]
  },
  {
   "attachments": {},
   "cell_type": "markdown",
   "id": "4c62db72",
   "metadata": {},
   "source": [
    "2.\tEach file has three recorded values of water flow recorded using three sensors S1,S2, and S3.\n",
    "○\tCompute the covariance between three variables\n",
    "○\tCompute the correlation coefficients between three variables\n",
    "○\tPlot and report the relationships between the variables\n",
    "○\tGenerate a random sample of 50 observations for each sensor\n",
    "○\tCompute the upper and the lower bounds with confidence intervals 90%, 95%, 99%.\n",
    "○\tCompare the population means of each sample with the estimated one given the samples\n",
    "\n"
   ]
  },
  {
   "cell_type": "code",
   "execution_count": 8,
   "id": "25491493",
   "metadata": {},
   "outputs": [
    {
     "data": {
      "text/plain": [
       "S1    429.666667\n",
       "S2    372.487973\n",
       "S3    393.072165\n",
       "dtype: float64"
      ]
     },
     "execution_count": 8,
     "metadata": {},
     "output_type": "execute_result"
    }
   ],
   "source": [
    "df.mean(axis=0)"
   ]
  },
  {
   "attachments": {},
   "cell_type": "markdown",
   "id": "8e5c1813",
   "metadata": {},
   "source": [
    "The mean, standard deviation, min, max and quantile percentages are displayed using the describe function of dataframe"
   ]
  },
  {
   "cell_type": "code",
   "execution_count": 9,
   "id": "28da132a",
   "metadata": {},
   "outputs": [
    {
     "data": {
      "text/html": [
       "<div>\n",
       "<style scoped>\n",
       "    .dataframe tbody tr th:only-of-type {\n",
       "        vertical-align: middle;\n",
       "    }\n",
       "\n",
       "    .dataframe tbody tr th {\n",
       "        vertical-align: top;\n",
       "    }\n",
       "\n",
       "    .dataframe thead th {\n",
       "        text-align: right;\n",
       "    }\n",
       "</style>\n",
       "<table border=\"1\" class=\"dataframe\">\n",
       "  <thead>\n",
       "    <tr style=\"text-align: right;\">\n",
       "      <th></th>\n",
       "      <th>S1</th>\n",
       "      <th>S2</th>\n",
       "      <th>S3</th>\n",
       "    </tr>\n",
       "  </thead>\n",
       "  <tbody>\n",
       "    <tr>\n",
       "      <th>count</th>\n",
       "      <td>291.000000</td>\n",
       "      <td>291.000000</td>\n",
       "      <td>291.000000</td>\n",
       "    </tr>\n",
       "    <tr>\n",
       "      <th>mean</th>\n",
       "      <td>429.666667</td>\n",
       "      <td>372.487973</td>\n",
       "      <td>393.072165</td>\n",
       "    </tr>\n",
       "    <tr>\n",
       "      <th>std</th>\n",
       "      <td>9.623367</td>\n",
       "      <td>5.018829</td>\n",
       "      <td>11.365326</td>\n",
       "    </tr>\n",
       "    <tr>\n",
       "      <th>min</th>\n",
       "      <td>405.000000</td>\n",
       "      <td>354.000000</td>\n",
       "      <td>348.000000</td>\n",
       "    </tr>\n",
       "    <tr>\n",
       "      <th>25%</th>\n",
       "      <td>424.000000</td>\n",
       "      <td>369.000000</td>\n",
       "      <td>387.000000</td>\n",
       "    </tr>\n",
       "    <tr>\n",
       "      <th>50%</th>\n",
       "      <td>430.000000</td>\n",
       "      <td>372.000000</td>\n",
       "      <td>392.000000</td>\n",
       "    </tr>\n",
       "    <tr>\n",
       "      <th>75%</th>\n",
       "      <td>435.000000</td>\n",
       "      <td>376.000000</td>\n",
       "      <td>398.000000</td>\n",
       "    </tr>\n",
       "    <tr>\n",
       "      <th>max</th>\n",
       "      <td>460.000000</td>\n",
       "      <td>391.000000</td>\n",
       "      <td>433.000000</td>\n",
       "    </tr>\n",
       "  </tbody>\n",
       "</table>\n",
       "</div>"
      ],
      "text/plain": [
       "               S1          S2          S3\n",
       "count  291.000000  291.000000  291.000000\n",
       "mean   429.666667  372.487973  393.072165\n",
       "std      9.623367    5.018829   11.365326\n",
       "min    405.000000  354.000000  348.000000\n",
       "25%    424.000000  369.000000  387.000000\n",
       "50%    430.000000  372.000000  392.000000\n",
       "75%    435.000000  376.000000  398.000000\n",
       "max    460.000000  391.000000  433.000000"
      ]
     },
     "execution_count": 9,
     "metadata": {},
     "output_type": "execute_result"
    }
   ],
   "source": [
    "df.describe()"
   ]
  },
  {
   "cell_type": "code",
   "execution_count": 10,
   "id": "bcdf7c0f",
   "metadata": {},
   "outputs": [
    {
     "data": {
      "text/plain": [
       "S1     92.609195\n",
       "S2     25.188648\n",
       "S3    129.170636\n",
       "dtype: float64"
      ]
     },
     "execution_count": 10,
     "metadata": {},
     "output_type": "execute_result"
    }
   ],
   "source": [
    "#Displaying the variance of the sensors S1, S2, S3\n",
    "df.var(axis=0)"
   ]
  },
  {
   "cell_type": "code",
   "execution_count": 11,
   "id": "eaae7bb7",
   "metadata": {},
   "outputs": [
    {
     "data": {
      "text/plain": [
       "S1    430.0\n",
       "S2    372.0\n",
       "S3    392.0\n",
       "dtype: float64"
      ]
     },
     "execution_count": 11,
     "metadata": {},
     "output_type": "execute_result"
    }
   ],
   "source": [
    "#displaying the median of the sensors S1, S2, S3\n",
    "df.median(axis=0)"
   ]
  },
  {
   "cell_type": "code",
   "execution_count": 12,
   "id": "61954a65",
   "metadata": {},
   "outputs": [
    {
     "data": {
      "text/html": [
       "<div>\n",
       "<style scoped>\n",
       "    .dataframe tbody tr th:only-of-type {\n",
       "        vertical-align: middle;\n",
       "    }\n",
       "\n",
       "    .dataframe tbody tr th {\n",
       "        vertical-align: top;\n",
       "    }\n",
       "\n",
       "    .dataframe thead th {\n",
       "        text-align: right;\n",
       "    }\n",
       "</style>\n",
       "<table border=\"1\" class=\"dataframe\">\n",
       "  <thead>\n",
       "    <tr style=\"text-align: right;\">\n",
       "      <th></th>\n",
       "      <th>S1</th>\n",
       "      <th>S2</th>\n",
       "      <th>S3</th>\n",
       "    </tr>\n",
       "  </thead>\n",
       "  <tbody>\n",
       "    <tr>\n",
       "      <th>0</th>\n",
       "      <td>425</td>\n",
       "      <td>370.0</td>\n",
       "      <td>392.0</td>\n",
       "    </tr>\n",
       "    <tr>\n",
       "      <th>1</th>\n",
       "      <td>432</td>\n",
       "      <td>NaN</td>\n",
       "      <td>NaN</td>\n",
       "    </tr>\n",
       "  </tbody>\n",
       "</table>\n",
       "</div>"
      ],
      "text/plain": [
       "    S1     S2     S3\n",
       "0  425  370.0  392.0\n",
       "1  432    NaN    NaN"
      ]
     },
     "execution_count": 12,
     "metadata": {},
     "output_type": "execute_result"
    }
   ],
   "source": [
    "df.mode(axis=0)"
   ]
  },
  {
   "attachments": {},
   "cell_type": "markdown",
   "id": "a9261143",
   "metadata": {},
   "source": [
    "Frequent repeated water levels are given by mode"
   ]
  },
  {
   "attachments": {},
   "cell_type": "markdown",
   "id": "83145144",
   "metadata": {},
   "source": [
    "From the central tendency measures it is visible that there is no similarity in the measures recorded by the three sensors. All the three sensors are independent."
   ]
  },
  {
   "attachments": {},
   "cell_type": "markdown",
   "id": "2b6f4a6c",
   "metadata": {},
   "source": [
    "2.\tEach file has three recorded values of water flow recorded using three sensors S1,S2, and S3.\n",
    "○\tCompute the covariance between three variables\n",
    "○\tCompute the correlation coefficients between three variables\n",
    "○\tPlot and report the relationships between the variables\n",
    "○\tGenerate a random sample of 50 observations for each sensor\n",
    "○\tCompute the upper and the lower bounds with confidence intervals 90%, 95%, 99%.\n",
    "○\tCompare the population means of each sample with the estimated one given the samples\n"
   ]
  },
  {
   "cell_type": "code",
   "execution_count": 13,
   "id": "39e81ce4",
   "metadata": {},
   "outputs": [
    {
     "data": {
      "text/plain": [
       "<function numpy.percentile(a, q, axis=None, out=None, overwrite_input=False, method='linear', keepdims=False, *, interpolation=None)>"
      ]
     },
     "execution_count": 13,
     "metadata": {},
     "output_type": "execute_result"
    }
   ],
   "source": [
    "np.percentile"
   ]
  },
  {
   "cell_type": "code",
   "execution_count": 14,
   "id": "ed62afda",
   "metadata": {},
   "outputs": [
    {
     "data": {
      "text/html": [
       "<div>\n",
       "<style scoped>\n",
       "    .dataframe tbody tr th:only-of-type {\n",
       "        vertical-align: middle;\n",
       "    }\n",
       "\n",
       "    .dataframe tbody tr th {\n",
       "        vertical-align: top;\n",
       "    }\n",
       "\n",
       "    .dataframe thead th {\n",
       "        text-align: right;\n",
       "    }\n",
       "</style>\n",
       "<table border=\"1\" class=\"dataframe\">\n",
       "  <thead>\n",
       "    <tr style=\"text-align: right;\">\n",
       "      <th></th>\n",
       "      <th>S1</th>\n",
       "      <th>S2</th>\n",
       "      <th>S3</th>\n",
       "    </tr>\n",
       "  </thead>\n",
       "  <tbody>\n",
       "    <tr>\n",
       "      <th>S1</th>\n",
       "      <td>92.609195</td>\n",
       "      <td>-0.554023</td>\n",
       "      <td>-5.958621</td>\n",
       "    </tr>\n",
       "    <tr>\n",
       "      <th>S2</th>\n",
       "      <td>-0.554023</td>\n",
       "      <td>25.188648</td>\n",
       "      <td>5.899147</td>\n",
       "    </tr>\n",
       "    <tr>\n",
       "      <th>S3</th>\n",
       "      <td>-5.958621</td>\n",
       "      <td>5.899147</td>\n",
       "      <td>129.170636</td>\n",
       "    </tr>\n",
       "  </tbody>\n",
       "</table>\n",
       "</div>"
      ],
      "text/plain": [
       "           S1         S2          S3\n",
       "S1  92.609195  -0.554023   -5.958621\n",
       "S2  -0.554023  25.188648    5.899147\n",
       "S3  -5.958621   5.899147  129.170636"
      ]
     },
     "execution_count": 14,
     "metadata": {},
     "output_type": "execute_result"
    }
   ],
   "source": [
    "#Compute the covariance between three variables\n",
    "df.cov()"
   ]
  },
  {
   "cell_type": "code",
   "execution_count": 15,
   "id": "a6402138",
   "metadata": {},
   "outputs": [
    {
     "data": {
      "text/html": [
       "<div>\n",
       "<style scoped>\n",
       "    .dataframe tbody tr th:only-of-type {\n",
       "        vertical-align: middle;\n",
       "    }\n",
       "\n",
       "    .dataframe tbody tr th {\n",
       "        vertical-align: top;\n",
       "    }\n",
       "\n",
       "    .dataframe thead th {\n",
       "        text-align: right;\n",
       "    }\n",
       "</style>\n",
       "<table border=\"1\" class=\"dataframe\">\n",
       "  <thead>\n",
       "    <tr style=\"text-align: right;\">\n",
       "      <th></th>\n",
       "      <th>S1</th>\n",
       "      <th>S2</th>\n",
       "      <th>S3</th>\n",
       "    </tr>\n",
       "  </thead>\n",
       "  <tbody>\n",
       "    <tr>\n",
       "      <th>S1</th>\n",
       "      <td>1.000000</td>\n",
       "      <td>-0.011471</td>\n",
       "      <td>-0.05448</td>\n",
       "    </tr>\n",
       "    <tr>\n",
       "      <th>S2</th>\n",
       "      <td>-0.011471</td>\n",
       "      <td>1.000000</td>\n",
       "      <td>0.10342</td>\n",
       "    </tr>\n",
       "    <tr>\n",
       "      <th>S3</th>\n",
       "      <td>-0.054480</td>\n",
       "      <td>0.103420</td>\n",
       "      <td>1.00000</td>\n",
       "    </tr>\n",
       "  </tbody>\n",
       "</table>\n",
       "</div>"
      ],
      "text/plain": [
       "          S1        S2       S3\n",
       "S1  1.000000 -0.011471 -0.05448\n",
       "S2 -0.011471  1.000000  0.10342\n",
       "S3 -0.054480  0.103420  1.00000"
      ]
     },
     "execution_count": 15,
     "metadata": {},
     "output_type": "execute_result"
    }
   ],
   "source": [
    "#Compute the correlation coefficients between three variables\n",
    "df.corr()"
   ]
  },
  {
   "cell_type": "code",
   "execution_count": 16,
   "id": "b7ed14e2",
   "metadata": {},
   "outputs": [
    {
     "data": {
      "text/plain": [
       "<AxesSubplot: >"
      ]
     },
     "execution_count": 16,
     "metadata": {},
     "output_type": "execute_result"
    },
    {
     "data": {
      "image/png": "[encoded data removed]",
      "text/plain": [
       "<Figure size 640x480 with 2 Axes>"
      ]
     },
     "metadata": {},
     "output_type": "display_data"
    }
   ],
   "source": [
    "#Plot and report the relationships between the variables\n",
    "import seaborn as sns\n",
    "import matplotlib.pyplot as plt\n",
    "\n",
    "\n",
    "# calculate the correlation matrix\n",
    "corr1 = df.corr()\n",
    "\n",
    "# plot the heatmap\n",
    "sns.heatmap(corr1, \n",
    "        xticklabels=corr1.columns,\n",
    "        yticklabels=corr1.columns,cmap=\"Blues\",annot=True)\n"
   ]
  },
  {
   "cell_type": "code",
   "execution_count": 17,
   "id": "8245bd6c",
   "metadata": {},
   "outputs": [
    {
     "data": {
      "image/png": "[encoded data removed]",
      "text/plain": [
       "<Figure size 300x300 with 9 Axes>"
      ]
     },
     "metadata": {},
     "output_type": "display_data"
    }
   ],
   "source": [
    "pd.plotting.scatter_matrix(df,figsize=(3,3))\n",
    "plt.show()"
   ]
  },
  {
   "cell_type": "code",
   "execution_count": 18,
   "id": "ee87f331",
   "metadata": {},
   "outputs": [],
   "source": [
    "#Generate a random sample of 50 observations for each sensor\n",
    "df50=df.sample(n=50)"
   ]
  },
  {
   "cell_type": "code",
   "execution_count": 19,
   "id": "a1d9b226",
   "metadata": {},
   "outputs": [
    {
     "data": {
      "text/html": [
       "<div>\n",
       "<style scoped>\n",
       "    .dataframe tbody tr th:only-of-type {\n",
       "        vertical-align: middle;\n",
       "    }\n",
       "\n",
       "    .dataframe tbody tr th {\n",
       "        vertical-align: top;\n",
       "    }\n",
       "\n",
       "    .dataframe thead th {\n",
       "        text-align: right;\n",
       "    }\n",
       "</style>\n",
       "<table border=\"1\" class=\"dataframe\">\n",
       "  <thead>\n",
       "    <tr style=\"text-align: right;\">\n",
       "      <th></th>\n",
       "      <th>S1</th>\n",
       "      <th>S2</th>\n",
       "      <th>S3</th>\n",
       "    </tr>\n",
       "  </thead>\n",
       "  <tbody>\n",
       "    <tr>\n",
       "      <th>5</th>\n",
       "      <td>442</td>\n",
       "      <td>370</td>\n",
       "      <td>392</td>\n",
       "    </tr>\n",
       "    <tr>\n",
       "      <th>81</th>\n",
       "      <td>426</td>\n",
       "      <td>375</td>\n",
       "      <td>387</td>\n",
       "    </tr>\n",
       "    <tr>\n",
       "      <th>170</th>\n",
       "      <td>424</td>\n",
       "      <td>370</td>\n",
       "      <td>403</td>\n",
       "    </tr>\n",
       "    <tr>\n",
       "      <th>232</th>\n",
       "      <td>431</td>\n",
       "      <td>370</td>\n",
       "      <td>389</td>\n",
       "    </tr>\n",
       "    <tr>\n",
       "      <th>280</th>\n",
       "      <td>425</td>\n",
       "      <td>368</td>\n",
       "      <td>428</td>\n",
       "    </tr>\n",
       "    <tr>\n",
       "      <th>216</th>\n",
       "      <td>435</td>\n",
       "      <td>370</td>\n",
       "      <td>396</td>\n",
       "    </tr>\n",
       "    <tr>\n",
       "      <th>159</th>\n",
       "      <td>431</td>\n",
       "      <td>368</td>\n",
       "      <td>390</td>\n",
       "    </tr>\n",
       "    <tr>\n",
       "      <th>102</th>\n",
       "      <td>424</td>\n",
       "      <td>373</td>\n",
       "      <td>389</td>\n",
       "    </tr>\n",
       "    <tr>\n",
       "      <th>283</th>\n",
       "      <td>424</td>\n",
       "      <td>369</td>\n",
       "      <td>415</td>\n",
       "    </tr>\n",
       "    <tr>\n",
       "      <th>163</th>\n",
       "      <td>424</td>\n",
       "      <td>366</td>\n",
       "      <td>395</td>\n",
       "    </tr>\n",
       "    <tr>\n",
       "      <th>80</th>\n",
       "      <td>426</td>\n",
       "      <td>377</td>\n",
       "      <td>400</td>\n",
       "    </tr>\n",
       "    <tr>\n",
       "      <th>150</th>\n",
       "      <td>425</td>\n",
       "      <td>372</td>\n",
       "      <td>392</td>\n",
       "    </tr>\n",
       "    <tr>\n",
       "      <th>69</th>\n",
       "      <td>432</td>\n",
       "      <td>368</td>\n",
       "      <td>380</td>\n",
       "    </tr>\n",
       "    <tr>\n",
       "      <th>230</th>\n",
       "      <td>413</td>\n",
       "      <td>370</td>\n",
       "      <td>393</td>\n",
       "    </tr>\n",
       "    <tr>\n",
       "      <th>192</th>\n",
       "      <td>425</td>\n",
       "      <td>368</td>\n",
       "      <td>415</td>\n",
       "    </tr>\n",
       "    <tr>\n",
       "      <th>191</th>\n",
       "      <td>436</td>\n",
       "      <td>369</td>\n",
       "      <td>387</td>\n",
       "    </tr>\n",
       "    <tr>\n",
       "      <th>63</th>\n",
       "      <td>436</td>\n",
       "      <td>378</td>\n",
       "      <td>395</td>\n",
       "    </tr>\n",
       "    <tr>\n",
       "      <th>252</th>\n",
       "      <td>426</td>\n",
       "      <td>380</td>\n",
       "      <td>413</td>\n",
       "    </tr>\n",
       "    <tr>\n",
       "      <th>39</th>\n",
       "      <td>449</td>\n",
       "      <td>378</td>\n",
       "      <td>389</td>\n",
       "    </tr>\n",
       "    <tr>\n",
       "      <th>202</th>\n",
       "      <td>406</td>\n",
       "      <td>375</td>\n",
       "      <td>399</td>\n",
       "    </tr>\n",
       "    <tr>\n",
       "      <th>287</th>\n",
       "      <td>432</td>\n",
       "      <td>386</td>\n",
       "      <td>430</td>\n",
       "    </tr>\n",
       "    <tr>\n",
       "      <th>103</th>\n",
       "      <td>425</td>\n",
       "      <td>383</td>\n",
       "      <td>384</td>\n",
       "    </tr>\n",
       "    <tr>\n",
       "      <th>13</th>\n",
       "      <td>428</td>\n",
       "      <td>370</td>\n",
       "      <td>405</td>\n",
       "    </tr>\n",
       "    <tr>\n",
       "      <th>41</th>\n",
       "      <td>441</td>\n",
       "      <td>368</td>\n",
       "      <td>388</td>\n",
       "    </tr>\n",
       "    <tr>\n",
       "      <th>108</th>\n",
       "      <td>420</td>\n",
       "      <td>377</td>\n",
       "      <td>387</td>\n",
       "    </tr>\n",
       "    <tr>\n",
       "      <th>118</th>\n",
       "      <td>430</td>\n",
       "      <td>370</td>\n",
       "      <td>399</td>\n",
       "    </tr>\n",
       "    <tr>\n",
       "      <th>87</th>\n",
       "      <td>438</td>\n",
       "      <td>373</td>\n",
       "      <td>388</td>\n",
       "    </tr>\n",
       "    <tr>\n",
       "      <th>86</th>\n",
       "      <td>438</td>\n",
       "      <td>380</td>\n",
       "      <td>395</td>\n",
       "    </tr>\n",
       "    <tr>\n",
       "      <th>58</th>\n",
       "      <td>408</td>\n",
       "      <td>384</td>\n",
       "      <td>399</td>\n",
       "    </tr>\n",
       "    <tr>\n",
       "      <th>36</th>\n",
       "      <td>415</td>\n",
       "      <td>371</td>\n",
       "      <td>387</td>\n",
       "    </tr>\n",
       "    <tr>\n",
       "      <th>212</th>\n",
       "      <td>445</td>\n",
       "      <td>371</td>\n",
       "      <td>399</td>\n",
       "    </tr>\n",
       "    <tr>\n",
       "      <th>158</th>\n",
       "      <td>430</td>\n",
       "      <td>374</td>\n",
       "      <td>390</td>\n",
       "    </tr>\n",
       "    <tr>\n",
       "      <th>40</th>\n",
       "      <td>430</td>\n",
       "      <td>370</td>\n",
       "      <td>392</td>\n",
       "    </tr>\n",
       "    <tr>\n",
       "      <th>169</th>\n",
       "      <td>413</td>\n",
       "      <td>365</td>\n",
       "      <td>398</td>\n",
       "    </tr>\n",
       "    <tr>\n",
       "      <th>250</th>\n",
       "      <td>419</td>\n",
       "      <td>370</td>\n",
       "      <td>401</td>\n",
       "    </tr>\n",
       "    <tr>\n",
       "      <th>140</th>\n",
       "      <td>444</td>\n",
       "      <td>378</td>\n",
       "      <td>390</td>\n",
       "    </tr>\n",
       "    <tr>\n",
       "      <th>10</th>\n",
       "      <td>436</td>\n",
       "      <td>377</td>\n",
       "      <td>387</td>\n",
       "    </tr>\n",
       "    <tr>\n",
       "      <th>229</th>\n",
       "      <td>432</td>\n",
       "      <td>377</td>\n",
       "      <td>402</td>\n",
       "    </tr>\n",
       "    <tr>\n",
       "      <th>204</th>\n",
       "      <td>405</td>\n",
       "      <td>379</td>\n",
       "      <td>386</td>\n",
       "    </tr>\n",
       "    <tr>\n",
       "      <th>68</th>\n",
       "      <td>412</td>\n",
       "      <td>372</td>\n",
       "      <td>386</td>\n",
       "    </tr>\n",
       "    <tr>\n",
       "      <th>145</th>\n",
       "      <td>458</td>\n",
       "      <td>377</td>\n",
       "      <td>405</td>\n",
       "    </tr>\n",
       "    <tr>\n",
       "      <th>233</th>\n",
       "      <td>434</td>\n",
       "      <td>378</td>\n",
       "      <td>395</td>\n",
       "    </tr>\n",
       "    <tr>\n",
       "      <th>257</th>\n",
       "      <td>418</td>\n",
       "      <td>381</td>\n",
       "      <td>351</td>\n",
       "    </tr>\n",
       "    <tr>\n",
       "      <th>244</th>\n",
       "      <td>424</td>\n",
       "      <td>377</td>\n",
       "      <td>398</td>\n",
       "    </tr>\n",
       "    <tr>\n",
       "      <th>278</th>\n",
       "      <td>437</td>\n",
       "      <td>378</td>\n",
       "      <td>405</td>\n",
       "    </tr>\n",
       "    <tr>\n",
       "      <th>270</th>\n",
       "      <td>433</td>\n",
       "      <td>371</td>\n",
       "      <td>405</td>\n",
       "    </tr>\n",
       "    <tr>\n",
       "      <th>193</th>\n",
       "      <td>433</td>\n",
       "      <td>371</td>\n",
       "      <td>385</td>\n",
       "    </tr>\n",
       "    <tr>\n",
       "      <th>149</th>\n",
       "      <td>427</td>\n",
       "      <td>375</td>\n",
       "      <td>394</td>\n",
       "    </tr>\n",
       "    <tr>\n",
       "      <th>125</th>\n",
       "      <td>426</td>\n",
       "      <td>373</td>\n",
       "      <td>382</td>\n",
       "    </tr>\n",
       "    <tr>\n",
       "      <th>289</th>\n",
       "      <td>421</td>\n",
       "      <td>379</td>\n",
       "      <td>425</td>\n",
       "    </tr>\n",
       "  </tbody>\n",
       "</table>\n",
       "</div>"
      ],
      "text/plain": [
       "      S1   S2   S3\n",
       "5    442  370  392\n",
       "81   426  375  387\n",
       "170  424  370  403\n",
       "232  431  370  389\n",
       "280  425  368  428\n",
       "216  435  370  396\n",
       "159  431  368  390\n",
       "102  424  373  389\n",
       "283  424  369  415\n",
       "163  424  366  395\n",
       "80   426  377  400\n",
       "150  425  372  392\n",
       "69   432  368  380\n",
       "230  413  370  393\n",
       "192  425  368  415\n",
       "191  436  369  387\n",
       "63   436  378  395\n",
       "252  426  380  413\n",
       "39   449  378  389\n",
       "202  406  375  399\n",
       "287  432  386  430\n",
       "103  425  383  384\n",
       "13   428  370  405\n",
       "41   441  368  388\n",
       "108  420  377  387\n",
       "118  430  370  399\n",
       "87   438  373  388\n",
       "86   438  380  395\n",
       "58   408  384  399\n",
       "36   415  371  387\n",
       "212  445  371  399\n",
       "158  430  374  390\n",
       "40   430  370  392\n",
       "169  413  365  398\n",
       "250  419  370  401\n",
       "140  444  378  390\n",
       "10   436  377  387\n",
       "229  432  377  402\n",
       "204  405  379  386\n",
       "68   412  372  386\n",
       "145  458  377  405\n",
       "233  434  378  395\n",
       "257  418  381  351\n",
       "244  424  377  398\n",
       "278  437  378  405\n",
       "270  433  371  405\n",
       "193  433  371  385\n",
       "149  427  375  394\n",
       "125  426  373  382\n",
       "289  421  379  425"
      ]
     },
     "execution_count": 19,
     "metadata": {},
     "output_type": "execute_result"
    }
   ],
   "source": [
    "df50"
   ]
  },
  {
   "cell_type": "code",
   "execution_count": 20,
   "id": "e45f429f",
   "metadata": {},
   "outputs": [
    {
     "data": {
      "text/html": [
       "<div>\n",
       "<style scoped>\n",
       "    .dataframe tbody tr th:only-of-type {\n",
       "        vertical-align: middle;\n",
       "    }\n",
       "\n",
       "    .dataframe tbody tr th {\n",
       "        vertical-align: top;\n",
       "    }\n",
       "\n",
       "    .dataframe thead th {\n",
       "        text-align: right;\n",
       "    }\n",
       "</style>\n",
       "<table border=\"1\" class=\"dataframe\">\n",
       "  <thead>\n",
       "    <tr style=\"text-align: right;\">\n",
       "      <th></th>\n",
       "      <th>S1</th>\n",
       "      <th>S2</th>\n",
       "      <th>S3</th>\n",
       "    </tr>\n",
       "  </thead>\n",
       "  <tbody>\n",
       "    <tr>\n",
       "      <th>count</th>\n",
       "      <td>50.000000</td>\n",
       "      <td>50.00000</td>\n",
       "      <td>50.000000</td>\n",
       "    </tr>\n",
       "    <tr>\n",
       "      <th>mean</th>\n",
       "      <td>428.240000</td>\n",
       "      <td>373.78000</td>\n",
       "      <td>395.700000</td>\n",
       "    </tr>\n",
       "    <tr>\n",
       "      <th>std</th>\n",
       "      <td>10.737233</td>\n",
       "      <td>4.94166</td>\n",
       "      <td>13.027835</td>\n",
       "    </tr>\n",
       "    <tr>\n",
       "      <th>min</th>\n",
       "      <td>405.000000</td>\n",
       "      <td>365.00000</td>\n",
       "      <td>351.000000</td>\n",
       "    </tr>\n",
       "    <tr>\n",
       "      <th>25%</th>\n",
       "      <td>424.000000</td>\n",
       "      <td>370.00000</td>\n",
       "      <td>388.000000</td>\n",
       "    </tr>\n",
       "    <tr>\n",
       "      <th>50%</th>\n",
       "      <td>427.500000</td>\n",
       "      <td>373.00000</td>\n",
       "      <td>394.500000</td>\n",
       "    </tr>\n",
       "    <tr>\n",
       "      <th>75%</th>\n",
       "      <td>434.750000</td>\n",
       "      <td>377.75000</td>\n",
       "      <td>400.750000</td>\n",
       "    </tr>\n",
       "    <tr>\n",
       "      <th>max</th>\n",
       "      <td>458.000000</td>\n",
       "      <td>386.00000</td>\n",
       "      <td>430.000000</td>\n",
       "    </tr>\n",
       "  </tbody>\n",
       "</table>\n",
       "</div>"
      ],
      "text/plain": [
       "               S1         S2          S3\n",
       "count   50.000000   50.00000   50.000000\n",
       "mean   428.240000  373.78000  395.700000\n",
       "std     10.737233    4.94166   13.027835\n",
       "min    405.000000  365.00000  351.000000\n",
       "25%    424.000000  370.00000  388.000000\n",
       "50%    427.500000  373.00000  394.500000\n",
       "75%    434.750000  377.75000  400.750000\n",
       "max    458.000000  386.00000  430.000000"
      ]
     },
     "execution_count": 20,
     "metadata": {},
     "output_type": "execute_result"
    }
   ],
   "source": [
    "df50.describe()"
   ]
  },
  {
   "cell_type": "code",
   "execution_count": 21,
   "id": "0a0f2ea8",
   "metadata": {},
   "outputs": [
    {
     "name": "stderr",
     "output_type": "stream",
     "text": [
      "C:\\Users\\Manjusha\\AppData\\Local\\Temp\\ipykernel_31056\\576161523.py:4: DeprecationWarning: Use of keyword argument `alpha` for method `interval` is deprecated. Use first positional argument or keyword argument `confidence` instead.\n",
      "  st.t.interval(alpha=0.90,\n"
     ]
    },
    {
     "data": {
      "text/plain": [
       "(425.69420107385275, 430.78579892614727)"
      ]
     },
     "execution_count": 21,
     "metadata": {},
     "output_type": "execute_result"
    }
   ],
   "source": [
    "#○\tCompute the upper and the lower bounds with confidence intervals 90%, 95%, 99%.\n",
    "import scipy.stats as st\n",
    "\n",
    "s1array=np.array(df50[\"S1\"])\n",
    "st.t.interval(alpha=0.90,\n",
    "              df=len(s1array)-1,\n",
    "              loc=np.mean(s1array), \n",
    "              scale=st.sem(s1array))"
   ]
  },
  {
   "cell_type": "code",
   "execution_count": 22,
   "id": "ccc33f5b",
   "metadata": {},
   "outputs": [
    {
     "name": "stderr",
     "output_type": "stream",
     "text": [
      "C:\\Users\\Manjusha\\AppData\\Local\\Temp\\ipykernel_31056\\3223906550.py:1: DeprecationWarning: Use of keyword argument `alpha` for method `interval` is deprecated. Use first positional argument or keyword argument `confidence` instead.\n",
      "  st.t.interval(alpha=0.95,\n"
     ]
    },
    {
     "data": {
      "text/plain": [
       "(425.1885122708483, 431.2914877291517)"
      ]
     },
     "execution_count": 22,
     "metadata": {},
     "output_type": "execute_result"
    }
   ],
   "source": [
    "st.t.interval(alpha=0.95,\n",
    "              df=len(s1array)-1,\n",
    "              loc=np.mean(s1array), \n",
    "              scale=st.sem(s1array))"
   ]
  },
  {
   "cell_type": "code",
   "execution_count": 23,
   "id": "e6742bb6",
   "metadata": {},
   "outputs": [
    {
     "name": "stderr",
     "output_type": "stream",
     "text": [
      "C:\\Users\\Manjusha\\AppData\\Local\\Temp\\ipykernel_31056\\1224334438.py:1: DeprecationWarning: Use of keyword argument `alpha` for method `interval` is deprecated. Use first positional argument or keyword argument `confidence` instead.\n",
      "  st.t.interval(alpha=0.99,\n"
     ]
    },
    {
     "data": {
      "text/plain": [
       "(424.17056262741454, 432.3094373725855)"
      ]
     },
     "execution_count": 23,
     "metadata": {},
     "output_type": "execute_result"
    }
   ],
   "source": [
    "st.t.interval(alpha=0.99,\n",
    "              df=len(s1array)-1,\n",
    "              loc=np.mean(s1array), \n",
    "              scale=st.sem(s1array))"
   ]
  },
  {
   "cell_type": "code",
   "execution_count": 24,
   "id": "07e8cd0b",
   "metadata": {},
   "outputs": [
    {
     "name": "stderr",
     "output_type": "stream",
     "text": [
      "C:\\Users\\Manjusha\\AppData\\Local\\Temp\\ipykernel_31056\\3223906550.py:1: DeprecationWarning: Use of keyword argument `alpha` for method `interval` is deprecated. Use first positional argument or keyword argument `confidence` instead.\n",
      "  st.t.interval(alpha=0.95,\n"
     ]
    },
    {
     "data": {
      "text/plain": [
       "(425.1885122708483, 431.2914877291517)"
      ]
     },
     "execution_count": 24,
     "metadata": {},
     "output_type": "execute_result"
    }
   ],
   "source": [
    "st.t.interval(alpha=0.95,\n",
    "              df=len(s1array)-1,\n",
    "              loc=np.mean(s1array), \n",
    "              scale=st.sem(s1array))"
   ]
  },
  {
   "cell_type": "code",
   "execution_count": 29,
   "id": "45d90c2d",
   "metadata": {},
   "outputs": [
    {
     "data": {
      "text/plain": [
       "S1    428.24\n",
       "S2    373.78\n",
       "S3    395.70\n",
       "dtype: float64"
      ]
     },
     "execution_count": 29,
     "metadata": {},
     "output_type": "execute_result"
    }
   ],
   "source": [
    "#\tCompare the population means of each sample with the estimated one given the samples\n",
    "df50.mean()"
   ]
  },
  {
   "cell_type": "code",
   "execution_count": 28,
   "id": "953516ba",
   "metadata": {},
   "outputs": [
    {
     "data": {
      "text/plain": [
       "399.24"
      ]
     },
     "execution_count": 28,
     "metadata": {},
     "output_type": "execute_result"
    }
   ],
   "source": [
    "estimated_mean = (df50['S1'].mean() + df50['S2'].mean() +df50['S3'].mean()) / 3\n",
    "estimated_mean"
   ]
  },
  {
   "cell_type": "code",
   "execution_count": 30,
   "id": "d75dd1e5",
   "metadata": {},
   "outputs": [
    {
     "name": "stdout",
     "output_type": "stream",
     "text": [
      "S1    29.00\n",
      "S2   -25.46\n",
      "S3    -3.54\n",
      "dtype: float64\n"
     ]
    }
   ],
   "source": [
    "print(df50.mean()-estimated_mean)"
   ]
  },
  {
   "attachments": {},
   "cell_type": "markdown",
   "id": "2ec593b3",
   "metadata": {},
   "source": [
    "If the  difference is positive, the sample mean is higher than the estimated mean and vice versa."
   ]
  }
 ],
 "metadata": {
  "kernelspec": {
   "display_name": "Python 3 (ipykernel)",
   "language": "python",
   "name": "python3"
  },
  "language_info": {
   "codemirror_mode": {
    "name": "ipython",
    "version": 3
   },
   "file_extension": ".py",
   "mimetype": "text/x-python",
   "name": "python",
   "nbconvert_exporter": "python",
   "pygments_lexer": "ipython3",
   "version": "3.10.2"
  }
 },
 "nbformat": 4,
 "nbformat_minor": 5
}
