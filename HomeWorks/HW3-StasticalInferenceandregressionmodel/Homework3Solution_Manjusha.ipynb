{
 "cells": [
  {
   "attachments": {},
   "cell_type": "markdown",
   "id": "5015daa9",
   "metadata": {},
   "source": [
    "## Integrify Home work 3\n",
    "<h2>Monday 27 March, 2023 </h2>"
   ]
  },
  {
   "attachments": {},
   "cell_type": "markdown",
   "id": "7a3caa57",
   "metadata": {},
   "source": [
    "1.\tSuppose we have a dataset that shows the number of bedrooms and the selling price for 20 houses in a particular neighborhood\n",
    "Bedrooms = [1,1,1,2,2,2,2,3,3,3,3,3,3,3,4,4,4,5,5,6]\n",
    "Prices = \n",
    "[120,133,139,185,148,160,192,205,244,213,236,280,275,273,312,311,304,415,396,488]\n"
   ]
  },
  {
   "cell_type": "code",
   "execution_count": 64,
   "id": "274b0beb",
   "metadata": {},
   "outputs": [],
   "source": [
    "#Bedrooms list\n",
    "Bedrooms = [1,1,1,2,2,2,2,3,3,3,3,3,3,3,4,4,4,5,5,6]\n",
    "\n",
    "#Prices List\n",
    "Prices = [120,133,139,185,148,160,192,205,244,213,236,280,275,273,312,311,304,415,396,488]\n"
   ]
  },
  {
   "cell_type": "code",
   "execution_count": 65,
   "id": "5b7816b7",
   "metadata": {},
   "outputs": [
    {
     "data": {
      "text/plain": [
       "[1, 1, 1, 2, 2, 2, 2, 3, 3, 3, 3, 3, 3, 3, 4, 4, 4, 5, 5, 6]"
      ]
     },
     "execution_count": 65,
     "metadata": {},
     "output_type": "execute_result"
    }
   ],
   "source": [
    "Bedrooms"
   ]
  },
  {
   "cell_type": "code",
   "execution_count": 66,
   "id": "8be51835",
   "metadata": {},
   "outputs": [
    {
     "data": {
      "text/plain": [
       "[120,\n",
       " 133,\n",
       " 139,\n",
       " 185,\n",
       " 148,\n",
       " 160,\n",
       " 192,\n",
       " 205,\n",
       " 244,\n",
       " 213,\n",
       " 236,\n",
       " 280,\n",
       " 275,\n",
       " 273,\n",
       " 312,\n",
       " 311,\n",
       " 304,\n",
       " 415,\n",
       " 396,\n",
       " 488]"
      ]
     },
     "execution_count": 66,
     "metadata": {},
     "output_type": "execute_result"
    }
   ],
   "source": [
    "Prices"
   ]
  },
  {
   "attachments": {},
   "cell_type": "markdown",
   "id": "c5a43aa3",
   "metadata": {},
   "source": [
    "### 2. Using the Bedrooms data points:\n",
    "<ul>\n",
    "    <li>Extract a random sample of size 10</li>\n",
    "<li>Compute the mean and standard deviation of the sample</li>\n",
    "<li>Compute the the mean of the population</li>\n",
    "<li>Computer the confidence interval of 95% using the sample </li>\n",
    "<li>Check if the population mean lies between the upper and lower bounds of the interval</li>\n",
    "</ul>\n"
   ]
  },
  {
   "cell_type": "code",
   "execution_count": 67,
   "id": "b96c1e2f",
   "metadata": {},
   "outputs": [],
   "source": [
    "import numpy as np\n",
    "x=np.array(Bedrooms)\n",
    "y=np.array(Prices)"
   ]
  },
  {
   "cell_type": "code",
   "execution_count": 68,
   "id": "fc1d2178",
   "metadata": {},
   "outputs": [
    {
     "data": {
      "text/plain": [
       "array([1, 1, 1, 2, 2, 2, 2, 3, 3, 3, 3, 3, 3, 3, 4, 4, 4, 5, 5, 6])"
      ]
     },
     "execution_count": 68,
     "metadata": {},
     "output_type": "execute_result"
    }
   ],
   "source": [
    "x"
   ]
  },
  {
   "cell_type": "code",
   "execution_count": 69,
   "id": "05e2efb2",
   "metadata": {},
   "outputs": [
    {
     "data": {
      "text/plain": [
       "array([120, 133, 139, 185, 148, 160, 192, 205, 244, 213, 236, 280, 275,\n",
       "       273, 312, 311, 304, 415, 396, 488])"
      ]
     },
     "execution_count": 69,
     "metadata": {},
     "output_type": "execute_result"
    }
   ],
   "source": [
    "y"
   ]
  },
  {
   "cell_type": "code",
   "execution_count": 70,
   "id": "e2608195",
   "metadata": {},
   "outputs": [],
   "source": [
    "#Extract a random sample of size 10\n",
    "xsample=np.random.choice(x,10)"
   ]
  },
  {
   "cell_type": "code",
   "execution_count": 71,
   "id": "00758457",
   "metadata": {},
   "outputs": [
    {
     "data": {
      "text/plain": [
       "array([3, 4, 2, 2, 2, 5, 3, 2, 2, 5])"
      ]
     },
     "execution_count": 71,
     "metadata": {},
     "output_type": "execute_result"
    }
   ],
   "source": [
    "xsample"
   ]
  },
  {
   "cell_type": "code",
   "execution_count": 72,
   "id": "5a2b2c4d",
   "metadata": {},
   "outputs": [
    {
     "name": "stdout",
     "output_type": "stream",
     "text": [
      "Mean of the sample space is : 3.0\n"
     ]
    }
   ],
   "source": [
    "#Compute the mean and standard deviation of the sample\n",
    "print(\"Mean of the sample space is :\",xsample.mean())"
   ]
  },
  {
   "cell_type": "code",
   "execution_count": 73,
   "id": "72e353a0",
   "metadata": {},
   "outputs": [
    {
     "name": "stdout",
     "output_type": "stream",
     "text": [
      "The standard deviation of the sample space is : 1.2\n"
     ]
    }
   ],
   "source": [
    "print(\"The standard deviation of the sample space is :\",round(xsample.std(),1))"
   ]
  },
  {
   "cell_type": "code",
   "execution_count": 74,
   "id": "be622bc3",
   "metadata": {},
   "outputs": [
    {
     "name": "stdout",
     "output_type": "stream",
     "text": [
      "The mean of the population is :  3.0\n"
     ]
    }
   ],
   "source": [
    "#Compute the the mean of the population\n",
    "print(\"The mean of the population is : \",x.mean())"
   ]
  },
  {
   "cell_type": "code",
   "execution_count": 75,
   "id": "b46df6db",
   "metadata": {},
   "outputs": [
    {
     "name": "stderr",
     "output_type": "stream",
     "text": [
      "C:\\Users\\Manjusha\\AppData\\Local\\Temp\\ipykernel_31572\\3085385027.py:4: DeprecationWarning: Use of keyword argument `alpha` for method `interval` is deprecated. Use first positional argument or keyword argument `confidence` instead.\n",
      "  st.t.interval(alpha=0.95,\n"
     ]
    },
    {
     "data": {
      "text/plain": [
       "(2.107793182887602, 3.892206817112398)"
      ]
     },
     "execution_count": 75,
     "metadata": {},
     "output_type": "execute_result"
    }
   ],
   "source": [
    "import scipy.stats as st\n",
    "\n",
    "#Compute the confidence interval of 95% using the sample\n",
    "st.t.interval(alpha=0.95,\n",
    "              df=len(xsample)-1,\n",
    "              loc=np.mean(xsample), \n",
    "              scale=st.sem(xsample))"
   ]
  },
  {
   "cell_type": "code",
   "execution_count": 76,
   "id": "c4133ec7",
   "metadata": {},
   "outputs": [
    {
     "name": "stdout",
     "output_type": "stream",
     "text": [
      "Population mean lies between the upper and lower bounds of the interval\n"
     ]
    }
   ],
   "source": [
    "#Check if the population mean lies between the upper and lower bounds of the interval\n",
    "if x.mean() >= 1.8 and x.mean() <= 3.5:\n",
    "    print(\"Population mean lies between the upper and lower bounds of the interval\")\n",
    "else:\n",
    "     print(\"Population mean does not lie between the upper and lower bounds of the interval\")\n"
   ]
  },
  {
   "cell_type": "markdown",
   "id": "09e75775",
   "metadata": {},
   "source": [
    "### 3. Using both of the Bedrooms and the Prices:\n",
    "Compute the covariance and the correlation between the two variables\n",
    "Build a regression model and estimate the regression parameters (slope and intercept).\n",
    "Predict the house price for a house with 7 rooms\n",
    "Estimate the upper bound and the lower bounds of the prediction interval of a house with 7 rooms\n",
    "Alpha = 0.1\n",
    "N = 20\n",
    "Df = N-2\n",
    "\n",
    "\n",
    "Using as sample of houses that have only 3 bedrooms \n",
    "Try to find the lower price that can be payed for a house with 3 rooms using Tolerance interval\n",
    "Try  to find the highest price that can be payed for a house with 3 rooms using Tolerance interval\n"
   ]
  },
  {
   "cell_type": "code",
   "execution_count": 77,
   "id": "9375392c",
   "metadata": {},
   "outputs": [],
   "source": [
    "#Compute the covariance and the correlation between the two variables"
   ]
  },
  {
   "cell_type": "code",
   "execution_count": 78,
   "id": "547be855",
   "metadata": {},
   "outputs": [
    {
     "name": "stdout",
     "output_type": "stream",
     "text": [
      "The covariance between bedrooms and prices is\n"
     ]
    },
    {
     "data": {
      "text/plain": [
       "array([[1.89473684e+00, 1.33894737e+02],\n",
       "       [1.33894737e+02, 1.00161553e+04]])"
      ]
     },
     "execution_count": 78,
     "metadata": {},
     "output_type": "execute_result"
    }
   ],
   "source": [
    "print(\"The covariance between bedrooms and prices is\")\n",
    "np.cov(x,y)"
   ]
  },
  {
   "cell_type": "code",
   "execution_count": 79,
   "id": "823a825f",
   "metadata": {},
   "outputs": [
    {
     "name": "stdout",
     "output_type": "stream",
     "text": [
      "The correlation coeffecient between bedrooms and prices is \n"
     ]
    },
    {
     "data": {
      "text/plain": [
       "array([[1.        , 0.97193793],\n",
       "       [0.97193793, 1.        ]])"
      ]
     },
     "execution_count": 79,
     "metadata": {},
     "output_type": "execute_result"
    }
   ],
   "source": [
    "print(\"The correlation coeffecient between bedrooms and prices is \")\n",
    "np.corrcoef(x, y)"
   ]
  },
  {
   "cell_type": "code",
   "execution_count": 80,
   "id": "04f542a9",
   "metadata": {},
   "outputs": [
    {
     "data": {
      "text/html": [
       "<style>#sk-container-id-2 {color: black;background-color: white;}#sk-container-id-2 pre{padding: 0;}#sk-container-id-2 div.sk-toggleable {background-color: white;}#sk-container-id-2 label.sk-toggleable__label {cursor: pointer;display: block;width: 100%;margin-bottom: 0;padding: 0.3em;box-sizing: border-box;text-align: center;}#sk-container-id-2 label.sk-toggleable__label-arrow:before {content: \"▸\";float: left;margin-right: 0.25em;color: #696969;}#sk-container-id-2 label.sk-toggleable__label-arrow:hover:before {color: black;}#sk-container-id-2 div.sk-estimator:hover label.sk-toggleable__label-arrow:before {color: black;}#sk-container-id-2 div.sk-toggleable__content {max-height: 0;max-width: 0;overflow: hidden;text-align: left;background-color: #f0f8ff;}#sk-container-id-2 div.sk-toggleable__content pre {margin: 0.2em;color: black;border-radius: 0.25em;background-color: #f0f8ff;}#sk-container-id-2 input.sk-toggleable__control:checked~div.sk-toggleable__content {max-height: 200px;max-width: 100%;overflow: auto;}#sk-container-id-2 input.sk-toggleable__control:checked~label.sk-toggleable__label-arrow:before {content: \"▾\";}#sk-container-id-2 div.sk-estimator input.sk-toggleable__control:checked~label.sk-toggleable__label {background-color: #d4ebff;}#sk-container-id-2 div.sk-label input.sk-toggleable__control:checked~label.sk-toggleable__label {background-color: #d4ebff;}#sk-container-id-2 input.sk-hidden--visually {border: 0;clip: rect(1px 1px 1px 1px);clip: rect(1px, 1px, 1px, 1px);height: 1px;margin: -1px;overflow: hidden;padding: 0;position: absolute;width: 1px;}#sk-container-id-2 div.sk-estimator {font-family: monospace;background-color: #f0f8ff;border: 1px dotted black;border-radius: 0.25em;box-sizing: border-box;margin-bottom: 0.5em;}#sk-container-id-2 div.sk-estimator:hover {background-color: #d4ebff;}#sk-container-id-2 div.sk-parallel-item::after {content: \"\";width: 100%;border-bottom: 1px solid gray;flex-grow: 1;}#sk-container-id-2 div.sk-label:hover label.sk-toggleable__label {background-color: #d4ebff;}#sk-container-id-2 div.sk-serial::before {content: \"\";position: absolute;border-left: 1px solid gray;box-sizing: border-box;top: 0;bottom: 0;left: 50%;z-index: 0;}#sk-container-id-2 div.sk-serial {display: flex;flex-direction: column;align-items: center;background-color: white;padding-right: 0.2em;padding-left: 0.2em;position: relative;}#sk-container-id-2 div.sk-item {position: relative;z-index: 1;}#sk-container-id-2 div.sk-parallel {display: flex;align-items: stretch;justify-content: center;background-color: white;position: relative;}#sk-container-id-2 div.sk-item::before, #sk-container-id-2 div.sk-parallel-item::before {content: \"\";position: absolute;border-left: 1px solid gray;box-sizing: border-box;top: 0;bottom: 0;left: 50%;z-index: -1;}#sk-container-id-2 div.sk-parallel-item {display: flex;flex-direction: column;z-index: 1;position: relative;background-color: white;}#sk-container-id-2 div.sk-parallel-item:first-child::after {align-self: flex-end;width: 50%;}#sk-container-id-2 div.sk-parallel-item:last-child::after {align-self: flex-start;width: 50%;}#sk-container-id-2 div.sk-parallel-item:only-child::after {width: 0;}#sk-container-id-2 div.sk-dashed-wrapped {border: 1px dashed gray;margin: 0 0.4em 0.5em 0.4em;box-sizing: border-box;padding-bottom: 0.4em;background-color: white;}#sk-container-id-2 div.sk-label label {font-family: monospace;font-weight: bold;display: inline-block;line-height: 1.2em;}#sk-container-id-2 div.sk-label-container {text-align: center;}#sk-container-id-2 div.sk-container {/* jupyter's `normalize.less` sets `[hidden] { display: none; }` but bootstrap.min.css set `[hidden] { display: none !important; }` so we also need the `!important` here to be able to override the default hidden behavior on the sphinx rendered scikit-learn.org. See: https://github.com/scikit-learn/scikit-learn/issues/21755 */display: inline-block !important;position: relative;}#sk-container-id-2 div.sk-text-repr-fallback {display: none;}</style><div id=\"sk-container-id-2\" class=\"sk-top-container\"><div class=\"sk-text-repr-fallback\"><pre>LinearRegression()</pre><b>In a Jupyter environment, please rerun this cell to show the HTML representation or trust the notebook. <br />On GitHub, the HTML representation is unable to render, please try loading this page with nbviewer.org.</b></div><div class=\"sk-container\" hidden><div class=\"sk-item\"><div class=\"sk-estimator sk-toggleable\"><input class=\"sk-toggleable__control sk-hidden--visually\" id=\"sk-estimator-id-2\" type=\"checkbox\" checked><label for=\"sk-estimator-id-2\" class=\"sk-toggleable__label sk-toggleable__label-arrow\">LinearRegression</label><div class=\"sk-toggleable__content\"><pre>LinearRegression()</pre></div></div></div></div></div>"
      ],
      "text/plain": [
       "LinearRegression()"
      ]
     },
     "execution_count": 80,
     "metadata": {},
     "output_type": "execute_result"
    }
   ],
   "source": [
    "#Build a regression model and estimate the regression parameters (slope and intercept).\n",
    "from sklearn.linear_model import LinearRegression\n",
    "\n",
    "x=x.reshape((-1,1)) \n",
    "#call .reshape() on x because this array must be two-dimensional, or more precisely, \n",
    "#it must have one column and as many rows as necessary.\n",
    "\n",
    "model = LinearRegression()\n",
    "model.fit(x, y)\n",
    "\n"
   ]
  },
  {
   "cell_type": "code",
   "execution_count": 81,
   "id": "963dba61",
   "metadata": {},
   "outputs": [],
   "source": [
    "#obtain the coefficient of determination, 𝑅², with .score() called on model\n",
    "r_sq = model.score(x, y)"
   ]
  },
  {
   "cell_type": "code",
   "execution_count": 82,
   "id": "33df268c",
   "metadata": {},
   "outputs": [
    {
     "name": "stdout",
     "output_type": "stream",
     "text": [
      "intercept: 39.45000000000002\n"
     ]
    }
   ],
   "source": [
    "print(f\"intercept: {model.intercept_}\")"
   ]
  },
  {
   "cell_type": "code",
   "execution_count": 83,
   "id": "0380f563",
   "metadata": {},
   "outputs": [
    {
     "name": "stdout",
     "output_type": "stream",
     "text": [
      "slope: [70.66666667]\n"
     ]
    }
   ],
   "source": [
    "print(f\"slope: {model.coef_}\")"
   ]
  },
  {
   "cell_type": "code",
   "execution_count": 84,
   "id": "6e172e7b",
   "metadata": {},
   "outputs": [
    {
     "name": "stdout",
     "output_type": "stream",
     "text": [
      "predicted response:\n",
      "[110.11666667 110.11666667 110.11666667 180.78333333 180.78333333\n",
      " 180.78333333 180.78333333 251.45       251.45       251.45\n",
      " 251.45       251.45       251.45       251.45       322.11666667\n",
      " 322.11666667 322.11666667 392.78333333 392.78333333 463.45      ]\n"
     ]
    }
   ],
   "source": [
    "y_pred = model.predict(x)\n",
    "print(f\"predicted response:\\n{y_pred}\")"
   ]
  },
  {
   "cell_type": "code",
   "execution_count": 85,
   "id": "e2c5a990",
   "metadata": {},
   "outputs": [],
   "source": [
    "slope =model.coef_\n",
    "intercept =model.intercept_"
   ]
  },
  {
   "cell_type": "code",
   "execution_count": 86,
   "id": "94220da6",
   "metadata": {},
   "outputs": [
    {
     "name": "stdout",
     "output_type": "stream",
     "text": [
      "predicted response:\n",
      "[[110.11666667]\n",
      " [110.11666667]\n",
      " [110.11666667]\n",
      " [180.78333333]\n",
      " [180.78333333]\n",
      " [180.78333333]\n",
      " [180.78333333]\n",
      " [251.45      ]\n",
      " [251.45      ]\n",
      " [251.45      ]\n",
      " [251.45      ]\n",
      " [251.45      ]\n",
      " [251.45      ]\n",
      " [251.45      ]\n",
      " [322.11666667]\n",
      " [322.11666667]\n",
      " [322.11666667]\n",
      " [392.78333333]\n",
      " [392.78333333]\n",
      " [463.45      ]]\n"
     ]
    }
   ],
   "source": [
    "#predicting using intercept and slope (y=ax + b)\n",
    "y_pred = intercept + slope * x\n",
    "print(f\"predicted response:\\n{y_pred}\")"
   ]
  },
  {
   "cell_type": "code",
   "execution_count": 87,
   "id": "7fcb8743",
   "metadata": {},
   "outputs": [
    {
     "name": "stdout",
     "output_type": "stream",
     "text": [
      "The predicted price is  [534.11666667]\n"
     ]
    }
   ],
   "source": [
    "#Predict the house price for a house with 7 rooms\n",
    "y_pred = intercept + slope * 7\n",
    "print(\"The predicted price is \", y_pred)"
   ]
  },
  {
   "attachments": {},
   "cell_type": "markdown",
   "id": "0e57f450",
   "metadata": {},
   "source": [
    "Estimate the upper bound and the lower bounds of the prediction interval of a house with 7 rooms\n",
    "■\tAlpha = 0.1\n",
    "■\tN = 20\n",
    "■\tDf = N-2\n",
    "\n"
   ]
  },
  {
   "attachments": {
    "image.png": {
     "image/png": "[encoded data removed]"
    }
   },
   "cell_type": "markdown",
   "id": "50c9cf7f",
   "metadata": {},
   "source": [
    "A prediction interval is a quantification of the uncertainty on a prediction.\n",
    "\n",
    "It provides a probabilistic upper and lower bounds on the estimate of an outcome variable.\n",
    "![image.png](attachment:image.png)"
   ]
  },
  {
   "attachments": {},
   "cell_type": "markdown",
   "id": "200d0724",
   "metadata": {},
   "source": [
    "The following list summarizes some methods that can be used for prediction uncertainty for nonlinear machine learning models:\n",
    "\n",
    "The Delta Method, from the field of nonlinear regression.\n",
    "The Bayesian Method, from Bayesian modeling and statistics.\n",
    "The Mean-Variance Estimation Method, using estimated statistics.\n",
    "The Bootstrap Method, using data resampling and developing an ensemble of models."
   ]
  },
  {
   "cell_type": "code",
   "execution_count": 88,
   "id": "6b6876a5",
   "metadata": {},
   "outputs": [],
   "source": [
    "# calculate the prediction interval\n",
    "from scipy import stats\n",
    "\n",
    "def pred_int(x0, x, y, alpha=0.1):\n",
    "    n = 20\n",
    "    df = n-2\n",
    "    t = stats.t.ppf(1-alpha/2., df)\n",
    "    s = np.sqrt(np.sum((y - (intercept + slope*x))**2) / (n-2))\n",
    "    x_mean = np.mean(x)\n",
    "    x_sum_sq = np.sum((x-x_mean)**2)\n",
    "    return t * s * np.sqrt(1 + 1/n + (x0 - x_mean)**2 / x_sum_sq)\n"
   ]
  },
  {
   "cell_type": "code",
   "execution_count": 89,
   "id": "f0baf7c5",
   "metadata": {},
   "outputs": [
    {
     "name": "stdout",
     "output_type": "stream",
     "text": [
      "Prediction interval for x= 7 : ( [-825.23929128] [1893.47262461] )\n"
     ]
    }
   ],
   "source": [
    "x0 = 7\n",
    "y0 = intercept + slope*x0\n",
    "pi = pred_int(x0, x, y)\n",
    "\n",
    "print('Prediction interval for x=',x0,': (',y0-pi, y0+pi,')')"
   ]
  },
  {
   "cell_type": "code",
   "execution_count": 91,
   "id": "9b1fc584",
   "metadata": {},
   "outputs": [
    {
     "name": "stdout",
     "output_type": "stream",
     "text": [
      "\tThe predicted price of 7 bedrooms  534.1167 is within the interval  (-282.711, 1350.945)\n"
     ]
    }
   ],
   "source": [
    "from scipy.stats import t\n",
    "#Estimate the upper bound and the lower bounds of the prediction interval of a house with 7 rooms\n",
    "alpha =0.1\n",
    "N=20\n",
    "df = N-2\n",
    "broomcount = 7\n",
    "re_error= np.sqrt(np.square(y-y_pred).sum()/(N-2))\n",
    "s_error = re_error*((1+(1/N)+((np.square(broomcount-x.mean()))/(np.square(x-x.mean()).sum()))))\n",
    "#print(s_error)\n",
    "t_value = t.ppf(1-alpha/2,df=df)\n",
    "interval =t_value * s_error\n",
    "y_pred = model.predict(np.array([[broomcount]]))[0].round(4)\n",
    "lower_bound = round(y_pred - interval,4)\n",
    "upper_bound = round(y_pred + interval,4)\n",
    "\n",
    "#print(\"Lower bound of prediction interval for a house with 7 rooms:\", LP)\n",
    "#print(\"Upper bound of prediction interval for a house with 7 rooms:\", UP)\n",
    "print(f\"\\tThe predicted price of 7 bedrooms  {y_pred} is within the interval  ({lower_bound:.3f}, {upper_bound:.3f})\")"
   ]
  },
  {
   "attachments": {},
   "cell_type": "markdown",
   "id": "2e643761",
   "metadata": {},
   "source": [
    "4.\tUsing as sample of houses that have only 3 bedrooms "
   ]
  },
  {
   "cell_type": "code",
   "execution_count": null,
   "id": "11e74b34",
   "metadata": {},
   "outputs": [
    {
     "name": "stdout",
     "output_type": "stream",
     "text": [
      "[3 3 3 3 3 3 3]\n",
      "[205 244 213 236 280 275 273]\n",
      "The 95.0% confidence interval for the slope is (nan, nan)\n"
     ]
    },
    {
     "name": "stderr",
     "output_type": "stream",
     "text": [
      "C:\\Users\\Manjusha\\AppData\\Local\\Temp\\ipykernel_31572\\3194361255.py:11: RuntimeWarning: invalid value encountered in double_scalars\n",
      "  b1 = np.sum((x1 - np.mean(x1)) * (y1 - np.mean(y1))) / np.sum((x1 - np.mean(x1)) ** 2)\n"
     ]
    }
   ],
   "source": [
    "#Bedrooms list\n",
    "Bedrooms = [3,3,3,3,3,3,3]\n",
    "x1=np.array(Bedrooms)\n",
    "print(x1)\n",
    "#Prices List\n",
    "Prices = [205,244,213,236,280,275,273]\n",
    "y1=np.array(Prices)\n",
    "print(y1)\n",
    "# Define the function to calculate the tolerance interval\n",
    "# calculate the regression coefficients\n",
    "#b1 = np.sum((x1 - np.mean(x1)) * (y1 - np.mean(y1))) / np.sum((x1 - np.mean(x1)) ** 2)\n",
    "#b0 = np.mean(y1) - b1 * np.mean(x1)\n",
    "\n",
    "# calculate the residuals\n",
    "#residuals = y1 - (b0 + b1 * x1)\n",
    "\n",
    "# calculate the standard error of the regression\n",
    "#n = len(x1)\n",
    "#se = np.sqrt(np.sum(residuals ** 2) / (n - 2))  \n",
    "\n",
    "# calculate the standard error of the slope\n",
    "#se_b1 = se / np.sqrt(np.sum((x1 - np.mean(x1)) ** 2))\n",
    "\n",
    "# calculate the t-value for the desired confidence level\n",
    "#alpha = 0.05 # for a 95% confidence interval\n",
    "#t = stats.t.ppf(1 - alpha / 2, n - 2)\n",
    "\n",
    "# calculate the confidence interval for the slope\n",
    "#ci_lower = b1 - t * se_b1\n",
    "#ci_upper = b1 + t * se_b1\n",
    "\n",
    "#print(f\"The {100*(1-alpha)}% confidence interval for the slope is ({ci_lower:.3f}, {ci_upper:.3f})\")"
   ]
  },
  {
   "attachments": {},
   "cell_type": "markdown",
   "id": "377e6a21",
   "metadata": {},
   "source": [
    "5. Try to find the lower price that can be paid for a house with 3 rooms using Tolerance interval"
   ]
  },
  {
   "cell_type": "code",
   "execution_count": 93,
   "id": "0b5fa187",
   "metadata": {},
   "outputs": [
    {
     "name": "stdout",
     "output_type": "stream",
     "text": [
      "The lower price that can be paid for a house with 3 bedrooms is 220.42, which lies within the tolerance interval [220.42, 272.73].\n"
     ]
    }
   ],
   "source": [
    "alpha =0.05\n",
    "n = len(y1)\n",
    "df = n-1\n",
    "# Tolerance interval value \n",
    "k2 = 2.447 \n",
    "\n",
    "samp_mean=np.mean(y1)\n",
    "samp_std=np.std(y1)\n",
    "\n",
    "# Calculating the upper bound and lower bound\n",
    "LB = samp_mean - k2 *(samp_std/np.sqrt(n))\n",
    "UB = samp_mean + k2 *(samp_std/np.sqrt(n))\n",
    "\n",
    "print(f\"The lower price that can be paid for a house with 3 bedrooms is {LB:.2f}, which lies within the tolerance interval [{LB:.2f}, {UB:.2f}].\")"
   ]
  },
  {
   "attachments": {},
   "cell_type": "markdown",
   "id": "82cc14d4",
   "metadata": {},
   "source": [
    "6. Try  to find the highest price that can be paid for a house with 3 rooms using Tolerance interval"
   ]
  },
  {
   "cell_type": "code",
   "execution_count": null,
   "id": "489b60d6",
   "metadata": {},
   "outputs": [],
   "source": []
  },
  {
   "cell_type": "code",
   "execution_count": 94,
   "id": "93724e5d",
   "metadata": {},
   "outputs": [
    {
     "name": "stdout",
     "output_type": "stream",
     "text": [
      "The highest price that can be paid for a house with 3 bedrooms is 272.73, which lies within the tolerance interval [220.42, 272.73].\n"
     ]
    }
   ],
   "source": [
    "print(f\"The highest price that can be paid for a house with 3 bedrooms is {UB:.2f}, which lies within the tolerance interval [{LB:.2f}, {UB:.2f}].\")"
   ]
  }
 ],
 "metadata": {
  "kernelspec": {
   "display_name": "Python 3 (ipykernel)",
   "language": "python",
   "name": "python3"
  },
  "language_info": {
   "codemirror_mode": {
    "name": "ipython",
    "version": 3
   },
   "file_extension": ".py",
   "mimetype": "text/x-python",
   "name": "python",
   "nbconvert_exporter": "python",
   "pygments_lexer": "ipython3",
   "version": "3.10.2"
  }
 },
 "nbformat": 4,
 "nbformat_minor": 5
}
